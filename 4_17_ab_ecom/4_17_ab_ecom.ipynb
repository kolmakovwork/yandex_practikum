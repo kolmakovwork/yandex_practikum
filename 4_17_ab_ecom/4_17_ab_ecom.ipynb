{
 "cells": [
  {
   "cell_type": "markdown",
   "metadata": {},
   "source": [
    "### A/B-тест крупного интернет-магазина\n",
    "\n"
   ]
  },
  {
   "cell_type": "markdown",
   "metadata": {},
   "source": [
    "<img src='https://i.ibb.co/pnmkvGW/AB-santa.jpg' width=500, heigth=350>"
   ]
  },
  {
   "cell_type": "markdown",
   "metadata": {},
   "source": [
    "**Описание проекта**\n",
    "\n",
    "Вы — аналитик крупного интернет-магазина. Вместе с отделом маркетинга вы подготовили список гипотез для увеличения выручки.\n",
    "Приоритизируйте гипотезы, запустите A/B-тест и проанализируйте результаты.\n",
    "\n",
    "**Цели исследования:**\n",
    "1. Применить фреймворк ICE для приоритизации гипотез\n",
    "2. Применить фреймворк RICE для приоритизации гипотез\n",
    "3. Сравнить приоритизацию гипотез RICE vs ICE\n",
    "4. Построить график кумулятивной выручки по группам. Сделать выводы и предположения.\n",
    "5. Построить график кумулятивного среднего чека по группам. Сделать выводы и предположения.\n",
    "6. Построить график относительного изменения кумулятивного среднего чека группы B к группе A. Сделать выводы и предположения.\n",
    "7. Построить график кумулятивного среднего количества заказов на посетителя по группам. Сделать выводы и предположения.\n",
    "8. Построить график относительного изменения кумулятивного среднего количества заказов на посетителя группы B к группе A. Сделать выводы и предположения.\n",
    "9. Построить точечный график количества заказов по пользователям. Сделать выводы и предположения.\n",
    "10. Посчитать 95-й и 99-й перцентили количества заказов на пользователя. Выбрать границу для определения аномальных пользователей.\n",
    "11. Построить точечный график стоимостей заказов. Сделать выводы и предположения.\n",
    "12. Посчитать 95-й и 99-й перцентили стоимости заказов. Выберать границу для определения аномальных заказов.\n",
    "13. Посчитать статистическую значимость различий в среднем количестве заказов на посетителя между группами по «сырым» данным. Сделать выводы и предположения.\n",
    "14. Посчитать статистическую значимость различий в среднем чеке заказа между группами по «сырым» данным. Сделать выводы и предположения.\n",
    "15. Посчитать статистическую значимость различий в среднем количестве заказов на посетителя между группами по «очищенным» данным. Сделать выводы и предположения.\n",
    "16. Посчитать статистическую значимость различий в среднем чеке заказа между группами по «очищенным» данным. Сделать выводы и предположения.\n",
    "17. Принять решение по результатам теста и объяснить его. Варианты решений: \n",
    "    * 1. Остановить тест, зафиксировать победу одной из групп. \n",
    "    * 2. Остановить тест, зафиксировать отсутствие различий между группами. \n",
    "    * 3. Продолжить тест.\n",
    "\n",
    "**Ход исследования:**\n",
    "\n",
    "Моё исследование пройдет в несколько этапов:\n",
    "* Загружу данные, файл '/datasets/hypothesis.csv' - 9 гипотез по увеличению выручки интернет-магазина с указанными параметрами Reach, Impact, Confidence, Effor\n",
    "* и из файлов '/datasets/orders.csv' (заказы) и '/datasets/visitors.csv' (посетители) -результаты A/B-теста\n",
    "* Обзор данных, посмотрю их качество\n",
    "* Предобработка данных (проверка типов данных, проверка на пропуски и их заполнение или удаление, проверка категориальных значений, проверка на аномальные значения, проверка на дубликаты)\n",
    "* Расчеты и добавление новых столбцов-результатов в таблицы\n",
    "* Проведение анализа по целям исследования\n",
    "* Написание общего вывода"
   ]
  },
  {
   "cell_type": "markdown",
   "metadata": {},
   "source": [
    "## 1. Загрузка данных"
   ]
  },
  {
   "cell_type": "markdown",
   "metadata": {},
   "source": [
    "### 1.1 Импортируем библиотеки, откроем csv"
   ]
  },
  {
   "cell_type": "code",
   "execution_count": 1,
   "metadata": {},
   "outputs": [],
   "source": [
    "import pandas as pd\n",
    "# сбросим ограничение на кол-во символов ячейке\n",
    "pd.set_option('display.max_colwidth', None)\n",
    "\n",
    "import numpy as np\n",
    "\n",
    "import matplotlib.pyplot as plt\n",
    "# magic function, отображает фигуру в блокноте рядом с кодом:\n",
    "%matplotlib inline\n",
    "# matplotlib/plot, графики с высоким разрешением:\n",
    "%config InlineBackend.figure_format='retina'\n",
    "\n",
    "from pandas.plotting import register_matplotlib_converters\n",
    "# конвертеры, которые позволяют использовать типы pandas в matplotlib  \n",
    "register_matplotlib_converters()\n",
    "\n",
    "import scipy.stats as stats\n",
    "import datetime as dt"
   ]
  },
  {
   "cell_type": "code",
   "execution_count": 2,
   "metadata": {},
   "outputs": [],
   "source": [
    "# откроем файл *.csv\n",
    "try:\n",
    "    hypothesis = pd.read_csv('hypothesis.csv')\n",
    "    orders = pd.read_csv('orders.csv')\n",
    "    visitors = pd.read_csv('visitors.csv')\n",
    "except:\n",
    "    from google.colab import drive\n",
    "    drive.mount('/content/drive')\n",
    "    hypothesis = pd.read_csv('/datasets/hypothesis.csv')\n",
    "    orders = read_csv('/datasets/orders.csv')\n",
    "    visitors = read_csv('/datasets/visitors.csv')    "
   ]
  },
  {
   "cell_type": "markdown",
   "metadata": {},
   "source": [
    "### 1.2 Основная инфа о дф"
   ]
  },
  {
   "cell_type": "code",
   "execution_count": 3,
   "metadata": {
    "tags": []
   },
   "outputs": [
    {
     "name": "stdout",
     "output_type": "stream",
     "text": [
      "<class 'pandas.core.frame.DataFrame'>\n",
      "RangeIndex: 9 entries, 0 to 8\n",
      "Data columns (total 5 columns):\n",
      " #   Column      Non-Null Count  Dtype \n",
      "---  ------      --------------  ----- \n",
      " 0   Hypothesis  9 non-null      object\n",
      " 1   Reach       9 non-null      int64 \n",
      " 2   Impact      9 non-null      int64 \n",
      " 3   Confidence  9 non-null      int64 \n",
      " 4   Efforts     9 non-null      int64 \n",
      "dtypes: int64(4), object(1)\n",
      "memory usage: 488.0+ bytes\n"
     ]
    },
    {
     "data": {
      "text/plain": [
       "None"
      ]
     },
     "metadata": {},
     "output_type": "display_data"
    },
    {
     "data": {
      "text/html": [
       "<div>\n",
       "<style scoped>\n",
       "    .dataframe tbody tr th:only-of-type {\n",
       "        vertical-align: middle;\n",
       "    }\n",
       "\n",
       "    .dataframe tbody tr th {\n",
       "        vertical-align: top;\n",
       "    }\n",
       "\n",
       "    .dataframe thead th {\n",
       "        text-align: right;\n",
       "    }\n",
       "</style>\n",
       "<table border=\"1\" class=\"dataframe\">\n",
       "  <thead>\n",
       "    <tr style=\"text-align: right;\">\n",
       "      <th></th>\n",
       "      <th>Hypothesis</th>\n",
       "      <th>Reach</th>\n",
       "      <th>Impact</th>\n",
       "      <th>Confidence</th>\n",
       "      <th>Efforts</th>\n",
       "    </tr>\n",
       "  </thead>\n",
       "  <tbody>\n",
       "    <tr>\n",
       "      <th>0</th>\n",
       "      <td>Добавить два новых канала привлечения трафика, что позволит привлекать на 30% больше пользователей</td>\n",
       "      <td>3</td>\n",
       "      <td>10</td>\n",
       "      <td>8</td>\n",
       "      <td>6</td>\n",
       "    </tr>\n",
       "  </tbody>\n",
       "</table>\n",
       "</div>"
      ],
      "text/plain": [
       "                                                                                           Hypothesis  \\\n",
       "0  Добавить два новых канала привлечения трафика, что позволит привлекать на 30% больше пользователей   \n",
       "\n",
       "   Reach  Impact  Confidence  Efforts  \n",
       "0      3      10           8        6  "
      ]
     },
     "execution_count": 3,
     "metadata": {},
     "output_type": "execute_result"
    }
   ],
   "source": [
    "display(hypothesis.info())\n",
    "hypothesis.head(1)"
   ]
  },
  {
   "cell_type": "code",
   "execution_count": 4,
   "metadata": {},
   "outputs": [
    {
     "name": "stdout",
     "output_type": "stream",
     "text": [
      "<class 'pandas.core.frame.DataFrame'>\n",
      "RangeIndex: 1197 entries, 0 to 1196\n",
      "Data columns (total 5 columns):\n",
      " #   Column         Non-Null Count  Dtype \n",
      "---  ------         --------------  ----- \n",
      " 0   transactionId  1197 non-null   int64 \n",
      " 1   visitorId      1197 non-null   int64 \n",
      " 2   date           1197 non-null   object\n",
      " 3   revenue        1197 non-null   int64 \n",
      " 4   group          1197 non-null   object\n",
      "dtypes: int64(3), object(2)\n",
      "memory usage: 46.9+ KB\n"
     ]
    },
    {
     "data": {
      "text/plain": [
       "None"
      ]
     },
     "metadata": {},
     "output_type": "display_data"
    },
    {
     "data": {
      "text/html": [
       "<div>\n",
       "<style scoped>\n",
       "    .dataframe tbody tr th:only-of-type {\n",
       "        vertical-align: middle;\n",
       "    }\n",
       "\n",
       "    .dataframe tbody tr th {\n",
       "        vertical-align: top;\n",
       "    }\n",
       "\n",
       "    .dataframe thead th {\n",
       "        text-align: right;\n",
       "    }\n",
       "</style>\n",
       "<table border=\"1\" class=\"dataframe\">\n",
       "  <thead>\n",
       "    <tr style=\"text-align: right;\">\n",
       "      <th></th>\n",
       "      <th>transactionId</th>\n",
       "      <th>visitorId</th>\n",
       "      <th>date</th>\n",
       "      <th>revenue</th>\n",
       "      <th>group</th>\n",
       "    </tr>\n",
       "  </thead>\n",
       "  <tbody>\n",
       "    <tr>\n",
       "      <th>0</th>\n",
       "      <td>3667963787</td>\n",
       "      <td>3312258926</td>\n",
       "      <td>2019-08-15</td>\n",
       "      <td>1650</td>\n",
       "      <td>B</td>\n",
       "    </tr>\n",
       "  </tbody>\n",
       "</table>\n",
       "</div>"
      ],
      "text/plain": [
       "   transactionId   visitorId        date  revenue group\n",
       "0     3667963787  3312258926  2019-08-15     1650     B"
      ]
     },
     "execution_count": 4,
     "metadata": {},
     "output_type": "execute_result"
    }
   ],
   "source": [
    "display(orders.info())\n",
    "orders.head(1)"
   ]
  },
  {
   "cell_type": "code",
   "execution_count": 5,
   "metadata": {},
   "outputs": [
    {
     "name": "stdout",
     "output_type": "stream",
     "text": [
      "<class 'pandas.core.frame.DataFrame'>\n",
      "RangeIndex: 62 entries, 0 to 61\n",
      "Data columns (total 3 columns):\n",
      " #   Column    Non-Null Count  Dtype \n",
      "---  ------    --------------  ----- \n",
      " 0   date      62 non-null     object\n",
      " 1   group     62 non-null     object\n",
      " 2   visitors  62 non-null     int64 \n",
      "dtypes: int64(1), object(2)\n",
      "memory usage: 1.6+ KB\n"
     ]
    },
    {
     "data": {
      "text/plain": [
       "None"
      ]
     },
     "metadata": {},
     "output_type": "display_data"
    },
    {
     "data": {
      "text/html": [
       "<div>\n",
       "<style scoped>\n",
       "    .dataframe tbody tr th:only-of-type {\n",
       "        vertical-align: middle;\n",
       "    }\n",
       "\n",
       "    .dataframe tbody tr th {\n",
       "        vertical-align: top;\n",
       "    }\n",
       "\n",
       "    .dataframe thead th {\n",
       "        text-align: right;\n",
       "    }\n",
       "</style>\n",
       "<table border=\"1\" class=\"dataframe\">\n",
       "  <thead>\n",
       "    <tr style=\"text-align: right;\">\n",
       "      <th></th>\n",
       "      <th>date</th>\n",
       "      <th>group</th>\n",
       "      <th>visitors</th>\n",
       "    </tr>\n",
       "  </thead>\n",
       "  <tbody>\n",
       "    <tr>\n",
       "      <th>0</th>\n",
       "      <td>2019-08-01</td>\n",
       "      <td>A</td>\n",
       "      <td>719</td>\n",
       "    </tr>\n",
       "  </tbody>\n",
       "</table>\n",
       "</div>"
      ],
      "text/plain": [
       "         date group  visitors\n",
       "0  2019-08-01     A       719"
      ]
     },
     "execution_count": 5,
     "metadata": {},
     "output_type": "execute_result"
    }
   ],
   "source": [
    "display(visitors.info())\n",
    "visitors.head(1)"
   ]
  },
  {
   "cell_type": "code",
   "execution_count": 6,
   "metadata": {},
   "outputs": [
    {
     "data": {
      "image/png": "[encoded data removed]",
      "text/plain": [
       "<Figure size 720x720 with 4 Axes>"
      ]
     },
     "metadata": {
      "image/png": {
       "height": 602,
       "width": 605
      },
      "needs_background": "light"
     },
     "output_type": "display_data"
    },
    {
     "data": {
      "image/png": "[encoded data removed]",
      "text/plain": [
       "<Figure size 360x360 with 1 Axes>"
      ]
     },
     "metadata": {
      "image/png": {
       "height": 318,
       "width": 306
      },
      "needs_background": "light"
     },
     "output_type": "display_data"
    }
   ],
   "source": [
    "# построим гистограммы по всем числовым столбцам, чтобы сразу посмостеть выбросы\n",
    "orders.hist(bins=50, figsize=(10,10))\n",
    "visitors.hist(bins=50, figsize=(5,5))\n",
    "plt.show()"
   ]
  },
  {
   "cell_type": "markdown",
   "metadata": {},
   "source": [
    "Есть выбросы в revenue(доход), основные данные распределены в начале"
   ]
  },
  {
   "cell_type": "markdown",
   "metadata": {},
   "source": [
    "## 2. Предобработка данных\n",
    "Пропусков по info нет, надо только обработать формат даты"
   ]
  },
  {
   "cell_type": "markdown",
   "metadata": {},
   "source": [
    "### 2.1. Преобразуем типы данных"
   ]
  },
  {
   "cell_type": "code",
   "execution_count": 7,
   "metadata": {},
   "outputs": [],
   "source": [
    "orders['date'] = orders['date'].map(lambda x: dt.datetime.strptime(x, '%Y-%m-%d'))\n",
    "visitors['date'] = visitors['date'].map(lambda x: dt.datetime.strptime(x, '%Y-%m-%d'))"
   ]
  },
  {
   "cell_type": "markdown",
   "metadata": {},
   "source": [
    "### 2.2. Проверка на дубликаты и качество данных"
   ]
  },
  {
   "cell_type": "code",
   "execution_count": 8,
   "metadata": {},
   "outputs": [
    {
     "data": {
      "text/plain": [
       "0"
      ]
     },
     "metadata": {},
     "output_type": "display_data"
    },
    {
     "data": {
      "text/plain": [
       "0"
      ]
     },
     "metadata": {},
     "output_type": "display_data"
    }
   ],
   "source": [
    "# проверим явные дубликаты всех строк\n",
    "display(orders.duplicated().sum())\n",
    "display(visitors.duplicated().sum())"
   ]
  },
  {
   "cell_type": "markdown",
   "metadata": {},
   "source": [
    "Явных дубликатов нет."
   ]
  },
  {
   "cell_type": "code",
   "execution_count": 9,
   "metadata": {
    "tags": []
   },
   "outputs": [
    {
     "name": "stdout",
     "output_type": "stream",
     "text": [
      "date      \n",
      "2019-08-01    45\n",
      "2019-08-02    44\n",
      "2019-08-03    40\n",
      "2019-08-04    33\n",
      "2019-08-05    48\n",
      "dtype: int64 date      \n",
      "2019-08-27    44\n",
      "2019-08-28    45\n",
      "2019-08-29    42\n",
      "2019-08-30    35\n",
      "2019-08-31    32\n",
      "dtype: int64\n",
      "date      \n",
      "2019-08-01    2\n",
      "2019-08-02    2\n",
      "2019-08-03    2\n",
      "2019-08-04    2\n",
      "2019-08-05    2\n",
      "dtype: int64 date      \n",
      "2019-08-27    2\n",
      "2019-08-28    2\n",
      "2019-08-29    2\n",
      "2019-08-30    2\n",
      "2019-08-31    2\n",
      "dtype: int64\n"
     ]
    }
   ],
   "source": [
    "# проверим на дубликаты таблицу orders,visitors, где 62 строчки по инфо\n",
    "print(orders[['date']].value_counts().sort_index().head(),\n",
    "      orders[['date']].value_counts().sort_index().tail())\n",
    "print(visitors[['date']].value_counts().sort_index().head(),\n",
    "      visitors[['date']].value_counts().sort_index().tail())"
   ]
  },
  {
   "cell_type": "markdown",
   "metadata": {},
   "source": [
    "У нас данные за 1 месяц август с 1-31 день"
   ]
  },
  {
   "cell_type": "code",
   "execution_count": 10,
   "metadata": {
    "tags": []
   },
   "outputs": [
    {
     "name": "stdout",
     "output_type": "stream",
     "text": [
      "group\n",
      "B        640\n",
      "A        557\n",
      "dtype: int64\n"
     ]
    },
    {
     "data": {
      "text/plain": [
       "group\n",
       "A        31\n",
       "B        31\n",
       "dtype: int64"
      ]
     },
     "execution_count": 10,
     "metadata": {},
     "output_type": "execute_result"
    }
   ],
   "source": [
    "# проверим кол-во групп в таблице visitors\n",
    "print(orders[['group']].value_counts())\n",
    "visitors[['group']].value_counts()"
   ]
  },
  {
   "cell_type": "markdown",
   "metadata": {},
   "source": [
    "* В таблице visitors групп 2: А и В. Все ровно 50/50 по дням.\n",
    "* В таблице orders количество пользователей в группе B немного больше."
   ]
  },
  {
   "cell_type": "code",
   "execution_count": 11,
   "metadata": {
    "tags": []
   },
   "outputs": [
    {
     "data": {
      "text/plain": [
       "50         4\n",
       "60         2\n",
       "70         1\n",
       "75         1\n",
       "76         1\n",
       "          ..\n",
       "86620      1\n",
       "92550      1\n",
       "93940      1\n",
       "202740     1\n",
       "1294500    1\n",
       "Name: revenue, Length: 713, dtype: int64"
      ]
     },
     "execution_count": 11,
     "metadata": {},
     "output_type": "execute_result"
    }
   ],
   "source": [
    "orders['revenue'].value_counts().sort_index()"
   ]
  },
  {
   "cell_type": "markdown",
   "metadata": {},
   "source": [
    "Среди выручки заказов нет значения 0. Мин: 50, Макс: 1 294 500."
   ]
  },
  {
   "cell_type": "code",
   "execution_count": 12,
   "metadata": {},
   "outputs": [
    {
     "name": "stdout",
     "output_type": "stream",
     "text": [
      "1031\n"
     ]
    },
    {
     "data": {
      "text/plain": [
       "4256040402    11\n",
       "2458001652    11\n",
       "2378935119     9\n",
       "2038680547     8\n",
       "199603092      5\n",
       "              ..\n",
       "2406916810     1\n",
       "1255412427     1\n",
       "3866069709     1\n",
       "54447517       1\n",
       "3013339133     1\n",
       "Name: visitorId, Length: 1031, dtype: int64"
      ]
     },
     "execution_count": 12,
     "metadata": {},
     "output_type": "execute_result"
    }
   ],
   "source": [
    "# проверим кол-во уникальных аользователей в orders\n",
    "print(len(orders['visitorId'].value_counts()))\n",
    "orders['visitorId'].value_counts()"
   ]
  },
  {
   "cell_type": "code",
   "execution_count": 13,
   "metadata": {},
   "outputs": [
    {
     "data": {
      "text/plain": [
       "0"
      ]
     },
     "execution_count": 13,
     "metadata": {},
     "output_type": "execute_result"
    }
   ],
   "source": [
    "# проверим уникальность заказов\n",
    "orders['transactionId'].duplicated().sum()\n",
    "# все заказы уникальны"
   ]
  },
  {
   "cell_type": "code",
   "execution_count": 14,
   "metadata": {},
   "outputs": [
    {
     "data": {
      "text/html": [
       "<div>\n",
       "<style scoped>\n",
       "    .dataframe tbody tr th:only-of-type {\n",
       "        vertical-align: middle;\n",
       "    }\n",
       "\n",
       "    .dataframe tbody tr th {\n",
       "        vertical-align: top;\n",
       "    }\n",
       "\n",
       "    .dataframe thead th {\n",
       "        text-align: right;\n",
       "    }\n",
       "</style>\n",
       "<table border=\"1\" class=\"dataframe\">\n",
       "  <thead>\n",
       "    <tr style=\"text-align: right;\">\n",
       "      <th></th>\n",
       "      <th>visitorId</th>\n",
       "      <th>group</th>\n",
       "      <th>transactionId</th>\n",
       "    </tr>\n",
       "  </thead>\n",
       "  <tbody>\n",
       "    <tr>\n",
       "      <th>2</th>\n",
       "      <td>8300375</td>\n",
       "      <td>A</td>\n",
       "      <td>1</td>\n",
       "    </tr>\n",
       "    <tr>\n",
       "      <th>3</th>\n",
       "      <td>8300375</td>\n",
       "      <td>B</td>\n",
       "      <td>1</td>\n",
       "    </tr>\n",
       "    <tr>\n",
       "      <th>45</th>\n",
       "      <td>199603092</td>\n",
       "      <td>A</td>\n",
       "      <td>4</td>\n",
       "    </tr>\n",
       "    <tr>\n",
       "      <th>46</th>\n",
       "      <td>199603092</td>\n",
       "      <td>B</td>\n",
       "      <td>1</td>\n",
       "    </tr>\n",
       "    <tr>\n",
       "      <th>53</th>\n",
       "      <td>232979603</td>\n",
       "      <td>A</td>\n",
       "      <td>1</td>\n",
       "    </tr>\n",
       "    <tr>\n",
       "      <th>...</th>\n",
       "      <td>...</td>\n",
       "      <td>...</td>\n",
       "      <td>...</td>\n",
       "    </tr>\n",
       "    <tr>\n",
       "      <th>1065</th>\n",
       "      <td>4186807279</td>\n",
       "      <td>B</td>\n",
       "      <td>2</td>\n",
       "    </tr>\n",
       "    <tr>\n",
       "      <th>1079</th>\n",
       "      <td>4256040402</td>\n",
       "      <td>A</td>\n",
       "      <td>7</td>\n",
       "    </tr>\n",
       "    <tr>\n",
       "      <th>1080</th>\n",
       "      <td>4256040402</td>\n",
       "      <td>B</td>\n",
       "      <td>4</td>\n",
       "    </tr>\n",
       "    <tr>\n",
       "      <th>1083</th>\n",
       "      <td>4266935830</td>\n",
       "      <td>A</td>\n",
       "      <td>1</td>\n",
       "    </tr>\n",
       "    <tr>\n",
       "      <th>1084</th>\n",
       "      <td>4266935830</td>\n",
       "      <td>B</td>\n",
       "      <td>1</td>\n",
       "    </tr>\n",
       "  </tbody>\n",
       "</table>\n",
       "<p>116 rows × 3 columns</p>\n",
       "</div>"
      ],
      "text/plain": [
       "       visitorId group  transactionId\n",
       "2        8300375     A              1\n",
       "3        8300375     B              1\n",
       "45     199603092     A              4\n",
       "46     199603092     B              1\n",
       "53     232979603     A              1\n",
       "...          ...   ...            ...\n",
       "1065  4186807279     B              2\n",
       "1079  4256040402     A              7\n",
       "1080  4256040402     B              4\n",
       "1083  4266935830     A              1\n",
       "1084  4266935830     B              1\n",
       "\n",
       "[116 rows x 3 columns]"
      ]
     },
     "metadata": {},
     "output_type": "display_data"
    },
    {
     "data": {
      "text/plain": [
       "58"
      ]
     },
     "execution_count": 14,
     "metadata": {},
     "output_type": "execute_result"
    }
   ],
   "source": [
    "# Проверим не попадают ли какие-то пользователи в обе группы - по таблице с заказами\n",
    "id_ab = orders.groupby(['visitorId', 'group'])[['transactionId']].count().reset_index()\n",
    "filter_id_ab = id_ab[id_ab.groupby('visitorId')['group'].transform('nunique') > 1]\n",
    "display(filter_id_ab)\n",
    "# посчитаем их кол-во\n",
    "filter_id_ab['visitorId'].nunique()"
   ]
  },
  {
   "cell_type": "markdown",
   "metadata": {},
   "source": [
    "Есть 58 из 1031 уникальных пользователей которые попали и в группу А и в группу В в дф orders. Из 1197 посещений было 116 таких строк, около 10%. Но из дф visitors мы не сможем удалить этих пользователей (потому что не сможем их отделить от общей стастистики), а эти таблицы связаны и будут обе использоваться. Поэтому можно их оставить чтобы не было расхождения."
   ]
  },
  {
   "cell_type": "markdown",
   "metadata": {},
   "source": [
    "## 3. Приоритизация гипотез (задач)"
   ]
  },
  {
   "cell_type": "markdown",
   "metadata": {},
   "source": [
    "### 3.1 Применить фреймворк ICE для приоритизации гипотез\n",
    "ICE (от англ. impact * confidence / effort, «влияние* уверенность / усилия») "
   ]
  },
  {
   "cell_type": "code",
   "execution_count": 15,
   "metadata": {
    "tags": []
   },
   "outputs": [
    {
     "data": {
      "text/html": [
       "<div>\n",
       "<style scoped>\n",
       "    .dataframe tbody tr th:only-of-type {\n",
       "        vertical-align: middle;\n",
       "    }\n",
       "\n",
       "    .dataframe tbody tr th {\n",
       "        vertical-align: top;\n",
       "    }\n",
       "\n",
       "    .dataframe thead th {\n",
       "        text-align: right;\n",
       "    }\n",
       "</style>\n",
       "<table border=\"1\" class=\"dataframe\">\n",
       "  <thead>\n",
       "    <tr style=\"text-align: right;\">\n",
       "      <th></th>\n",
       "      <th>Hypothesis</th>\n",
       "      <th>ICE</th>\n",
       "    </tr>\n",
       "  </thead>\n",
       "  <tbody>\n",
       "    <tr>\n",
       "      <th>8</th>\n",
       "      <td>Запустить акцию, дающую скидку на товар в день рождения</td>\n",
       "      <td>16.2</td>\n",
       "    </tr>\n",
       "    <tr>\n",
       "      <th>0</th>\n",
       "      <td>Добавить два новых канала привлечения трафика, что позволит привлекать на 30% больше пользователей</td>\n",
       "      <td>13.3</td>\n",
       "    </tr>\n",
       "    <tr>\n",
       "      <th>7</th>\n",
       "      <td>Добавить форму подписки на все основные страницы, чтобы собрать базу клиентов для email-рассылок</td>\n",
       "      <td>11.2</td>\n",
       "    </tr>\n",
       "    <tr>\n",
       "      <th>6</th>\n",
       "      <td>Показать на главной странице баннеры с актуальными акциями и распродажами, чтобы увеличить конверсию</td>\n",
       "      <td>8.0</td>\n",
       "    </tr>\n",
       "    <tr>\n",
       "      <th>2</th>\n",
       "      <td>Добавить блоки рекомендаций товаров на сайт интернет магазина, чтобы повысить конверсию и средний чек заказа</td>\n",
       "      <td>7.0</td>\n",
       "    </tr>\n",
       "    <tr>\n",
       "      <th>1</th>\n",
       "      <td>Запустить собственную службу доставки, что сократит срок доставки заказов</td>\n",
       "      <td>2.0</td>\n",
       "    </tr>\n",
       "    <tr>\n",
       "      <th>5</th>\n",
       "      <td>Добавить страницу отзывов клиентов о магазине, что позволит увеличить количество заказов</td>\n",
       "      <td>1.3</td>\n",
       "    </tr>\n",
       "    <tr>\n",
       "      <th>3</th>\n",
       "      <td>Изменить структура категорий, что увеличит конверсию, т.к. пользователи быстрее найдут нужный товар</td>\n",
       "      <td>1.1</td>\n",
       "    </tr>\n",
       "    <tr>\n",
       "      <th>4</th>\n",
       "      <td>Изменить цвет фона главной страницы, чтобы увеличить вовлеченность пользователей</td>\n",
       "      <td>1.0</td>\n",
       "    </tr>\n",
       "  </tbody>\n",
       "</table>\n",
       "</div>"
      ],
      "text/plain": [
       "                                                                                                     Hypothesis  \\\n",
       "8                                                       Запустить акцию, дающую скидку на товар в день рождения   \n",
       "0            Добавить два новых канала привлечения трафика, что позволит привлекать на 30% больше пользователей   \n",
       "7              Добавить форму подписки на все основные страницы, чтобы собрать базу клиентов для email-рассылок   \n",
       "6          Показать на главной странице баннеры с актуальными акциями и распродажами, чтобы увеличить конверсию   \n",
       "2  Добавить блоки рекомендаций товаров на сайт интернет магазина, чтобы повысить конверсию и средний чек заказа   \n",
       "1                                     Запустить собственную службу доставки, что сократит срок доставки заказов   \n",
       "5                      Добавить страницу отзывов клиентов о магазине, что позволит увеличить количество заказов   \n",
       "3           Изменить структура категорий, что увеличит конверсию, т.к. пользователи быстрее найдут нужный товар   \n",
       "4                              Изменить цвет фона главной страницы, чтобы увеличить вовлеченность пользователей   \n",
       "\n",
       "    ICE  \n",
       "8  16.2  \n",
       "0  13.3  \n",
       "7  11.2  \n",
       "6   8.0  \n",
       "2   7.0  \n",
       "1   2.0  \n",
       "5   1.3  \n",
       "3   1.1  \n",
       "4   1.0  "
      ]
     },
     "execution_count": 15,
     "metadata": {},
     "output_type": "execute_result"
    }
   ],
   "source": [
    "# посчитаем ICE\n",
    "hypothesis['ICE'] = round(hypothesis['Impact'] * hypothesis['Confidence'] / hypothesis['Efforts'], 1)\n",
    "\n",
    "# выведем в порядке убывания\n",
    "hypothesis[['Hypothesis', 'ICE']].sort_values(by='ICE', ascending=False)"
   ]
  },
  {
   "cell_type": "markdown",
   "metadata": {},
   "source": [
    "Наиболее перспективные гипотезы по ICE:\n",
    "- Запустить акцию, дающую скидку на товар в день рождения\t16.2\n",
    "- Добавить два новых канала привлечения трафика, что позволит привлекать на 30% больше пользователей 13.3"
   ]
  },
  {
   "cell_type": "markdown",
   "metadata": {},
   "source": [
    "### 3.2 Применить фреймворк RICE для приоритизации гипотез\n",
    "Фреймворк RICE состоит из четырёх компонент:\n",
    "- Reach — скольких пользователей затронет изменение, которое вы хотите внести;\n",
    "- Impact — насколько сильно изменение повлияет на пользователей, их опыт и удовлетворение от продукта;\n",
    "- Confidence — насколько вы уверены, что это изменение повлияет на пользователей именно так; \n",
    "- Efforts — сколько стоит протестировать эту гипотезу. "
   ]
  },
  {
   "cell_type": "code",
   "execution_count": 16,
   "metadata": {},
   "outputs": [
    {
     "data": {
      "text/html": [
       "<div>\n",
       "<style scoped>\n",
       "    .dataframe tbody tr th:only-of-type {\n",
       "        vertical-align: middle;\n",
       "    }\n",
       "\n",
       "    .dataframe tbody tr th {\n",
       "        vertical-align: top;\n",
       "    }\n",
       "\n",
       "    .dataframe thead th {\n",
       "        text-align: right;\n",
       "    }\n",
       "</style>\n",
       "<table border=\"1\" class=\"dataframe\">\n",
       "  <thead>\n",
       "    <tr style=\"text-align: right;\">\n",
       "      <th></th>\n",
       "      <th>Hypothesis</th>\n",
       "      <th>RICE</th>\n",
       "    </tr>\n",
       "  </thead>\n",
       "  <tbody>\n",
       "    <tr>\n",
       "      <th>7</th>\n",
       "      <td>Добавить форму подписки на все основные страницы, чтобы собрать базу клиентов для email-рассылок</td>\n",
       "      <td>112.0</td>\n",
       "    </tr>\n",
       "    <tr>\n",
       "      <th>2</th>\n",
       "      <td>Добавить блоки рекомендаций товаров на сайт интернет магазина, чтобы повысить конверсию и средний чек заказа</td>\n",
       "      <td>56.0</td>\n",
       "    </tr>\n",
       "    <tr>\n",
       "      <th>0</th>\n",
       "      <td>Добавить два новых канала привлечения трафика, что позволит привлекать на 30% больше пользователей</td>\n",
       "      <td>40.0</td>\n",
       "    </tr>\n",
       "    <tr>\n",
       "      <th>6</th>\n",
       "      <td>Показать на главной странице баннеры с актуальными акциями и распродажами, чтобы увеличить конверсию</td>\n",
       "      <td>40.0</td>\n",
       "    </tr>\n",
       "    <tr>\n",
       "      <th>8</th>\n",
       "      <td>Запустить акцию, дающую скидку на товар в день рождения</td>\n",
       "      <td>16.2</td>\n",
       "    </tr>\n",
       "    <tr>\n",
       "      <th>3</th>\n",
       "      <td>Изменить структура категорий, что увеличит конверсию, т.к. пользователи быстрее найдут нужный товар</td>\n",
       "      <td>9.0</td>\n",
       "    </tr>\n",
       "    <tr>\n",
       "      <th>1</th>\n",
       "      <td>Запустить собственную службу доставки, что сократит срок доставки заказов</td>\n",
       "      <td>4.0</td>\n",
       "    </tr>\n",
       "    <tr>\n",
       "      <th>5</th>\n",
       "      <td>Добавить страницу отзывов клиентов о магазине, что позволит увеличить количество заказов</td>\n",
       "      <td>4.0</td>\n",
       "    </tr>\n",
       "    <tr>\n",
       "      <th>4</th>\n",
       "      <td>Изменить цвет фона главной страницы, чтобы увеличить вовлеченность пользователей</td>\n",
       "      <td>3.0</td>\n",
       "    </tr>\n",
       "  </tbody>\n",
       "</table>\n",
       "</div>"
      ],
      "text/plain": [
       "                                                                                                     Hypothesis  \\\n",
       "7              Добавить форму подписки на все основные страницы, чтобы собрать базу клиентов для email-рассылок   \n",
       "2  Добавить блоки рекомендаций товаров на сайт интернет магазина, чтобы повысить конверсию и средний чек заказа   \n",
       "0            Добавить два новых канала привлечения трафика, что позволит привлекать на 30% больше пользователей   \n",
       "6          Показать на главной странице баннеры с актуальными акциями и распродажами, чтобы увеличить конверсию   \n",
       "8                                                       Запустить акцию, дающую скидку на товар в день рождения   \n",
       "3           Изменить структура категорий, что увеличит конверсию, т.к. пользователи быстрее найдут нужный товар   \n",
       "1                                     Запустить собственную службу доставки, что сократит срок доставки заказов   \n",
       "5                      Добавить страницу отзывов клиентов о магазине, что позволит увеличить количество заказов   \n",
       "4                              Изменить цвет фона главной страницы, чтобы увеличить вовлеченность пользователей   \n",
       "\n",
       "    RICE  \n",
       "7  112.0  \n",
       "2   56.0  \n",
       "0   40.0  \n",
       "6   40.0  \n",
       "8   16.2  \n",
       "3    9.0  \n",
       "1    4.0  \n",
       "5    4.0  \n",
       "4    3.0  "
      ]
     },
     "execution_count": 16,
     "metadata": {},
     "output_type": "execute_result"
    }
   ],
   "source": [
    "# посчитаем RICE\n",
    "hypothesis['RICE'] = hypothesis['Reach'] *  hypothesis['Impact'] *  hypothesis['Confidence'] /  hypothesis['Efforts']\n",
    "\n",
    "# выведем в порядке убывания\n",
    "hypothesis[['Hypothesis','RICE']].sort_values(by='RICE', ascending=False)"
   ]
  },
  {
   "cell_type": "markdown",
   "metadata": {},
   "source": [
    "Наиболее перспективные гипотезы RICE:\n",
    "- Добавить форму подписки на все основные страницы, чтобы собрать базу клиентов для email-рассылок\t-112\n",
    "- Добавить блоки рекомендаций товаров на сайт интернет магазина, чтобы повысить конверсию и средний чек заказа -56"
   ]
  },
  {
   "cell_type": "markdown",
   "metadata": {},
   "source": [
    "### 3.3 Сравнить приоритизацию гипотез RICE vs ICE"
   ]
  },
  {
   "cell_type": "code",
   "execution_count": 17,
   "metadata": {},
   "outputs": [
    {
     "data": {
      "text/html": [
       "<div>\n",
       "<style scoped>\n",
       "    .dataframe tbody tr th:only-of-type {\n",
       "        vertical-align: middle;\n",
       "    }\n",
       "\n",
       "    .dataframe tbody tr th {\n",
       "        vertical-align: top;\n",
       "    }\n",
       "\n",
       "    .dataframe thead th {\n",
       "        text-align: right;\n",
       "    }\n",
       "</style>\n",
       "<table border=\"1\" class=\"dataframe\">\n",
       "  <thead>\n",
       "    <tr style=\"text-align: right;\">\n",
       "      <th></th>\n",
       "      <th>Hypothesis</th>\n",
       "      <th>Reach</th>\n",
       "      <th>Impact</th>\n",
       "      <th>Confidence</th>\n",
       "      <th>Efforts</th>\n",
       "      <th>ICE</th>\n",
       "      <th>RICE</th>\n",
       "    </tr>\n",
       "  </thead>\n",
       "  <tbody>\n",
       "    <tr>\n",
       "      <th>7</th>\n",
       "      <td>Добавить форму подписки на все основные страницы, чтобы собрать базу клиентов для email-рассылок</td>\n",
       "      <td>10</td>\n",
       "      <td>7</td>\n",
       "      <td>8</td>\n",
       "      <td>5</td>\n",
       "      <td>11.2</td>\n",
       "      <td>112.0</td>\n",
       "    </tr>\n",
       "    <tr>\n",
       "      <th>2</th>\n",
       "      <td>Добавить блоки рекомендаций товаров на сайт интернет магазина, чтобы повысить конверсию и средний чек заказа</td>\n",
       "      <td>8</td>\n",
       "      <td>3</td>\n",
       "      <td>7</td>\n",
       "      <td>3</td>\n",
       "      <td>7.0</td>\n",
       "      <td>56.0</td>\n",
       "    </tr>\n",
       "    <tr>\n",
       "      <th>0</th>\n",
       "      <td>Добавить два новых канала привлечения трафика, что позволит привлекать на 30% больше пользователей</td>\n",
       "      <td>3</td>\n",
       "      <td>10</td>\n",
       "      <td>8</td>\n",
       "      <td>6</td>\n",
       "      <td>13.3</td>\n",
       "      <td>40.0</td>\n",
       "    </tr>\n",
       "    <tr>\n",
       "      <th>6</th>\n",
       "      <td>Показать на главной странице баннеры с актуальными акциями и распродажами, чтобы увеличить конверсию</td>\n",
       "      <td>5</td>\n",
       "      <td>3</td>\n",
       "      <td>8</td>\n",
       "      <td>3</td>\n",
       "      <td>8.0</td>\n",
       "      <td>40.0</td>\n",
       "    </tr>\n",
       "    <tr>\n",
       "      <th>8</th>\n",
       "      <td>Запустить акцию, дающую скидку на товар в день рождения</td>\n",
       "      <td>1</td>\n",
       "      <td>9</td>\n",
       "      <td>9</td>\n",
       "      <td>5</td>\n",
       "      <td>16.2</td>\n",
       "      <td>16.2</td>\n",
       "    </tr>\n",
       "    <tr>\n",
       "      <th>3</th>\n",
       "      <td>Изменить структура категорий, что увеличит конверсию, т.к. пользователи быстрее найдут нужный товар</td>\n",
       "      <td>8</td>\n",
       "      <td>3</td>\n",
       "      <td>3</td>\n",
       "      <td>8</td>\n",
       "      <td>1.1</td>\n",
       "      <td>9.0</td>\n",
       "    </tr>\n",
       "    <tr>\n",
       "      <th>1</th>\n",
       "      <td>Запустить собственную службу доставки, что сократит срок доставки заказов</td>\n",
       "      <td>2</td>\n",
       "      <td>5</td>\n",
       "      <td>4</td>\n",
       "      <td>10</td>\n",
       "      <td>2.0</td>\n",
       "      <td>4.0</td>\n",
       "    </tr>\n",
       "    <tr>\n",
       "      <th>5</th>\n",
       "      <td>Добавить страницу отзывов клиентов о магазине, что позволит увеличить количество заказов</td>\n",
       "      <td>3</td>\n",
       "      <td>2</td>\n",
       "      <td>2</td>\n",
       "      <td>3</td>\n",
       "      <td>1.3</td>\n",
       "      <td>4.0</td>\n",
       "    </tr>\n",
       "    <tr>\n",
       "      <th>4</th>\n",
       "      <td>Изменить цвет фона главной страницы, чтобы увеличить вовлеченность пользователей</td>\n",
       "      <td>3</td>\n",
       "      <td>1</td>\n",
       "      <td>1</td>\n",
       "      <td>1</td>\n",
       "      <td>1.0</td>\n",
       "      <td>3.0</td>\n",
       "    </tr>\n",
       "  </tbody>\n",
       "</table>\n",
       "</div>"
      ],
      "text/plain": [
       "                                                                                                     Hypothesis  \\\n",
       "7              Добавить форму подписки на все основные страницы, чтобы собрать базу клиентов для email-рассылок   \n",
       "2  Добавить блоки рекомендаций товаров на сайт интернет магазина, чтобы повысить конверсию и средний чек заказа   \n",
       "0            Добавить два новых канала привлечения трафика, что позволит привлекать на 30% больше пользователей   \n",
       "6          Показать на главной странице баннеры с актуальными акциями и распродажами, чтобы увеличить конверсию   \n",
       "8                                                       Запустить акцию, дающую скидку на товар в день рождения   \n",
       "3           Изменить структура категорий, что увеличит конверсию, т.к. пользователи быстрее найдут нужный товар   \n",
       "1                                     Запустить собственную службу доставки, что сократит срок доставки заказов   \n",
       "5                      Добавить страницу отзывов клиентов о магазине, что позволит увеличить количество заказов   \n",
       "4                              Изменить цвет фона главной страницы, чтобы увеличить вовлеченность пользователей   \n",
       "\n",
       "   Reach  Impact  Confidence  Efforts   ICE   RICE  \n",
       "7     10       7           8        5  11.2  112.0  \n",
       "2      8       3           7        3   7.0   56.0  \n",
       "0      3      10           8        6  13.3   40.0  \n",
       "6      5       3           8        3   8.0   40.0  \n",
       "8      1       9           9        5  16.2   16.2  \n",
       "3      8       3           3        8   1.1    9.0  \n",
       "1      2       5           4       10   2.0    4.0  \n",
       "5      3       2           2        3   1.3    4.0  \n",
       "4      3       1           1        1   1.0    3.0  "
      ]
     },
     "execution_count": 17,
     "metadata": {},
     "output_type": "execute_result"
    }
   ],
   "source": [
    "hypothesis.sort_values(by='RICE', ascending=False)"
   ]
  },
  {
   "cell_type": "markdown",
   "metadata": {},
   "source": [
    "* Гипозеза 7 по RICE на 1ом месте, а по ICE на 3ем. Потому что RICE еще учитывает Reach — скольких пользователей затронет изменение, это тоже важно и дает большой импакт, лучше выбирать по RICE."
   ]
  },
  {
   "cell_type": "markdown",
   "metadata": {},
   "source": [
    "## 4. Анализ A/B-теста\n",
    "Мы провели A/B-тест и получили результаты, которые описаны в файлах /datasets/orders.csv и /datasets/visitors.csv."
   ]
  },
  {
   "cell_type": "markdown",
   "metadata": {},
   "source": [
    "### 4.1 Построить график кумулятивной выручки по группам. Сделать выводы и предположения."
   ]
  },
  {
   "cell_type": "code",
   "execution_count": 18,
   "metadata": {},
   "outputs": [
    {
     "data": {
      "image/png": "[encoded data removed]",
      "text/plain": [
       "<Figure size 432x288 with 1 Axes>"
      ]
     },
     "metadata": {
      "image/png": {
       "height": 305,
       "width": 398
      },
      "needs_background": "light"
     },
     "output_type": "display_data"
    }
   ],
   "source": [
    "# создадим дф с уник значениями дата-группа АБ\n",
    "datesGroups = orders[['date', 'group']].drop_duplicates()\n",
    "\n",
    "# сагрегируем данные таблицы заказов\n",
    "ordersAggregated = datesGroups.apply(\n",
    "    lambda x: orders[np.logical_and(orders['date'] <= x['date'],\n",
    "                                    orders['group'] == x['group'])]\n",
    "    .agg({'date': 'max',\n",
    "          'group': 'max',\n",
    "          'transactionId': 'nunique',\n",
    "          'visitorId': 'nunique',\n",
    "          'revenue': 'sum'}),\n",
    "    axis=1).sort_values(by=['date', 'group'])\n",
    "\n",
    "# сагрегируем данные таблицы посетителей по дням\n",
    "visitorsAggregated = datesGroups.apply(\n",
    "    lambda x: visitors[np.logical_and(visitors['date'] <= x['date'],\n",
    "                                      visitors['group'] == x['group'])]\n",
    "    .agg({'date': 'max', 'group': 'max', 'visitors': 'sum'}),\n",
    "    axis=1).sort_values(by=['date', 'group'])\n",
    "\n",
    "# соединим 2 таблицы\n",
    "cumulativeData = ordersAggregated.merge(\n",
    "    visitorsAggregated, left_on=['date', 'group'], right_on=['date', 'group'])\n",
    "\n",
    "cumulativeData.columns = [\n",
    "    'date',\n",
    "    'group',\n",
    "    'transactionId_n',\n",
    "    'visitorId_n',\n",
    "    'revenue',\n",
    "    'visitors',\n",
    "]\n",
    "\n",
    "# датафрейм с кумулятивным количеством заказов и кумулятивной выручкой по дням в группе А\n",
    "cumulativeRevenueA = cumulativeData[cumulativeData['group']=='A'][['date','revenue', 'transactionId_n']]\n",
    "# датафрейм с кумулятивным количеством заказов и кумулятивной выручкой по дням в группе B\n",
    "cumulativeRevenueB = cumulativeData[cumulativeData['group']=='B'][['date','revenue', 'transactionId_n']]\n",
    "\n",
    "# Строим график выручки группы А\n",
    "plt.plot(cumulativeRevenueA['date'], cumulativeRevenueA['revenue'], label='A')\n",
    "# Строим график выручки группы B\n",
    "plt.plot(cumulativeRevenueB['date'], cumulativeRevenueB['revenue'], label='B')\n",
    "plt.title('График выручки группы А и В')\n",
    "plt.xlabel('Дата')\n",
    "plt.ylabel('Кумулятивное кол-во заказов')\n",
    "plt.xticks(rotation=30)\n",
    "plt.legend()\n",
    "plt.show()"
   ]
  },
  {
   "cell_type": "markdown",
   "metadata": {},
   "source": [
    "* Кумулятивная выручка группы В опережает группу А. Но есть резкий скачок (аномальный заказ-выброс), но вроде он не повлиял на общий тренд группы В."
   ]
  },
  {
   "cell_type": "markdown",
   "metadata": {},
   "source": [
    "### 4.2  Построить график кумулятивного среднего чека по группам. Сделать выводы и предположения."
   ]
  },
  {
   "cell_type": "code",
   "execution_count": 19,
   "metadata": {},
   "outputs": [
    {
     "data": {
      "image/png": "[encoded data removed]",
      "text/plain": [
       "<Figure size 432x288 with 1 Axes>"
      ]
     },
     "metadata": {
      "image/png": {
       "height": 305,
       "width": 424
      },
      "needs_background": "light"
     },
     "output_type": "display_data"
    }
   ],
   "source": [
    "# выручку / кол-во транзакций для А и В\n",
    "plt.plot(cumulativeRevenueA['date'], cumulativeRevenueA['revenue']/cumulativeRevenueA['transactionId_n'], label='A')\n",
    "plt.plot(cumulativeRevenueB['date'], cumulativeRevenueB['revenue']/cumulativeRevenueB['transactionId_n'], label='B')\n",
    "plt.title('График кумулятивного среднего чека по группам A и В')\n",
    "plt.xlabel('Дата')\n",
    "plt.ylabel('Кумулятивный средний чек')\n",
    "plt.xticks(rotation=30)\n",
    "plt.legend()\n",
    "plt.show()"
   ]
  },
  {
   "cell_type": "markdown",
   "metadata": {},
   "source": [
    "* В группе \"В\" есть точка резкого повышения среднего чека, скорее всего это аномальный заказ-выброс который поднял средее а потом среднее обратно начало снижаться к трендовой."
   ]
  },
  {
   "cell_type": "markdown",
   "metadata": {},
   "source": [
    "### 4.3  Построить график относительного изменения кумулятивного среднего чека группы B к группе A. Сделать выводы и предположения."
   ]
  },
  {
   "cell_type": "code",
   "execution_count": 20,
   "metadata": {},
   "outputs": [
    {
     "data": {
      "text/html": [
       "<div>\n",
       "<style scoped>\n",
       "    .dataframe tbody tr th:only-of-type {\n",
       "        vertical-align: middle;\n",
       "    }\n",
       "\n",
       "    .dataframe tbody tr th {\n",
       "        vertical-align: top;\n",
       "    }\n",
       "\n",
       "    .dataframe thead th {\n",
       "        text-align: right;\n",
       "    }\n",
       "</style>\n",
       "<table border=\"1\" class=\"dataframe\">\n",
       "  <thead>\n",
       "    <tr style=\"text-align: right;\">\n",
       "      <th></th>\n",
       "      <th>date</th>\n",
       "      <th>revenueA</th>\n",
       "      <th>transactionId_nA</th>\n",
       "      <th>revenueB</th>\n",
       "      <th>transactionId_nB</th>\n",
       "    </tr>\n",
       "  </thead>\n",
       "  <tbody>\n",
       "    <tr>\n",
       "      <th>0</th>\n",
       "      <td>2019-08-01</td>\n",
       "      <td>148579</td>\n",
       "      <td>24</td>\n",
       "      <td>101217</td>\n",
       "      <td>21</td>\n",
       "    </tr>\n",
       "  </tbody>\n",
       "</table>\n",
       "</div>"
      ],
      "text/plain": [
       "        date  revenueA  transactionId_nA  revenueB  transactionId_nB\n",
       "0 2019-08-01    148579                24    101217                21"
      ]
     },
     "metadata": {},
     "output_type": "display_data"
    },
    {
     "data": {
      "image/png": "[encoded data removed]",
      "text/plain": [
       "<Figure size 432x288 with 1 Axes>"
      ]
     },
     "metadata": {
      "image/png": {
       "height": 305,
       "width": 567
      },
      "needs_background": "light"
     },
     "output_type": "display_data"
    }
   ],
   "source": [
    "# собираем данные в одном датафрейме\n",
    "mergedCumulativeRevenue = cumulativeRevenueA.merge(cumulativeRevenueB, left_on='date',\n",
    "                                                   right_on='date', how='left', suffixes=['A', 'B'])\n",
    "display(mergedCumulativeRevenue.head(1))\n",
    "\n",
    "# cтроим отношение средних чеков\n",
    "plt.plot(mergedCumulativeRevenue['date'],\n",
    "         (mergedCumulativeRevenue['revenueB']/mergedCumulativeRevenue['transactionId_nB'])/\n",
    "         (mergedCumulativeRevenue['revenueA']/mergedCumulativeRevenue['transactionId_nA'])-1)\n",
    "# добавляем ось X\n",
    "plt.axhline(y=0, color='black', linestyle='--') \n",
    "plt.title('График относительного изменения кумулятивного среднего чека группы B к группе A')\n",
    "plt.xlabel('Дата')\n",
    "plt.ylabel('Изм. кум.ср.чека группы B к группе A')\n",
    "plt.xticks(rotation=30)\n",
    "plt.show()"
   ]
  },
  {
   "cell_type": "markdown",
   "metadata": {},
   "source": [
    "* Результат отношения среднего чека резко поменялись в несколько дат как вверх так и вниз. Видимо в эти даты были совершены аномальные заказы-выбросы."
   ]
  },
  {
   "cell_type": "markdown",
   "metadata": {},
   "source": [
    "### 4.4  Построить график кумулятивного среднего количества заказов на посетителя по группам. Сделать выводы и предположения."
   ]
  },
  {
   "cell_type": "code",
   "execution_count": 21,
   "metadata": {
    "tags": []
   },
   "outputs": [
    {
     "data": {
      "image/png": "[encoded data removed]",
      "text/plain": [
       "<Figure size 432x288 with 1 Axes>"
      ]
     },
     "metadata": {
      "image/png": {
       "height": 305,
       "width": 525
      },
      "needs_background": "light"
     },
     "output_type": "display_data"
    }
   ],
   "source": [
    "# считаем кумулятивную конверсию\n",
    "cumulativeData['conversion'] = cumulativeData['transactionId_n']/cumulativeData['visitors']\n",
    "\n",
    "# отделяем данные по группе A\n",
    "cumulativeDataA = cumulativeData[cumulativeData['group']=='A']\n",
    "\n",
    "# отделяем данные по группе B\n",
    "cumulativeDataB = cumulativeData[cumulativeData['group']=='B']\n",
    "\n",
    "# строим графики\n",
    "plt.plot(cumulativeDataA['date'], cumulativeDataA['conversion'], label='A')\n",
    "plt.plot(cumulativeDataB['date'], cumulativeDataB['conversion'], label='B')\n",
    "plt.legend()\n",
    "# задаем масштаб осей\n",
    "plt.axis([dt.datetime(2019, 8, 1), dt.datetime(2019, 9, 1), 0, 0.05])\n",
    "plt.title('График кумулятивного среднего количества заказов на посетителя по группам')\n",
    "plt.xlabel('Дата')\n",
    "plt.ylabel('Кум.ср.кол-ва заказов на посетителя')\n",
    "plt.xticks(rotation=30)\n",
    "plt.show()"
   ]
  },
  {
   "cell_type": "markdown",
   "metadata": {},
   "source": [
    "* По кумулятивного среднего количества заказов на посетителя сегмент В выровнялся и зафиксировался примерно около одного значения, больше значения сегмента А. Колебания небольшие от 3% до 4%."
   ]
  },
  {
   "cell_type": "markdown",
   "metadata": {},
   "source": [
    "### 4.5  Построить график относительного изменения кумулятивного среднего количества заказов на посетителя группы B к группе A. Сделать выводы и предположения."
   ]
  },
  {
   "cell_type": "code",
   "execution_count": 22,
   "metadata": {
    "tags": []
   },
   "outputs": [
    {
     "data": {
      "image/png": "[encoded data removed]",
      "text/plain": [
       "<Figure size 432x288 with 1 Axes>"
      ]
     },
     "metadata": {
      "image/png": {
       "height": 305,
       "width": 456
      },
      "needs_background": "light"
     },
     "output_type": "display_data"
    }
   ],
   "source": [
    "# Объединим таблицы cumulativeDataA и cumulativeDataB\n",
    "mergedCumulativeConversions = (cumulativeDataA[['date','conversion']]\n",
    "                               .merge(cumulativeDataB[['date','conversion']],\n",
    "                                      left_on='date',\n",
    "                                      right_on='date',\n",
    "                                      how='left',\n",
    "                                      suffixes=['A', 'B']))\n",
    "# построим график\n",
    "plt.plot(mergedCumulativeConversions['date'],\n",
    "         mergedCumulativeConversions['conversionB']/mergedCumulativeConversions['conversionA']-1)\n",
    "plt.title('Относительный прирост конверсии группы B относительно группы A')\n",
    "plt.xlabel('Дата')\n",
    "plt.axhline(y=0, color='black', linestyle='--')\n",
    "plt.axhline(y=0.15, color='grey', linestyle='--')\n",
    "plt.axis([\"2019-08-1\", '2019-09-1', -0.15, 0.25])\n",
    "plt.xticks(rotation=30)\n",
    "plt.show()"
   ]
  },
  {
   "cell_type": "markdown",
   "metadata": {},
   "source": [
    "* В начале теста А и В группы были примерно на одном уровне, затем сегмент В выровнялся и зафиксировался примерно около одного значения, больше значения сегмента А. Группа В зафиксировала прирост примерно на 15% больше чем группа А."
   ]
  },
  {
   "cell_type": "markdown",
   "metadata": {},
   "source": [
    "### 4.6 Построить точечный график количества заказов по пользователям. Сделать выводы и предположения."
   ]
  },
  {
   "cell_type": "code",
   "execution_count": 23,
   "metadata": {},
   "outputs": [
    {
     "name": "stdout",
     "output_type": "stream",
     "text": [
      "       visitorId  transaction\n",
      "1023  4256040402           11\n",
      "591   2458001652           11\n",
      "569   2378935119            9\n",
      "487   2038680547            8\n",
      "44     199603092            5\n",
      "744   3062433592            5\n",
      "55     237748145            5\n",
      "917   3803269165            5\n",
      "299   1230306981            5\n",
      "897   3717692402            5\n"
     ]
    },
    {
     "data": {
      "image/png": "[encoded data removed]",
      "text/plain": [
       "<Figure size 432x288 with 1 Axes>"
      ]
     },
     "metadata": {
      "image/png": {
       "height": 277,
       "width": 388
      },
      "needs_background": "light"
     },
     "output_type": "display_data"
    }
   ],
   "source": [
    "# найдем число заказов по пользователям\n",
    "ordersByUsers = (orders.groupby('visitorId', as_index=False)\n",
    "                 .agg({'transactionId': 'nunique'})\n",
    "                 )\n",
    "ordersByUsers.columns = ['visitorId', 'transaction']\n",
    "\n",
    "print(ordersByUsers.sort_values(by='transaction', ascending=False).head(10))\n",
    "\n",
    "plt.hist(ordersByUsers['transaction'])\n",
    "plt.title('Распределение кол-ва заказов по пользователям')\n",
    "plt.xlabel('Кол-во заказов у 1 пользователя')\n",
    "plt.ylabel('Кол-во пользователей')\n",
    "plt.show()"
   ]
  },
  {
   "cell_type": "markdown",
   "metadata": {},
   "source": [
    "Подавляющее большинство пользователей совершает 1 заказ."
   ]
  },
  {
   "cell_type": "markdown",
   "metadata": {},
   "source": [
    "### 4.7 Посчитать 95-й и 99-й перцентили количества заказов на пользователя. Выбрать границу для определения аномальных пользователей."
   ]
  },
  {
   "cell_type": "code",
   "execution_count": 24,
   "metadata": {
    "tags": []
   },
   "outputs": [
    {
     "name": "stdout",
     "output_type": "stream",
     "text": [
      "[1. 2. 4.]\n"
     ]
    }
   ],
   "source": [
    "# Метод np.percentile('column', [percentile1, percentile2, percentile3]) находит перцентили\n",
    "print(np.percentile(ordersByUsers['transaction'], [90, 95, 99])) "
   ]
  },
  {
   "cell_type": "markdown",
   "metadata": {},
   "source": [
    "Не более 5% совершили больше 2ух заказов, не более 1% ее более 4ех.\n",
    "Выберем что больше 2ух заказов - заказы являются аномальными."
   ]
  },
  {
   "cell_type": "markdown",
   "metadata": {},
   "source": [
    "### 4.8 Построить точечный график стоимостей заказов. Сделать выводы и предположения."
   ]
  },
  {
   "cell_type": "code",
   "execution_count": 25,
   "metadata": {},
   "outputs": [
    {
     "data": {
      "image/png": "[encoded data removed]",
      "text/plain": [
       "<Figure size 432x288 with 1 Axes>"
      ]
     },
     "metadata": {
      "image/png": {
       "height": 277,
       "width": 385
      },
      "needs_background": "light"
     },
     "output_type": "display_data"
    }
   ],
   "source": [
    "# серия из чисел от 0 до количества наблюдений в ordersByUsers\n",
    "x_values = pd.Series(range(0, len(orders['revenue'])))\n",
    "plt.scatter(x_values, orders['revenue'])\n",
    "plt.title('Стоимость заказов - Кол-во')\n",
    "plt.xlabel('Порядковый номер заказа')\n",
    "plt.ylabel('Стоимость заказов')\n",
    "plt.show()"
   ]
  },
  {
   "cell_type": "code",
   "execution_count": 26,
   "metadata": {},
   "outputs": [
    {
     "data": {
      "image/png": "[encoded data removed]",
      "text/plain": [
       "<Figure size 432x288 with 1 Axes>"
      ]
     },
     "metadata": {
      "image/png": {
       "height": 277,
       "width": 408
      },
      "needs_background": "light"
     },
     "output_type": "display_data"
    }
   ],
   "source": [
    "# серия из чисел от 0 до количества наблюдений в ordersByUsers\n",
    "x_values = pd.Series(range(0, len(orders['revenue'])))\n",
    "plt.scatter(x_values, orders['revenue'])\n",
    "# ограничим ось Y\n",
    "plt.axis([0, 1300, 0, 210000])\n",
    "plt.title('Стоимость заказов - кол-во')\n",
    "plt.xlabel('Порядковый номер заказа')\n",
    "plt.ylabel('Стоимость заказов')\n",
    "plt.show()"
   ]
  },
  {
   "cell_type": "markdown",
   "metadata": {},
   "source": [
    "Заказов больше 60 000 почти нет. Аномальные заказы выглядят на 1 200 000+ и на 200 000."
   ]
  },
  {
   "cell_type": "markdown",
   "metadata": {},
   "source": [
    "### 4.9 Посчитать 95-й и 99-й перцентили стоимости заказов. Выберать границу для определения аномальных заказов."
   ]
  },
  {
   "cell_type": "code",
   "execution_count": 27,
   "metadata": {},
   "outputs": [
    {
     "name": "stdout",
     "output_type": "stream",
     "text": [
      "[18168.  28000.  58233.2]\n"
     ]
    }
   ],
   "source": [
    "print(np.percentile(orders['revenue'], [90, 95, 99]))"
   ]
  },
  {
   "cell_type": "markdown",
   "metadata": {},
   "source": [
    "Не более чем у 5% чек дороже 28 000. И не больше чем у 1% чек дороже 58 233. Выберем что чек больше 28000 - заказы являются аномальными."
   ]
  },
  {
   "cell_type": "markdown",
   "metadata": {},
   "source": [
    "### 4.10 Посчитать статистическую значимость различий в среднем количестве заказов на посетителя между группами по «сырым» данным. Сделать выводы и предположения."
   ]
  },
  {
   "cell_type": "markdown",
   "metadata": {},
   "source": [
    "Сформулируем гипотезы. Проверка тест Манна-Уитни .mannwhitneyu():\n",
    "* H0 нулевая гипотеза: отличия в среднем количестве заказов между группами А и Б -нет.\n",
    "* Н1 альтернативная гипотеза: отличия в среднем между группами - Есть."
   ]
  },
  {
   "cell_type": "code",
   "execution_count": 28,
   "metadata": {
    "tags": []
   },
   "outputs": [
    {
     "data": {
      "text/html": [
       "<div>\n",
       "<style scoped>\n",
       "    .dataframe tbody tr th:only-of-type {\n",
       "        vertical-align: middle;\n",
       "    }\n",
       "\n",
       "    .dataframe tbody tr th {\n",
       "        vertical-align: top;\n",
       "    }\n",
       "\n",
       "    .dataframe thead th {\n",
       "        text-align: right;\n",
       "    }\n",
       "</style>\n",
       "<table border=\"1\" class=\"dataframe\">\n",
       "  <thead>\n",
       "    <tr style=\"text-align: right;\">\n",
       "      <th></th>\n",
       "      <th>date</th>\n",
       "      <th>ordersPerDateA</th>\n",
       "      <th>revenuePerDateA</th>\n",
       "      <th>ordersPerDateB</th>\n",
       "      <th>revenuePerDateB</th>\n",
       "      <th>ordersCummulativeA</th>\n",
       "      <th>revenueCummulativeA</th>\n",
       "      <th>ordersCummulativeB</th>\n",
       "      <th>revenueCummulativeB</th>\n",
       "      <th>visitorsPerDateA</th>\n",
       "      <th>visitorsPerDateB</th>\n",
       "      <th>visitorsCummulativeA</th>\n",
       "      <th>visitorsCummulativeB</th>\n",
       "    </tr>\n",
       "  </thead>\n",
       "  <tbody>\n",
       "    <tr>\n",
       "      <th>0</th>\n",
       "      <td>2019-08-01</td>\n",
       "      <td>24</td>\n",
       "      <td>148579</td>\n",
       "      <td>21</td>\n",
       "      <td>101217</td>\n",
       "      <td>24</td>\n",
       "      <td>148579</td>\n",
       "      <td>21</td>\n",
       "      <td>101217</td>\n",
       "      <td>719</td>\n",
       "      <td>713</td>\n",
       "      <td>719</td>\n",
       "      <td>713</td>\n",
       "    </tr>\n",
       "    <tr>\n",
       "      <th>1</th>\n",
       "      <td>2019-08-02</td>\n",
       "      <td>20</td>\n",
       "      <td>93822</td>\n",
       "      <td>24</td>\n",
       "      <td>165531</td>\n",
       "      <td>44</td>\n",
       "      <td>242401</td>\n",
       "      <td>45</td>\n",
       "      <td>266748</td>\n",
       "      <td>619</td>\n",
       "      <td>581</td>\n",
       "      <td>1338</td>\n",
       "      <td>1294</td>\n",
       "    </tr>\n",
       "    <tr>\n",
       "      <th>2</th>\n",
       "      <td>2019-08-03</td>\n",
       "      <td>24</td>\n",
       "      <td>112473</td>\n",
       "      <td>16</td>\n",
       "      <td>114248</td>\n",
       "      <td>68</td>\n",
       "      <td>354874</td>\n",
       "      <td>61</td>\n",
       "      <td>380996</td>\n",
       "      <td>507</td>\n",
       "      <td>509</td>\n",
       "      <td>1845</td>\n",
       "      <td>1803</td>\n",
       "    </tr>\n",
       "    <tr>\n",
       "      <th>3</th>\n",
       "      <td>2019-08-04</td>\n",
       "      <td>16</td>\n",
       "      <td>70825</td>\n",
       "      <td>17</td>\n",
       "      <td>108571</td>\n",
       "      <td>84</td>\n",
       "      <td>425699</td>\n",
       "      <td>78</td>\n",
       "      <td>489567</td>\n",
       "      <td>717</td>\n",
       "      <td>770</td>\n",
       "      <td>2562</td>\n",
       "      <td>2573</td>\n",
       "    </tr>\n",
       "    <tr>\n",
       "      <th>4</th>\n",
       "      <td>2019-08-05</td>\n",
       "      <td>25</td>\n",
       "      <td>124218</td>\n",
       "      <td>23</td>\n",
       "      <td>92428</td>\n",
       "      <td>109</td>\n",
       "      <td>549917</td>\n",
       "      <td>101</td>\n",
       "      <td>581995</td>\n",
       "      <td>756</td>\n",
       "      <td>707</td>\n",
       "      <td>3318</td>\n",
       "      <td>3280</td>\n",
       "    </tr>\n",
       "  </tbody>\n",
       "</table>\n",
       "</div>"
      ],
      "text/plain": [
       "        date  ordersPerDateA  revenuePerDateA  ordersPerDateB  \\\n",
       "0 2019-08-01              24           148579              21   \n",
       "1 2019-08-02              20            93822              24   \n",
       "2 2019-08-03              24           112473              16   \n",
       "3 2019-08-04              16            70825              17   \n",
       "4 2019-08-05              25           124218              23   \n",
       "\n",
       "   revenuePerDateB  ordersCummulativeA  revenueCummulativeA  \\\n",
       "0           101217                  24               148579   \n",
       "1           165531                  44               242401   \n",
       "2           114248                  68               354874   \n",
       "3           108571                  84               425699   \n",
       "4            92428                 109               549917   \n",
       "\n",
       "   ordersCummulativeB  revenueCummulativeB  visitorsPerDateA  \\\n",
       "0                  21               101217               719   \n",
       "1                  45               266748               619   \n",
       "2                  61               380996               507   \n",
       "3                  78               489567               717   \n",
       "4                 101               581995               756   \n",
       "\n",
       "   visitorsPerDateB  visitorsCummulativeA  visitorsCummulativeB  \n",
       "0               713                   719                   713  \n",
       "1               581                  1338                  1294  \n",
       "2               509                  1845                  1803  \n",
       "3               770                  2562                  2573  \n",
       "4               707                  3318                  3280  "
      ]
     },
     "metadata": {},
     "output_type": "display_data"
    },
    {
     "name": "stdout",
     "output_type": "stream",
     "text": [
      "p-value: 0.017\n",
      "Относительное различие в среднем между группами: 0.138\n"
     ]
    }
   ],
   "source": [
    "# Изучим таблицу\n",
    "# поделим пользователей на группы А и В\n",
    "visitorsADaily = visitors[visitors['group'] == 'A'][['date', 'visitors']]\n",
    "visitorsADaily.columns = ['date', 'visitorsPerDateA']\n",
    "\n",
    "visitorsACummulative = visitorsADaily.apply(\n",
    "    lambda x: visitorsADaily[visitorsADaily['date'] <= x['date']].agg(\n",
    "        {'date': 'max', 'visitorsPerDateA': 'sum'}),axis=1,)\n",
    "\n",
    "visitorsACummulative.columns = ['date', 'visitorsCummulativeA']\n",
    "\n",
    "visitorsBDaily = visitors[visitors['group'] == 'B'][['date', 'visitors']]\n",
    "visitorsBDaily.columns = ['date', 'visitorsPerDateB']\n",
    "\n",
    "visitorsBCummulative = visitorsBDaily.apply(\n",
    "    lambda x: visitorsBDaily[visitorsBDaily['date'] <= x['date']].agg(\n",
    "        {'date': 'max', 'visitorsPerDateB': 'sum'}), axis=1,)\n",
    "visitorsBCummulative.columns = ['date', 'visitorsCummulativeB']\n",
    "\n",
    "ordersADaily = (\n",
    "    orders[orders['group'] == 'A'][['date', 'transactionId', 'visitorId', 'revenue']]\n",
    "    .groupby('date', as_index=False)\n",
    "    .agg({'transactionId': pd.Series.nunique, 'revenue': 'sum'})\n",
    ")\n",
    "ordersADaily.columns = ['date', 'ordersPerDateA', 'revenuePerDateA']\n",
    "\n",
    "ordersACummulative = (ordersADaily.apply(\n",
    "    lambda x: ordersADaily[ordersADaily['date'] <= x['date']].agg(\n",
    "        {'date': 'max', 'ordersPerDateA': 'sum', 'revenuePerDateA': 'sum'}), axis=1)\n",
    "                      .sort_values(by=['date'])\n",
    "                     )\n",
    "ordersACummulative.columns = ['date',\n",
    "                              'ordersCummulativeA',\n",
    "                              'revenueCummulativeA']\n",
    "\n",
    "ordersBDaily = (\n",
    "    orders[orders['group'] == 'B'][['date', 'transactionId', 'visitorId', 'revenue']]\n",
    "    .groupby('date', as_index=False)\n",
    "    .agg({'transactionId': pd.Series.nunique, 'revenue': 'sum'})\n",
    ")\n",
    "ordersBDaily.columns = ['date', 'ordersPerDateB', 'revenuePerDateB']\n",
    "\n",
    "ordersBCummulative = ordersBDaily.apply(\n",
    "    lambda x: ordersBDaily[ordersBDaily['date'] <= x['date']].agg(\n",
    "        {'date': 'max', 'ordersPerDateB': 'sum', 'revenuePerDateB': 'sum'}),\n",
    "    axis=1).sort_values(by=['date'])\n",
    "\n",
    "ordersBCummulative.columns = ['date',\n",
    "                              'ordersCummulativeB',\n",
    "                              'revenueCummulativeB']\n",
    "# дата\n",
    "data = (\n",
    "    ordersADaily.merge(ordersBDaily, left_on='date', right_on='date', how='left')\n",
    "    .merge(ordersACummulative, left_on='date', right_on='date', how='left')\n",
    "    .merge(ordersBCummulative, left_on='date', right_on='date', how='left')\n",
    "    .merge(visitorsADaily, left_on='date', right_on='date', how='left')\n",
    "    .merge(visitorsBDaily, left_on='date', right_on='date', how='left')\n",
    "    .merge(visitorsACummulative, left_on='date', right_on='date', how='left')\n",
    "    .merge(visitorsBCummulative, left_on='date', right_on='date', how='left')\n",
    ")\n",
    "# напечатаем сагрегированные данные\n",
    "display(data.head(5))\n",
    "\n",
    "\n",
    "# создадим ordersByUsersA и ordersByUsersB для пользователей,\n",
    "# совершивших хотя бы 1 заказ, будет указано число заказов\n",
    "ordersByUsersA = (orders[orders['group'] == 'A']\n",
    "                  .groupby('visitorId', as_index=False)\n",
    "                  .agg({'transactionId': pd.Series.nunique})\n",
    "                  )\n",
    "ordersByUsersA.columns = ['visitorId', 'orders']\n",
    "\n",
    "ordersByUsersB = (orders[orders['group'] == 'B']\n",
    "                  .groupby('visitorId', as_index=False)\n",
    "                  .agg({'transactionId': pd.Series.nunique})\n",
    "                  )\n",
    "ordersByUsersB.columns = ['visitorId', 'orders'] \n",
    "\n",
    "# Объявим переменные sampleA и sampleB, в которых пользователям\n",
    "# с заказами будет соответствовать число заказов пользователя\n",
    "sampleA = pd.concat([ordersByUsersA['orders'],pd.Series(0, index=np.arange(data['visitorsPerDateA'].sum() - len(ordersByUsersA['orders'])), name='orders')],axis=0)\n",
    "sampleB = pd.concat([ordersByUsersB['orders'],pd.Series(0, index=np.arange(data['visitorsPerDateB'].sum() - len(ordersByUsersB['orders'])), name='orders')],axis=0)\n",
    "\n",
    "ordersByUsersA = (orders[orders['group'] == 'A']\n",
    "                  .groupby('visitorId', as_index=False)\n",
    "                  .agg({'transactionId': pd.Series.nunique}))\n",
    "ordersByUsersA.columns = ['visitorId', 'orders']\n",
    "\n",
    "ordersByUsersB = (orders[orders['group'] == 'B']\n",
    "                  .groupby('visitorId', as_index=False)\n",
    "                  .agg({'transactionId': pd.Series.nunique}))\n",
    "ordersByUsersB.columns = ['visitorId', 'orders']\n",
    "\n",
    "sampleA = pd.concat([ordersByUsersA['orders'],\n",
    "                     pd.Series(0,\n",
    "                               index=np.arange(data['visitorsPerDateA'].sum() - len(ordersByUsersA['orders'])),\n",
    "                               name='orders')],\n",
    "                    axis=0)\n",
    "\n",
    "sampleB = pd.concat([ordersByUsersB['orders'],\n",
    "                     pd.Series(0,\n",
    "                               index=np.arange(data['visitorsPerDateB'].sum() - len(ordersByUsersB['orders'])),\n",
    "                               name='orders')],\n",
    "                    axis=0)\n",
    "\n",
    "# Применим тест Манна-Уитни, выведем p-value для сравнения среднего между группами\n",
    "print('p-value:', \"{0:.3f}\".format(stats.mannwhitneyu(sampleA, sampleB)[1]))\n",
    "\n",
    "# относительное различие в среднем между группами\n",
    "print('Относительное различие в среднем между группами:', \"{0:.3f}\".format(sampleB.mean() / sampleA.mean() - 1))"
   ]
  },
  {
   "cell_type": "markdown",
   "metadata": {},
   "source": [
    "* p-value 1,7% - значительно ниже 5%, поэтому различия в среднем количестве заказов на посетителя между группами по «сырым» данным - Есть.\n",
    "* Прирост среднего группы В/группе А равен 13,8%"
   ]
  },
  {
   "cell_type": "markdown",
   "metadata": {},
   "source": [
    "### 4.11 Посчитать статистическую значимость различий в среднем чеке заказа между группами по «сырым» данным. Сделать выводы и предположения."
   ]
  },
  {
   "cell_type": "markdown",
   "metadata": {},
   "source": [
    "Сформулируем гипотезы. Проверка тест Манна-Уитни .mannwhitneyu():\n",
    "\n",
    "* H0 нулевая гипотеза: отличия в среднем чеке заказа между группами А и Б -нет.\n",
    "* Н1 альтернативная гипотеза: отличия в среднем между группами - Есть."
   ]
  },
  {
   "cell_type": "code",
   "execution_count": 29,
   "metadata": {},
   "outputs": [
    {
     "name": "stdout",
     "output_type": "stream",
     "text": [
      "p-value: 0.729\n",
      "относительный прирост среднего чека группы B / А: 0.259\n"
     ]
    }
   ],
   "source": [
    "# Применим тест Манна-Уитни, выведем p-value для сравнения средних чеков между группами\n",
    "print('p-value:', '{0:.3f}'.format(stats.mannwhitneyu(orders[orders['group']=='A']['revenue'], orders[orders['group']=='B']['revenue'])[1]))\n",
    "# относительный прирост среднего чека группы B / А\n",
    "print('относительный прирост среднего чека группы B / А:','{0:.3f}'.format(orders[orders['group']=='B']['revenue'].mean()/orders[orders['group']=='A']['revenue'].mean()-1))"
   ]
  },
  {
   "cell_type": "markdown",
   "metadata": {},
   "source": [
    "* p-value 72,9% поэтому различий в среднем чеке заказа между группами по «сырым» между группами - Нет.\n",
    "* Прирост среднего чека группы В/группе А равен 25,9%"
   ]
  },
  {
   "cell_type": "markdown",
   "metadata": {},
   "source": [
    "### 4.12 Посчитать статистическую значимость различий в среднем количестве заказов на посетителя между группами по «очищенным» данным. Сделать выводы и предположения."
   ]
  },
  {
   "cell_type": "code",
   "execution_count": 30,
   "metadata": {
    "tags": []
   },
   "outputs": [
    {
     "data": {
      "text/plain": [
       "'Количество аномальных пользователей: 74 шт.'"
      ]
     },
     "execution_count": 30,
     "metadata": {},
     "output_type": "execute_result"
    }
   ],
   "source": [
    "# определим аномальных пользователей (5% от распределения)\n",
    "# которые совершили > 2 заказов\n",
    "usersWithManyOrders = pd.concat([ordersByUsersA[ordersByUsersA['orders'] > 2]['visitorId'],\n",
    "                                ordersByUsersB[ordersByUsersB['orders'] > 2]['visitorId']],\n",
    "                                axis=0)\n",
    "\n",
    "# и определим у кого стоимость заказов превышает 95% перцентнеля (28 000)\n",
    "usersWithExpensiveOrders = orders[orders['revenue'] > (np.percentile(orders['revenue'], [95])[0])]['visitorId']\n",
    "abnormalUsers = (\n",
    "    pd.concat([usersWithManyOrders, usersWithExpensiveOrders], axis=0)\n",
    "    .drop_duplicates()\n",
    "    .sort_values()\n",
    ")\n",
    "\n",
    "f'Количество аномальных пользователей: {len(abnormalUsers)} шт.'"
   ]
  },
  {
   "cell_type": "code",
   "execution_count": 31,
   "metadata": {},
   "outputs": [
    {
     "name": "stdout",
     "output_type": "stream",
     "text": [
      "p-value: 0.013\n",
      "относительный прирост среднего чека группы B / А: 0.173\n"
     ]
    }
   ],
   "source": [
    "# сохраним очищенные данные о заказах — не включая аномальных пользователей\n",
    "sampleAFiltered = pd.concat([ordersByUsersA[np.logical_not(ordersByUsersA['visitorId'].isin(abnormalUsers))]['orders'],\n",
    "                             pd.Series(0,\n",
    "                                       index=np.arange(data['visitorsPerDateA'].sum() - len(ordersByUsersA['orders'])),\n",
    "                                       name='orders')],\n",
    "                            axis=0)\n",
    "\n",
    "sampleBFiltered = pd.concat([ordersByUsersB[np.logical_not(ordersByUsersB['visitorId'].isin(abnormalUsers))]['orders'],\n",
    "                             pd.Series(0,\n",
    "                                       index=np.arange(data['visitorsPerDateB'].sum() - len(ordersByUsersB['orders'])),\n",
    "                                       name='orders')],\n",
    "                            axis=0)\n",
    "\n",
    "# Применим тест Манна-Уитни, выведем p-value для сравнения\n",
    "# среднем количестве заказов на посетителя\n",
    "print('p-value:', '{0:.3f}'.format(stats.mannwhitneyu(sampleAFiltered, sampleBFiltered)[1]))\n",
    "# относительный прирост среднего чека группы B / А\n",
    "print('относительный прирост среднего чека группы B / А:', '{0:.3f}'.format(sampleBFiltered.mean()/sampleAFiltered.mean()-1)) "
   ]
  },
  {
   "cell_type": "markdown",
   "metadata": {},
   "source": [
    "* Выводы схожи с выводами сырых данных, значимость достигнута, различия в среднем количестве заказов на посетителя группы В лучше группы А.\n",
    "* p-value 1,3% лучше (на сырых данных было 1,7%).\n",
    "* Прирост среднего группы В/группе А равен 17,3%"
   ]
  },
  {
   "cell_type": "markdown",
   "metadata": {},
   "source": [
    "### 4.13 Посчитать статистическую значимость различий в среднем чеке заказа между группами по «очищенным» данным. Сделать выводы и предположения."
   ]
  },
  {
   "cell_type": "code",
   "execution_count": 32,
   "metadata": {},
   "outputs": [
    {
     "name": "stdout",
     "output_type": "stream",
     "text": [
      "p-value: 0.738\n",
      "относительный прирост среднего чека очищенной группы B: -0.020\n"
     ]
    }
   ],
   "source": [
    "# p-value для сравнения средних чеков между очищенными группами.\n",
    "print('p-value:',\n",
    "      '{0:.3f}'.format(stats.mannwhitneyu(orders[np.logical_and(orders['group'] == 'A',\n",
    "                                                                np.logical_not(orders['visitorId']\\\n",
    "                                                                               .isin(abnormalUsers)))]['revenue'],\n",
    "                                          orders[np.logical_and(orders['group'] == 'B',\n",
    "                                                                np.logical_not(orders['visitorId']\\\n",
    "                                                                               .isin(abnormalUsers)))]['revenue'])[1]\n",
    "                      )\n",
    "      )\n",
    "\n",
    "# относительный прирост среднего чека очищенной группы B\n",
    "print('относительный прирост среднего чека очищенной группы B:',\n",
    "    \"{0:.3f}\".format(orders[np.logical_and(orders['group'] == 'B',\n",
    "                                           np.logical_not(orders['visitorId'].isin(abnormalUsers)))]['revenue'].mean() \\\n",
    "                     / orders[np.logical_and(orders['group'] == 'A',\n",
    "                                             np.logical_not(orders['visitorId'].isin(abnormalUsers)))]['revenue'].mean() - 1\n",
    "                    )\n",
    "      )"
   ]
  },
  {
   "cell_type": "markdown",
   "metadata": {},
   "source": [
    "* Статистической значимости по сравнению с не очищенными данными не появилось\n",
    "* p-value 73,8% поэтому различий в среднем чеке заказа между группами по «сырым» между группами - Нет.\n",
    "* Прирост среднего чека группы В/группе А -2%, это статистически значимо, значит там меньше шума."
   ]
  },
  {
   "cell_type": "markdown",
   "metadata": {},
   "source": [
    "### 4.14 Принять решение по результатам теста и объяснить его.\n",
    "Варианты решений: \n",
    "1. Остановить тест, зафиксировать победу одной из групп. \n",
    "2. Остановить тест, зафиксировать отсутствие различий между группами. \n",
    "3. Продолжить тест."
   ]
  },
  {
   "cell_type": "markdown",
   "metadata": {},
   "source": [
    "**Выводы:**\n",
    "* Различия в среднем количестве заказов на посетителя между группами - Есть.\n",
    "* Различия в среднем чеке заказа между группами - Нет. Графики среднего чека не стабилизировались.\n",
    "* В очищенных даных (без выбросов) выводы такие же и статистически цифры лучше подтверждают выводы.\n",
    "\n",
    "* Нет смысла продолжать тест до стабилизации графиков и можно принять решение уже сейчас, поскольку получается, что продолжая тест мы подглядываем и будем ждать \"нужных\" результатов и тратить ресурсы. Остановить тест, зафиксировать победу группы \"В\" в среднем количестве заказов на посетителя."
   ]
  },
  {
   "cell_type": "markdown",
   "metadata": {},
   "source": [
    "## 5. Вывод"
   ]
  },
  {
   "cell_type": "markdown",
   "metadata": {},
   "source": [
    "**5.1 Приоретизация гипотез:**\n",
    "\n",
    "* Наиболее перспективные гипотезы по ICE:\n",
    "    - Запустить акцию, дающую скидку на товар в день рождения\t16.2\n",
    "    - Добавить два новых канала привлечения трафика, что позволит привлекать на 30% больше пользователей 13.3\n",
    "\n",
    "* Наиболее перспективные гипотезы RICE:\n",
    "    - Добавить форму подписки на все основные страницы, чтобы собрать базу клиентов для email-рассылок\t-112\n",
    "    - Добавить блоки рекомендаций товаров на сайт интернет магазина, чтобы повысить конверсию и средний чек заказа -56\n",
    "\n",
    "* Гипозеза 7 по RICE на 1ом месте, а по ICE на 3ем. Потому что RICE еще учитывает Reach — скольких пользователей затронет изменение, это тоже важно и дает большой импакт, лучше выбирать по RICE.\n",
    "\n",
    "**5.2 Анализ А/В-теста:**\n",
    "* Различия в среднем количестве заказов на посетителя между группами - Есть.\n",
    "* Различия в среднем чеке заказа между группами - Нет. Графики среднего чека не стабилизировались.\n",
    "* В очищенных даных (без выбросов) выводы такие же и статистически цифры лучше подтверждают выводы.\n",
    "\n",
    "* Нет смысла продолжать тест до стабилизации графиков и можно принять решение уже сейчас, поскольку получается, что продолжая тест мы подглядываем и будем ждать \"нужных\" результатов и тратить ресурсы. Остановить тест, зафиксировать победу группы \"В\" в среднем количестве заказов на посетителя."
   ]
  },
  {
   "cell_type": "code",
   "execution_count": null,
   "metadata": {},
   "outputs": [],
   "source": []
  }
 ],
 "metadata": {
  "ExecuteTimeLog": [
   {
    "duration": 136,
    "start_time": "2023-08-31T18:49:28.772Z"
   },
   {
    "duration": 108,
    "start_time": "2023-08-31T18:49:35.249Z"
   },
   {
    "duration": 119,
    "start_time": "2023-08-31T18:50:18.080Z"
   },
   {
    "duration": 161,
    "start_time": "2023-08-31T18:51:35.120Z"
   },
   {
    "duration": 418,
    "start_time": "2023-09-02T11:39:25.531Z"
   },
   {
    "duration": 944,
    "start_time": "2023-09-02T12:05:26.540Z"
   },
   {
    "duration": 214,
    "start_time": "2023-09-02T12:05:28.859Z"
   },
   {
    "duration": 148,
    "start_time": "2023-09-02T12:05:52.154Z"
   },
   {
    "duration": 17,
    "start_time": "2023-09-02T12:05:57.774Z"
   },
   {
    "duration": 15,
    "start_time": "2023-09-02T12:10:01.634Z"
   },
   {
    "duration": 16,
    "start_time": "2023-09-02T12:10:28.979Z"
   },
   {
    "duration": 16,
    "start_time": "2023-09-02T12:23:40.381Z"
   },
   {
    "duration": 14,
    "start_time": "2023-09-02T12:23:42.022Z"
   },
   {
    "duration": 20,
    "start_time": "2023-09-02T12:25:19.561Z"
   },
   {
    "duration": 29,
    "start_time": "2023-09-02T12:25:28.135Z"
   },
   {
    "duration": 674,
    "start_time": "2023-09-02T12:26:10.063Z"
   },
   {
    "duration": 1051,
    "start_time": "2023-09-02T12:26:32.362Z"
   },
   {
    "duration": 1015,
    "start_time": "2023-09-02T12:32:21.294Z"
   },
   {
    "duration": 901,
    "start_time": "2023-09-02T12:32:29.525Z"
   },
   {
    "duration": 15,
    "start_time": "2023-09-02T12:40:22.291Z"
   },
   {
    "duration": 540,
    "start_time": "2023-09-02T12:43:58.270Z"
   },
   {
    "duration": 486,
    "start_time": "2023-09-02T12:44:21.827Z"
   },
   {
    "duration": 26,
    "start_time": "2023-09-02T12:46:09.672Z"
   },
   {
    "duration": 487,
    "start_time": "2023-09-02T12:47:53.278Z"
   },
   {
    "duration": 1101,
    "start_time": "2023-09-02T12:48:15.672Z"
   },
   {
    "duration": 80,
    "start_time": "2023-09-02T12:48:16.775Z"
   },
   {
    "duration": 30,
    "start_time": "2023-09-02T12:48:16.856Z"
   },
   {
    "duration": 17,
    "start_time": "2023-09-02T12:48:16.888Z"
   },
   {
    "duration": 33,
    "start_time": "2023-09-02T12:48:16.906Z"
   },
   {
    "duration": 915,
    "start_time": "2023-09-02T12:48:16.941Z"
   },
   {
    "duration": 29,
    "start_time": "2023-09-02T12:48:17.858Z"
   },
   {
    "duration": 554,
    "start_time": "2023-09-02T12:48:26.784Z"
   },
   {
    "duration": 1121,
    "start_time": "2023-09-02T12:48:32.273Z"
   },
   {
    "duration": 81,
    "start_time": "2023-09-02T12:48:33.396Z"
   },
   {
    "duration": 21,
    "start_time": "2023-09-02T12:48:33.479Z"
   },
   {
    "duration": 17,
    "start_time": "2023-09-02T12:48:33.502Z"
   },
   {
    "duration": 17,
    "start_time": "2023-09-02T12:48:33.520Z"
   },
   {
    "duration": 1023,
    "start_time": "2023-09-02T12:48:33.544Z"
   },
   {
    "duration": 17,
    "start_time": "2023-09-02T12:48:34.570Z"
   },
   {
    "duration": 1999,
    "start_time": "2023-09-02T12:53:47.089Z"
   },
   {
    "duration": 12,
    "start_time": "2023-09-02T12:54:43.689Z"
   },
   {
    "duration": 13,
    "start_time": "2023-09-02T12:58:07.417Z"
   },
   {
    "duration": 17,
    "start_time": "2023-09-02T12:59:08.584Z"
   },
   {
    "duration": 21,
    "start_time": "2023-09-02T12:59:19.383Z"
   },
   {
    "duration": 10,
    "start_time": "2023-09-02T13:00:53.984Z"
   },
   {
    "duration": 1909,
    "start_time": "2023-09-02T13:10:10.837Z"
   },
   {
    "duration": 2000,
    "start_time": "2023-09-02T13:10:20.622Z"
   },
   {
    "duration": 13,
    "start_time": "2023-09-02T13:10:55.274Z"
   },
   {
    "duration": 12,
    "start_time": "2023-09-02T13:10:58.457Z"
   },
   {
    "duration": 10,
    "start_time": "2023-09-02T13:11:49.677Z"
   },
   {
    "duration": 15,
    "start_time": "2023-09-02T13:12:13.079Z"
   },
   {
    "duration": 22,
    "start_time": "2023-09-02T13:17:41.040Z"
   },
   {
    "duration": 33,
    "start_time": "2023-09-02T19:31:42.241Z"
   },
   {
    "duration": 610,
    "start_time": "2023-09-02T19:42:32.566Z"
   },
   {
    "duration": 564,
    "start_time": "2023-09-02T19:42:42.741Z"
   },
   {
    "duration": 575,
    "start_time": "2023-09-02T19:44:07.268Z"
   },
   {
    "duration": 123,
    "start_time": "2023-09-02T19:44:59.740Z"
   },
   {
    "duration": 514,
    "start_time": "2023-09-02T19:45:06.573Z"
   },
   {
    "duration": 494,
    "start_time": "2023-09-02T19:45:11.588Z"
   },
   {
    "duration": 521,
    "start_time": "2023-09-02T19:45:45.988Z"
   },
   {
    "duration": 519,
    "start_time": "2023-09-02T19:48:03.161Z"
   },
   {
    "duration": 2123,
    "start_time": "2023-09-02T19:52:53.097Z"
   },
   {
    "duration": 243,
    "start_time": "2023-09-02T19:53:10.921Z"
   },
   {
    "duration": 223,
    "start_time": "2023-09-02T19:53:47.400Z"
   },
   {
    "duration": 252,
    "start_time": "2023-09-02T19:54:27.039Z"
   },
   {
    "duration": 243,
    "start_time": "2023-09-02T19:55:22.713Z"
   },
   {
    "duration": 52,
    "start_time": "2023-09-03T13:17:54.902Z"
   },
   {
    "duration": 1420,
    "start_time": "2023-09-03T13:18:05.176Z"
   },
   {
    "duration": 197,
    "start_time": "2023-09-03T13:18:06.599Z"
   },
   {
    "duration": 24,
    "start_time": "2023-09-03T13:18:06.798Z"
   },
   {
    "duration": 18,
    "start_time": "2023-09-03T13:18:06.824Z"
   },
   {
    "duration": 28,
    "start_time": "2023-09-03T13:18:06.844Z"
   },
   {
    "duration": 929,
    "start_time": "2023-09-03T13:18:06.874Z"
   },
   {
    "duration": 15,
    "start_time": "2023-09-03T13:18:07.808Z"
   },
   {
    "duration": 19,
    "start_time": "2023-09-03T13:18:07.825Z"
   },
   {
    "duration": 11,
    "start_time": "2023-09-03T13:18:07.846Z"
   },
   {
    "duration": 20,
    "start_time": "2023-09-03T13:18:07.860Z"
   },
   {
    "duration": 651,
    "start_time": "2023-09-03T13:18:07.882Z"
   },
   {
    "duration": 278,
    "start_time": "2023-09-03T13:18:08.535Z"
   },
   {
    "duration": 1497,
    "start_time": "2023-09-03T13:18:08.814Z"
   },
   {
    "duration": 16,
    "start_time": "2023-09-03T13:19:03.402Z"
   },
   {
    "duration": 14,
    "start_time": "2023-09-03T13:19:07.572Z"
   },
   {
    "duration": 408,
    "start_time": "2023-09-03T13:20:20.970Z"
   },
   {
    "duration": 423,
    "start_time": "2023-09-03T13:20:29.210Z"
   },
   {
    "duration": 390,
    "start_time": "2023-09-03T13:20:52.427Z"
   },
   {
    "duration": 332,
    "start_time": "2023-09-03T13:21:10.658Z"
   },
   {
    "duration": 405,
    "start_time": "2023-09-03T14:00:18.146Z"
   },
   {
    "duration": 13,
    "start_time": "2023-09-03T14:01:54.944Z"
   },
   {
    "duration": 205,
    "start_time": "2023-09-03T14:02:24.513Z"
   },
   {
    "duration": 313,
    "start_time": "2023-09-03T14:02:34.362Z"
   },
   {
    "duration": 297,
    "start_time": "2023-09-03T14:03:10.001Z"
   },
   {
    "duration": 513,
    "start_time": "2023-09-03T14:05:20.298Z"
   },
   {
    "duration": 283,
    "start_time": "2023-09-03T14:05:33.648Z"
   },
   {
    "duration": 310,
    "start_time": "2023-09-03T14:06:05.704Z"
   },
   {
    "duration": 202,
    "start_time": "2023-09-03T18:18:41.436Z"
   },
   {
    "duration": 1277,
    "start_time": "2023-09-03T18:18:50.461Z"
   },
   {
    "duration": 103,
    "start_time": "2023-09-03T18:18:51.749Z"
   },
   {
    "duration": 29,
    "start_time": "2023-09-03T18:18:51.854Z"
   },
   {
    "duration": 23,
    "start_time": "2023-09-03T18:18:51.885Z"
   },
   {
    "duration": 42,
    "start_time": "2023-09-03T18:18:51.915Z"
   },
   {
    "duration": 1236,
    "start_time": "2023-09-03T18:18:51.958Z"
   },
   {
    "duration": 32,
    "start_time": "2023-09-03T18:18:53.197Z"
   },
   {
    "duration": 36,
    "start_time": "2023-09-03T18:18:53.235Z"
   },
   {
    "duration": 33,
    "start_time": "2023-09-03T18:18:53.273Z"
   },
   {
    "duration": 61,
    "start_time": "2023-09-03T18:18:53.314Z"
   },
   {
    "duration": 1538,
    "start_time": "2023-09-03T18:18:53.378Z"
   },
   {
    "duration": 734,
    "start_time": "2023-09-03T18:18:54.919Z"
   },
   {
    "duration": 948,
    "start_time": "2023-09-03T18:18:55.656Z"
   },
   {
    "duration": 483,
    "start_time": "2023-09-03T18:18:56.613Z"
   },
   {
    "duration": 142,
    "start_time": "2023-09-03T18:18:57.098Z"
   },
   {
    "duration": 17,
    "start_time": "2023-09-03T18:20:23.048Z"
   },
   {
    "duration": 93,
    "start_time": "2023-09-03T18:20:36.117Z"
   },
   {
    "duration": 145,
    "start_time": "2023-09-03T18:20:45.790Z"
   },
   {
    "duration": 117,
    "start_time": "2023-09-03T18:21:02.547Z"
   },
   {
    "duration": 148,
    "start_time": "2023-09-03T18:21:11.365Z"
   },
   {
    "duration": 305,
    "start_time": "2023-09-03T18:21:34.254Z"
   },
   {
    "duration": 391,
    "start_time": "2023-09-03T18:21:41.566Z"
   },
   {
    "duration": 491,
    "start_time": "2023-09-03T18:22:28.947Z"
   },
   {
    "duration": 377,
    "start_time": "2023-09-03T18:23:38.739Z"
   },
   {
    "duration": 444,
    "start_time": "2023-09-03T18:23:52.467Z"
   },
   {
    "duration": 374,
    "start_time": "2023-09-03T18:23:56.943Z"
   },
   {
    "duration": 506,
    "start_time": "2023-09-03T18:24:43.112Z"
   },
   {
    "duration": 412,
    "start_time": "2023-09-03T18:24:58.972Z"
   },
   {
    "duration": 434,
    "start_time": "2023-09-03T18:25:21.195Z"
   },
   {
    "duration": 1366,
    "start_time": "2023-09-04T17:11:31.255Z"
   },
   {
    "duration": 232,
    "start_time": "2023-09-04T17:11:32.623Z"
   },
   {
    "duration": 28,
    "start_time": "2023-09-04T17:11:32.860Z"
   },
   {
    "duration": 18,
    "start_time": "2023-09-04T17:11:32.889Z"
   },
   {
    "duration": 45,
    "start_time": "2023-09-04T17:11:32.909Z"
   },
   {
    "duration": 918,
    "start_time": "2023-09-04T17:11:32.957Z"
   },
   {
    "duration": 13,
    "start_time": "2023-09-04T17:11:33.877Z"
   },
   {
    "duration": 23,
    "start_time": "2023-09-04T17:11:33.891Z"
   },
   {
    "duration": 17,
    "start_time": "2023-09-04T17:11:33.916Z"
   },
   {
    "duration": 36,
    "start_time": "2023-09-04T17:11:33.934Z"
   },
   {
    "duration": 619,
    "start_time": "2023-09-04T17:11:33.972Z"
   },
   {
    "duration": 265,
    "start_time": "2023-09-04T17:11:34.593Z"
   },
   {
    "duration": 697,
    "start_time": "2023-09-04T17:11:34.860Z"
   },
   {
    "duration": 879,
    "start_time": "2023-09-04T17:11:35.565Z"
   },
   {
    "duration": 782,
    "start_time": "2023-09-04T17:11:36.446Z"
   },
   {
    "duration": 226,
    "start_time": "2023-09-04T17:11:37.230Z"
   },
   {
    "duration": 184,
    "start_time": "2023-09-04T18:09:55.983Z"
   },
   {
    "duration": 153,
    "start_time": "2023-09-04T18:10:09.415Z"
   },
   {
    "duration": 191,
    "start_time": "2023-09-04T18:13:48.094Z"
   },
   {
    "duration": 10,
    "start_time": "2023-09-04T18:14:33.726Z"
   },
   {
    "duration": 1936,
    "start_time": "2023-09-04T18:17:26.757Z"
   },
   {
    "duration": 144,
    "start_time": "2023-09-04T18:17:35.753Z"
   },
   {
    "duration": 177,
    "start_time": "2023-09-04T18:21:06.379Z"
   },
   {
    "duration": 115,
    "start_time": "2023-09-04T18:22:56.179Z"
   },
   {
    "duration": 223,
    "start_time": "2023-09-04T18:23:01.723Z"
   },
   {
    "duration": 195,
    "start_time": "2023-09-04T18:23:10.011Z"
   },
   {
    "duration": 190,
    "start_time": "2023-09-04T18:23:21.707Z"
   },
   {
    "duration": 268,
    "start_time": "2023-09-04T18:23:55.603Z"
   },
   {
    "duration": 287,
    "start_time": "2023-09-04T18:24:01.617Z"
   },
   {
    "duration": 200,
    "start_time": "2023-09-04T18:26:00.653Z"
   },
   {
    "duration": 216,
    "start_time": "2023-09-04T18:26:26.666Z"
   },
   {
    "duration": 231,
    "start_time": "2023-09-04T18:26:39.978Z"
   },
   {
    "duration": 196,
    "start_time": "2023-09-04T18:26:46.490Z"
   },
   {
    "duration": 211,
    "start_time": "2023-09-04T18:26:52.218Z"
   },
   {
    "duration": 13,
    "start_time": "2023-09-04T18:29:19.941Z"
   },
   {
    "duration": 598,
    "start_time": "2023-09-04T18:57:16.575Z"
   },
   {
    "duration": 599,
    "start_time": "2023-09-04T18:59:04.349Z"
   },
   {
    "duration": 592,
    "start_time": "2023-09-04T19:00:21.821Z"
   },
   {
    "duration": 784,
    "start_time": "2023-09-04T19:03:26.804Z"
   },
   {
    "duration": 522,
    "start_time": "2023-09-04T19:07:49.868Z"
   },
   {
    "duration": 13,
    "start_time": "2023-09-04T19:09:39.907Z"
   },
   {
    "duration": 11,
    "start_time": "2023-09-04T19:11:25.582Z"
   },
   {
    "duration": 113,
    "start_time": "2023-09-04T19:13:37.769Z"
   },
   {
    "duration": 2390,
    "start_time": "2023-09-04T19:16:44.438Z"
   },
   {
    "duration": 23,
    "start_time": "2023-09-04T19:17:19.849Z"
   },
   {
    "duration": 9,
    "start_time": "2023-09-04T19:19:46.783Z"
   },
   {
    "duration": 14,
    "start_time": "2023-09-04T19:21:18.151Z"
   },
   {
    "duration": 189,
    "start_time": "2023-09-04T19:22:41.185Z"
   },
   {
    "duration": 9,
    "start_time": "2023-09-04T19:22:48.664Z"
   },
   {
    "duration": 9,
    "start_time": "2023-09-04T19:22:58.482Z"
   },
   {
    "duration": 15,
    "start_time": "2023-09-04T19:23:38.546Z"
   },
   {
    "duration": 14,
    "start_time": "2023-09-04T19:23:47.741Z"
   },
   {
    "duration": 11,
    "start_time": "2023-09-04T19:23:52.267Z"
   },
   {
    "duration": 9,
    "start_time": "2023-09-04T19:24:09.285Z"
   },
   {
    "duration": 15,
    "start_time": "2023-09-04T19:24:12.915Z"
   },
   {
    "duration": 9,
    "start_time": "2023-09-04T19:25:09.162Z"
   },
   {
    "duration": 2674,
    "start_time": "2023-09-04T19:28:00.949Z"
   },
   {
    "duration": 41,
    "start_time": "2023-09-04T19:28:46.250Z"
   },
   {
    "duration": 45,
    "start_time": "2023-09-04T19:31:30.507Z"
   },
   {
    "duration": 1762,
    "start_time": "2023-09-04T19:43:21.181Z"
   },
   {
    "duration": 20,
    "start_time": "2023-09-04T19:43:35.664Z"
   },
   {
    "duration": 21,
    "start_time": "2023-09-04T19:44:30.645Z"
   },
   {
    "duration": 1193,
    "start_time": "2023-09-05T06:50:17.505Z"
   },
   {
    "duration": 194,
    "start_time": "2023-09-05T06:50:18.700Z"
   },
   {
    "duration": 19,
    "start_time": "2023-09-05T06:50:18.896Z"
   },
   {
    "duration": 18,
    "start_time": "2023-09-05T06:50:18.917Z"
   },
   {
    "duration": 16,
    "start_time": "2023-09-05T06:50:18.937Z"
   },
   {
    "duration": 794,
    "start_time": "2023-09-05T06:50:18.955Z"
   },
   {
    "duration": 12,
    "start_time": "2023-09-05T06:50:19.751Z"
   },
   {
    "duration": 22,
    "start_time": "2023-09-05T06:50:19.764Z"
   },
   {
    "duration": 16,
    "start_time": "2023-09-05T06:50:19.787Z"
   },
   {
    "duration": 23,
    "start_time": "2023-09-05T06:50:19.806Z"
   },
   {
    "duration": 507,
    "start_time": "2023-09-05T06:50:19.831Z"
   },
   {
    "duration": 213,
    "start_time": "2023-09-05T06:50:20.339Z"
   },
   {
    "duration": 389,
    "start_time": "2023-09-05T06:50:20.553Z"
   },
   {
    "duration": 283,
    "start_time": "2023-09-05T06:50:20.944Z"
   },
   {
    "duration": 344,
    "start_time": "2023-09-05T06:50:21.229Z"
   },
   {
    "duration": 139,
    "start_time": "2023-09-05T06:50:21.574Z"
   },
   {
    "duration": 4,
    "start_time": "2023-09-05T06:50:21.715Z"
   },
   {
    "duration": 160,
    "start_time": "2023-09-05T06:50:21.720Z"
   },
   {
    "duration": 158,
    "start_time": "2023-09-05T06:50:21.882Z"
   },
   {
    "duration": 10,
    "start_time": "2023-09-05T06:50:22.041Z"
   },
   {
    "duration": 447,
    "start_time": "2023-09-05T06:50:22.052Z"
   },
   {
    "duration": 9,
    "start_time": "2023-09-05T06:50:22.501Z"
   },
   {
    "duration": 24,
    "start_time": "2023-09-05T06:50:22.511Z"
   },
   {
    "duration": 52,
    "start_time": "2023-09-05T06:50:22.536Z"
   },
   {
    "duration": 12,
    "start_time": "2023-09-05T06:50:22.589Z"
   },
   {
    "duration": 45,
    "start_time": "2023-09-06T16:29:42.546Z"
   },
   {
    "duration": 1418,
    "start_time": "2023-09-06T16:29:52.896Z"
   },
   {
    "duration": 259,
    "start_time": "2023-09-06T16:29:55.434Z"
   },
   {
    "duration": 23,
    "start_time": "2023-09-06T16:29:58.834Z"
   },
   {
    "duration": 18,
    "start_time": "2023-09-06T16:30:00.945Z"
   },
   {
    "duration": 29,
    "start_time": "2023-09-06T16:30:02.261Z"
   },
   {
    "duration": 13,
    "start_time": "2023-09-06T16:30:06.983Z"
   },
   {
    "duration": 6,
    "start_time": "2023-09-06T16:30:08.560Z"
   },
   {
    "duration": 9,
    "start_time": "2023-09-06T16:30:22.607Z"
   },
   {
    "duration": 2,
    "start_time": "2023-09-06T20:16:59.163Z"
   },
   {
    "duration": 1373,
    "start_time": "2023-09-11T10:38:17.726Z"
   },
   {
    "duration": 249,
    "start_time": "2023-09-11T10:38:20.323Z"
   },
   {
    "duration": 20,
    "start_time": "2023-09-11T10:38:22.915Z"
   },
   {
    "duration": 17,
    "start_time": "2023-09-11T10:38:26.138Z"
   },
   {
    "duration": 17,
    "start_time": "2023-09-11T10:38:27.828Z"
   },
   {
    "duration": 918,
    "start_time": "2023-09-11T10:38:29.889Z"
   },
   {
    "duration": 15,
    "start_time": "2023-09-11T10:38:40.601Z"
   },
   {
    "duration": 8,
    "start_time": "2023-09-11T10:38:44.667Z"
   },
   {
    "duration": 11,
    "start_time": "2023-09-11T10:40:58.401Z"
   },
   {
    "duration": 4,
    "start_time": "2023-09-11T10:41:44.755Z"
   },
   {
    "duration": 6,
    "start_time": "2023-09-11T10:41:56.000Z"
   },
   {
    "duration": 5,
    "start_time": "2023-09-11T10:42:24.697Z"
   },
   {
    "duration": 6,
    "start_time": "2023-09-11T10:43:11.072Z"
   },
   {
    "duration": 284,
    "start_time": "2023-09-11T10:43:23.346Z"
   },
   {
    "duration": 7,
    "start_time": "2023-09-11T10:45:39.081Z"
   },
   {
    "duration": 100,
    "start_time": "2023-09-11T10:48:36.975Z"
   },
   {
    "duration": 7,
    "start_time": "2023-09-11T10:48:44.743Z"
   },
   {
    "duration": 10,
    "start_time": "2023-09-11T10:48:54.814Z"
   },
   {
    "duration": 7,
    "start_time": "2023-09-11T10:49:01.991Z"
   },
   {
    "duration": 6,
    "start_time": "2023-09-11T10:49:07.703Z"
   },
   {
    "duration": 6,
    "start_time": "2023-09-11T10:49:14.567Z"
   },
   {
    "duration": 6,
    "start_time": "2023-09-11T10:49:35.223Z"
   },
   {
    "duration": 24,
    "start_time": "2023-09-11T10:50:15.455Z"
   },
   {
    "duration": 13,
    "start_time": "2023-09-11T10:50:24.391Z"
   },
   {
    "duration": 13,
    "start_time": "2023-09-11T10:51:04.911Z"
   },
   {
    "duration": 14,
    "start_time": "2023-09-11T10:59:37.261Z"
   },
   {
    "duration": 8,
    "start_time": "2023-09-11T11:09:28.011Z"
   },
   {
    "duration": 7,
    "start_time": "2023-09-11T11:10:41.715Z"
   },
   {
    "duration": 9,
    "start_time": "2023-09-11T11:10:54.183Z"
   },
   {
    "duration": 13,
    "start_time": "2023-09-11T11:11:13.498Z"
   },
   {
    "duration": 19,
    "start_time": "2023-09-11T11:12:03.306Z"
   },
   {
    "duration": 10,
    "start_time": "2023-09-11T11:12:40.282Z"
   },
   {
    "duration": 12,
    "start_time": "2023-09-11T11:12:46.034Z"
   },
   {
    "duration": 5,
    "start_time": "2023-09-11T11:16:23.889Z"
   },
   {
    "duration": 6,
    "start_time": "2023-09-11T11:16:39.737Z"
   },
   {
    "duration": 7,
    "start_time": "2023-09-11T11:16:57.609Z"
   },
   {
    "duration": 6,
    "start_time": "2023-09-11T11:17:01.279Z"
   },
   {
    "duration": 7,
    "start_time": "2023-09-11T11:17:04.480Z"
   },
   {
    "duration": 6,
    "start_time": "2023-09-11T11:17:30.521Z"
   },
   {
    "duration": 1929,
    "start_time": "2023-09-11T11:20:43.778Z"
   },
   {
    "duration": 6,
    "start_time": "2023-09-11T11:20:50.591Z"
   },
   {
    "duration": 6,
    "start_time": "2023-09-11T11:20:58.351Z"
   },
   {
    "duration": 2294,
    "start_time": "2023-09-11T11:21:04.311Z"
   },
   {
    "duration": 7,
    "start_time": "2023-09-11T11:21:26.984Z"
   },
   {
    "duration": 6,
    "start_time": "2023-09-11T11:22:48.589Z"
   },
   {
    "duration": 13,
    "start_time": "2023-09-11T11:23:43.742Z"
   },
   {
    "duration": 11,
    "start_time": "2023-09-11T11:24:02.853Z"
   },
   {
    "duration": 14,
    "start_time": "2023-09-11T11:24:13.570Z"
   },
   {
    "duration": 11,
    "start_time": "2023-09-11T11:24:20.369Z"
   },
   {
    "duration": 10,
    "start_time": "2023-09-11T11:26:03.422Z"
   },
   {
    "duration": 7,
    "start_time": "2023-09-11T11:26:07.710Z"
   },
   {
    "duration": 11,
    "start_time": "2023-09-11T11:28:11.877Z"
   },
   {
    "duration": 9,
    "start_time": "2023-09-11T11:28:18.948Z"
   },
   {
    "duration": 6,
    "start_time": "2023-09-11T12:12:45.216Z"
   },
   {
    "duration": 5,
    "start_time": "2023-09-11T12:13:19.873Z"
   },
   {
    "duration": 5,
    "start_time": "2023-09-11T12:13:31.337Z"
   },
   {
    "duration": 14,
    "start_time": "2023-09-11T12:16:51.800Z"
   },
   {
    "duration": 19,
    "start_time": "2023-09-11T12:17:02.303Z"
   },
   {
    "duration": 14,
    "start_time": "2023-09-11T12:17:06.191Z"
   },
   {
    "duration": 8,
    "start_time": "2023-09-11T12:18:25.303Z"
   },
   {
    "duration": 16,
    "start_time": "2023-09-11T12:18:34.926Z"
   },
   {
    "duration": 1285,
    "start_time": "2023-09-11T12:18:55.889Z"
   },
   {
    "duration": 1422,
    "start_time": "2023-09-11T12:19:19.284Z"
   },
   {
    "duration": 15,
    "start_time": "2023-09-11T12:19:35.710Z"
   },
   {
    "duration": 13,
    "start_time": "2023-09-11T12:19:57.126Z"
   },
   {
    "duration": 14,
    "start_time": "2023-09-11T12:20:04.350Z"
   },
   {
    "duration": 13,
    "start_time": "2023-09-11T12:21:14.886Z"
   },
   {
    "duration": 17,
    "start_time": "2023-09-11T12:23:35.524Z"
   },
   {
    "duration": 10,
    "start_time": "2023-09-11T12:23:52.957Z"
   },
   {
    "duration": 12,
    "start_time": "2023-09-11T12:24:03.325Z"
   },
   {
    "duration": 17,
    "start_time": "2023-09-11T12:24:14.132Z"
   },
   {
    "duration": 97,
    "start_time": "2023-09-11T12:30:42.564Z"
   },
   {
    "duration": 1209,
    "start_time": "2023-09-11T12:30:48.596Z"
   },
   {
    "duration": 4,
    "start_time": "2023-09-11T12:32:07.073Z"
   },
   {
    "duration": 12,
    "start_time": "2023-09-11T12:43:58.553Z"
   },
   {
    "duration": 11,
    "start_time": "2023-09-11T12:44:06.161Z"
   },
   {
    "duration": 520,
    "start_time": "2023-09-11T12:46:05.921Z"
   },
   {
    "duration": 1915,
    "start_time": "2023-09-11T12:46:13.515Z"
   },
   {
    "duration": 92,
    "start_time": "2023-09-11T12:46:15.432Z"
   },
   {
    "duration": 21,
    "start_time": "2023-09-11T12:46:15.526Z"
   },
   {
    "duration": 74,
    "start_time": "2023-09-11T12:46:15.550Z"
   },
   {
    "duration": 40,
    "start_time": "2023-09-11T12:46:15.625Z"
   },
   {
    "duration": 991,
    "start_time": "2023-09-11T12:46:15.710Z"
   },
   {
    "duration": 14,
    "start_time": "2023-09-11T12:46:16.709Z"
   },
   {
    "duration": 11,
    "start_time": "2023-09-11T12:46:16.725Z"
   },
   {
    "duration": 19,
    "start_time": "2023-09-11T12:46:16.737Z"
   },
   {
    "duration": 11,
    "start_time": "2023-09-11T12:46:16.759Z"
   },
   {
    "duration": 42,
    "start_time": "2023-09-11T12:46:16.772Z"
   },
   {
    "duration": 7,
    "start_time": "2023-09-11T12:46:16.815Z"
   },
   {
    "duration": 4,
    "start_time": "2023-09-11T12:46:16.824Z"
   },
   {
    "duration": 21,
    "start_time": "2023-09-11T12:46:16.830Z"
   },
   {
    "duration": 4,
    "start_time": "2023-09-11T12:46:16.853Z"
   },
   {
    "duration": 13,
    "start_time": "2023-09-11T12:46:16.858Z"
   },
   {
    "duration": 49,
    "start_time": "2023-09-11T12:46:16.873Z"
   },
   {
    "duration": 12,
    "start_time": "2023-09-11T12:46:16.924Z"
   },
   {
    "duration": 684,
    "start_time": "2023-09-11T12:46:16.938Z"
   },
   {
    "duration": 0,
    "start_time": "2023-09-11T12:46:17.624Z"
   },
   {
    "duration": 0,
    "start_time": "2023-09-11T12:46:17.625Z"
   },
   {
    "duration": 0,
    "start_time": "2023-09-11T12:46:17.626Z"
   },
   {
    "duration": 0,
    "start_time": "2023-09-11T12:46:17.627Z"
   },
   {
    "duration": 0,
    "start_time": "2023-09-11T12:46:17.629Z"
   },
   {
    "duration": 0,
    "start_time": "2023-09-11T12:46:17.629Z"
   },
   {
    "duration": 0,
    "start_time": "2023-09-11T12:46:17.630Z"
   },
   {
    "duration": 0,
    "start_time": "2023-09-11T12:46:17.632Z"
   },
   {
    "duration": 0,
    "start_time": "2023-09-11T12:46:17.633Z"
   },
   {
    "duration": 0,
    "start_time": "2023-09-11T12:46:17.634Z"
   },
   {
    "duration": 0,
    "start_time": "2023-09-11T12:46:17.635Z"
   },
   {
    "duration": 0,
    "start_time": "2023-09-11T12:46:17.636Z"
   },
   {
    "duration": 0,
    "start_time": "2023-09-11T12:46:17.637Z"
   },
   {
    "duration": 0,
    "start_time": "2023-09-11T12:46:17.639Z"
   },
   {
    "duration": 540,
    "start_time": "2023-09-11T12:46:59.272Z"
   },
   {
    "duration": 544,
    "start_time": "2023-09-11T12:48:56.353Z"
   },
   {
    "duration": 717,
    "start_time": "2023-09-11T12:49:32.127Z"
   },
   {
    "duration": 526,
    "start_time": "2023-09-11T12:49:35.798Z"
   },
   {
    "duration": 1211,
    "start_time": "2023-09-11T12:55:05.406Z"
   },
   {
    "duration": 80,
    "start_time": "2023-09-11T12:55:06.619Z"
   },
   {
    "duration": 21,
    "start_time": "2023-09-11T12:55:06.700Z"
   },
   {
    "duration": 18,
    "start_time": "2023-09-11T12:55:06.723Z"
   },
   {
    "duration": 17,
    "start_time": "2023-09-11T12:55:06.742Z"
   },
   {
    "duration": 984,
    "start_time": "2023-09-11T12:55:06.761Z"
   },
   {
    "duration": 65,
    "start_time": "2023-09-11T12:55:07.747Z"
   },
   {
    "duration": 12,
    "start_time": "2023-09-11T12:55:07.814Z"
   },
   {
    "duration": 81,
    "start_time": "2023-09-11T12:55:07.828Z"
   },
   {
    "duration": 11,
    "start_time": "2023-09-11T12:55:07.913Z"
   },
   {
    "duration": 6,
    "start_time": "2023-09-11T12:55:07.926Z"
   },
   {
    "duration": 7,
    "start_time": "2023-09-11T12:55:07.934Z"
   },
   {
    "duration": 67,
    "start_time": "2023-09-11T12:55:07.943Z"
   },
   {
    "duration": 19,
    "start_time": "2023-09-11T12:55:08.012Z"
   },
   {
    "duration": 4,
    "start_time": "2023-09-11T12:55:08.032Z"
   },
   {
    "duration": 15,
    "start_time": "2023-09-11T12:55:08.038Z"
   },
   {
    "duration": 15,
    "start_time": "2023-09-11T12:55:08.109Z"
   },
   {
    "duration": 14,
    "start_time": "2023-09-11T12:55:08.126Z"
   },
   {
    "duration": 1294,
    "start_time": "2023-09-11T12:55:08.141Z"
   },
   {
    "duration": 405,
    "start_time": "2023-09-11T12:55:09.437Z"
   },
   {
    "duration": 371,
    "start_time": "2023-09-11T12:55:09.843Z"
   },
   {
    "duration": 346,
    "start_time": "2023-09-11T12:55:10.216Z"
   },
   {
    "duration": 421,
    "start_time": "2023-09-11T12:55:10.564Z"
   },
   {
    "duration": 162,
    "start_time": "2023-09-11T12:55:10.987Z"
   },
   {
    "duration": 4,
    "start_time": "2023-09-11T12:55:11.151Z"
   },
   {
    "duration": 190,
    "start_time": "2023-09-11T12:55:11.156Z"
   },
   {
    "duration": 201,
    "start_time": "2023-09-11T12:55:11.348Z"
   },
   {
    "duration": 5,
    "start_time": "2023-09-11T12:55:11.552Z"
   },
   {
    "duration": 523,
    "start_time": "2023-09-11T12:55:11.559Z"
   },
   {
    "duration": 27,
    "start_time": "2023-09-11T12:55:12.084Z"
   },
   {
    "duration": 10,
    "start_time": "2023-09-11T12:55:12.112Z"
   },
   {
    "duration": 32,
    "start_time": "2023-09-11T12:55:12.124Z"
   },
   {
    "duration": 14,
    "start_time": "2023-09-11T12:55:12.158Z"
   },
   {
    "duration": 553,
    "start_time": "2023-09-11T12:56:46.579Z"
   },
   {
    "duration": 298,
    "start_time": "2023-09-11T12:57:06.581Z"
   },
   {
    "duration": 555,
    "start_time": "2023-09-11T12:57:42.165Z"
   },
   {
    "duration": 407,
    "start_time": "2023-09-11T12:57:49.194Z"
   },
   {
    "duration": 430,
    "start_time": "2023-09-11T12:58:12.252Z"
   },
   {
    "duration": 476,
    "start_time": "2023-09-11T12:58:18.244Z"
   },
   {
    "duration": 385,
    "start_time": "2023-09-11T12:58:35.571Z"
   },
   {
    "duration": 376,
    "start_time": "2023-09-11T12:58:47.747Z"
   },
   {
    "duration": 420,
    "start_time": "2023-09-11T12:58:52.123Z"
   },
   {
    "duration": 296,
    "start_time": "2023-09-11T12:59:49.650Z"
   },
   {
    "duration": 400,
    "start_time": "2023-09-11T13:00:48.402Z"
   },
   {
    "duration": 183,
    "start_time": "2023-09-11T13:02:02.021Z"
   },
   {
    "duration": 179,
    "start_time": "2023-09-11T13:02:28.993Z"
   },
   {
    "duration": 186,
    "start_time": "2023-09-11T13:03:11.664Z"
   },
   {
    "duration": 221,
    "start_time": "2023-09-11T13:03:20.080Z"
   },
   {
    "duration": 5,
    "start_time": "2023-09-11T13:15:07.597Z"
   },
   {
    "duration": 111,
    "start_time": "2023-09-11T13:15:25.997Z"
   },
   {
    "duration": 17,
    "start_time": "2023-09-11T13:15:36.430Z"
   },
   {
    "duration": 22,
    "start_time": "2023-09-11T13:17:05.765Z"
   },
   {
    "duration": 4,
    "start_time": "2023-09-11T13:18:48.613Z"
   },
   {
    "duration": 11,
    "start_time": "2023-09-11T13:19:41.533Z"
   },
   {
    "duration": 11,
    "start_time": "2023-09-11T13:20:21.491Z"
   },
   {
    "duration": 1246,
    "start_time": "2023-09-11T13:36:29.576Z"
   },
   {
    "duration": 80,
    "start_time": "2023-09-11T13:36:30.824Z"
   },
   {
    "duration": 24,
    "start_time": "2023-09-11T13:36:30.905Z"
   },
   {
    "duration": 40,
    "start_time": "2023-09-11T13:36:30.931Z"
   },
   {
    "duration": 37,
    "start_time": "2023-09-11T13:36:30.973Z"
   },
   {
    "duration": 977,
    "start_time": "2023-09-11T13:36:31.011Z"
   },
   {
    "duration": 22,
    "start_time": "2023-09-11T13:36:31.990Z"
   },
   {
    "duration": 26,
    "start_time": "2023-09-11T13:36:32.014Z"
   },
   {
    "duration": 41,
    "start_time": "2023-09-11T13:36:32.042Z"
   },
   {
    "duration": 71,
    "start_time": "2023-09-11T13:36:32.085Z"
   },
   {
    "duration": 58,
    "start_time": "2023-09-11T13:36:32.157Z"
   },
   {
    "duration": 50,
    "start_time": "2023-09-11T13:36:32.217Z"
   },
   {
    "duration": 47,
    "start_time": "2023-09-11T13:36:32.269Z"
   },
   {
    "duration": 34,
    "start_time": "2023-09-11T13:36:32.318Z"
   },
   {
    "duration": 14,
    "start_time": "2023-09-11T13:36:32.354Z"
   },
   {
    "duration": 49,
    "start_time": "2023-09-11T13:36:32.370Z"
   },
   {
    "duration": 29,
    "start_time": "2023-09-11T13:36:32.421Z"
   },
   {
    "duration": 54,
    "start_time": "2023-09-11T13:36:32.452Z"
   },
   {
    "duration": 724,
    "start_time": "2023-09-11T13:36:32.509Z"
   },
   {
    "duration": 304,
    "start_time": "2023-09-11T13:36:33.235Z"
   },
   {
    "duration": 376,
    "start_time": "2023-09-11T13:36:33.541Z"
   },
   {
    "duration": 372,
    "start_time": "2023-09-11T13:36:33.918Z"
   },
   {
    "duration": 394,
    "start_time": "2023-09-11T13:36:34.292Z"
   },
   {
    "duration": 187,
    "start_time": "2023-09-11T13:36:34.688Z"
   },
   {
    "duration": 5,
    "start_time": "2023-09-11T13:36:34.878Z"
   },
   {
    "duration": 235,
    "start_time": "2023-09-11T13:36:34.885Z"
   },
   {
    "duration": 246,
    "start_time": "2023-09-11T13:36:35.122Z"
   },
   {
    "duration": 4,
    "start_time": "2023-09-11T13:36:35.371Z"
   },
   {
    "duration": 541,
    "start_time": "2023-09-11T13:36:35.377Z"
   },
   {
    "duration": 13,
    "start_time": "2023-09-11T13:36:35.920Z"
   },
   {
    "duration": 10,
    "start_time": "2023-09-11T13:36:35.935Z"
   },
   {
    "duration": 32,
    "start_time": "2023-09-11T13:36:35.946Z"
   },
   {
    "duration": 42,
    "start_time": "2023-09-11T13:36:35.980Z"
   },
   {
    "duration": 1196,
    "start_time": "2023-09-11T14:27:19.417Z"
   },
   {
    "duration": 234,
    "start_time": "2023-09-11T14:27:20.615Z"
   },
   {
    "duration": 20,
    "start_time": "2023-09-11T14:27:20.851Z"
   },
   {
    "duration": 38,
    "start_time": "2023-09-11T14:27:20.873Z"
   },
   {
    "duration": 84,
    "start_time": "2023-09-11T14:27:20.913Z"
   },
   {
    "duration": 861,
    "start_time": "2023-09-11T14:27:20.999Z"
   },
   {
    "duration": 13,
    "start_time": "2023-09-11T14:27:21.862Z"
   },
   {
    "duration": 44,
    "start_time": "2023-09-11T14:27:21.876Z"
   },
   {
    "duration": 46,
    "start_time": "2023-09-11T14:27:21.922Z"
   },
   {
    "duration": 32,
    "start_time": "2023-09-11T14:27:21.970Z"
   },
   {
    "duration": 37,
    "start_time": "2023-09-11T14:27:22.003Z"
   },
   {
    "duration": 29,
    "start_time": "2023-09-11T14:27:22.042Z"
   },
   {
    "duration": 19,
    "start_time": "2023-09-11T14:27:22.072Z"
   },
   {
    "duration": 49,
    "start_time": "2023-09-11T14:27:22.092Z"
   },
   {
    "duration": 16,
    "start_time": "2023-09-11T14:27:22.143Z"
   },
   {
    "duration": 43,
    "start_time": "2023-09-11T14:27:22.160Z"
   },
   {
    "duration": 50,
    "start_time": "2023-09-11T14:27:22.205Z"
   },
   {
    "duration": 56,
    "start_time": "2023-09-11T14:27:22.257Z"
   },
   {
    "duration": 590,
    "start_time": "2023-09-11T14:27:22.315Z"
   },
   {
    "duration": 257,
    "start_time": "2023-09-11T14:27:22.906Z"
   },
   {
    "duration": 344,
    "start_time": "2023-09-11T14:27:23.165Z"
   },
   {
    "duration": 363,
    "start_time": "2023-09-11T14:27:23.511Z"
   },
   {
    "duration": 340,
    "start_time": "2023-09-11T14:27:23.876Z"
   },
   {
    "duration": 165,
    "start_time": "2023-09-11T14:27:24.217Z"
   },
   {
    "duration": 3,
    "start_time": "2023-09-11T14:27:24.384Z"
   },
   {
    "duration": 216,
    "start_time": "2023-09-11T14:27:24.389Z"
   },
   {
    "duration": 220,
    "start_time": "2023-09-11T14:27:24.611Z"
   },
   {
    "duration": 8,
    "start_time": "2023-09-11T14:27:24.835Z"
   },
   {
    "duration": 498,
    "start_time": "2023-09-11T14:27:24.845Z"
   },
   {
    "duration": 12,
    "start_time": "2023-09-11T14:27:25.345Z"
   },
   {
    "duration": 18,
    "start_time": "2023-09-11T14:27:25.359Z"
   },
   {
    "duration": 34,
    "start_time": "2023-09-11T14:27:25.379Z"
   },
   {
    "duration": 13,
    "start_time": "2023-09-11T14:27:25.414Z"
   }
  ],
  "kernelspec": {
   "display_name": "Python 3 (ipykernel)",
   "language": "python",
   "name": "python3"
  },
  "language_info": {
   "codemirror_mode": {
    "name": "ipython",
    "version": 3
   },
   "file_extension": ".py",
   "mimetype": "text/x-python",
   "name": "python",
   "nbconvert_exporter": "python",
   "pygments_lexer": "ipython3",
   "version": "3.9.5"
  },
  "toc": {
   "base_numbering": 1,
   "nav_menu": {},
   "number_sections": false,
   "sideBar": true,
   "skip_h1_title": true,
   "title_cell": "Table of Contents",
   "title_sidebar": "Contents",
   "toc_cell": false,
   "toc_position": {
    "height": "calc(100% - 180px)",
    "left": "10px",
    "top": "150px",
    "width": "371px"
   },
   "toc_section_display": true,
   "toc_window_display": true
  }
 },
 "nbformat": 4,
 "nbformat_minor": 4
}
