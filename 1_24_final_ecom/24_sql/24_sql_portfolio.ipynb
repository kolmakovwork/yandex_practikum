{
 "cells": [
  {
   "cell_type": "markdown",
   "metadata": {},
   "source": [
    "###  <font color='Blue'>**SQL проект по книжной области**<br><b>\n",
    "Проект является частью выпускного курса \"Аналитик данных +\" от Яндекс-Практикума."
   ]
  },
  {
   "cell_type": "markdown",
   "metadata": {},
   "source": [
    "**Описание проекта:**\n",
    "\n",
    "Коронавирус застал мир врасплох, изменив привычный порядок вещей. В свободное время жители городов больше не выходят на улицу, не посещают кафе и торговые центры. Зато стало больше времени для книг. Это заметили стартаперы — и бросились создавать приложения для тех, кто любит читать.\n",
    "\n",
    "Ваша компания решила быть на волне и купила крупный сервис для чтения книг по подписке. Ваша первая задача как аналитика — проанализировать базу данных.\n",
    "\n",
    "В ней — информация о книгах, издательствах, авторах, а также пользовательские обзоры книг. Эти данные помогут сформулировать ценностное предложение для нового продукта.\n",
    "\n",
    "**Цели исследования:**\n",
    "1. Исследовать все таблицы БД, вывести первые строки, посчитать количество строк\n",
    "2. Выполнить 5 заданий и написать по ним выводы\n",
    "\n",
    "**Ход исследования:**\n",
    "\n",
    "Моё исследование пройдет в несколько этапов:\n",
    "* Загружу библиотеки для SQL и их табличной обработки\n",
    "* Задам конфигурацию для подключения к базе данных, подключусь\n",
    "* Обзор данных, исследую все таблицы БД, выведу первые строки, посчитаю количество строк\n",
    "* Выполню 5 заданий и напишу по ним выводы"
   ]
  },
  {
   "cell_type": "markdown",
   "metadata": {},
   "source": [
    "### **Описание таблиц базы данных `data-analyst-final-project-db`**\n",
    "\n",
    "1. Таблица books (Содержит данные о книгах):\n",
    "    * book_id — идентификатор книги;\n",
    "    * author_id — идентификатор автора;\n",
    "    * title — название книги;\n",
    "    * num_pages — количество страниц;\n",
    "    * publication_date — дата публикации книги;\n",
    "    * publisher_id — идентификатор издателя.\n",
    "\n",
    "\n",
    "2. Таблица authors (Содержит данные об авторах):\n",
    "    * author_id — идентификатор автора;\n",
    "    * author — имя автора.\n",
    "\n",
    "\n",
    "3. Таблица publishers (Содержит данные об издательствах):\n",
    "    * publisher_id — идентификатор издательства;\n",
    "    * publisher — название издательства;\n",
    "    \n",
    "    \n",
    "4. Таблица ratings (Содержит данные о пользовательских оценках книг):\n",
    "    * rating_id — идентификатор оценки;\n",
    "    * book_id — идентификатор книги;\n",
    "    * username — имя пользователя, оставившего оценку;\n",
    "    * rating — оценка книги.\n",
    "\n",
    "\n",
    "5. Таблица reviews (Содержит данные о пользовательских обзорах на книги):\n",
    "    * review_id — идентификатор обзора;\n",
    "    * book_id — идентификатор книги;\n",
    "    * username — имя пользователя, написавшего обзор;\n",
    "    * text — текст обзора."
   ]
  },
  {
   "cell_type": "markdown",
   "metadata": {},
   "source": [
    "## 1. Загрузка данных"
   ]
  },
  {
   "cell_type": "markdown",
   "metadata": {},
   "source": [
    "### 1.1 Импортируем библиотеки"
   ]
  },
  {
   "cell_type": "code",
   "execution_count": 1,
   "metadata": {
    "id": "nlZBlglMDWKe"
   },
   "outputs": [],
   "source": [
    "import pandas as pd\n",
    "\n",
    "import sqlalchemy as sa\n",
    "#from sqlalchemy import create_engine"
   ]
  },
  {
   "cell_type": "markdown",
   "metadata": {},
   "source": [
    "### 1.2 Конфигурация для подключения к базе данных `data-analyst-final-project-db`\n"
   ]
  },
  {
   "cell_type": "code",
   "execution_count": 2,
   "metadata": {},
   "outputs": [],
   "source": [
    "# устанавливаем параметры\n",
    "db_config = {\n",
    "    'user': 'praktikum_student', # имя пользователя\n",
    "    'pwd': 'Sdf4$2;d-d30pp', # пароль\n",
    "    'host': 'rc1b-wcoijxj3yxfsf3fs.mdb.yandexcloud.net',\n",
    "    'port': 6432, # порт подключения\n",
    "    'db': 'data-analyst-final-project-db' # название базы данных\n",
    "    }\n",
    "\n",
    "# формируем строку соединения с БД\n",
    "connection_string = 'postgresql://{user}:{pwd}@{host}:{port}/{db}'.format(**db_config)\n",
    "\n",
    "# сохраняем коннектор/ создание подключения к БД\n",
    "engine = sa.create_engine(connection_string, connect_args={'sslmode':'require'})\n",
    "\n",
    "# чтобы выполнить SQL-запрос, пишем функцию с использованием Pandas\n",
    "def get_sql_data(query:str, engine:sa.engine.base.Engine=engine) -> pd.DataFrame:\n",
    "    '''Открываем соединение, получаем данные из sql, закрываем соединение'''\n",
    "    with engine.connect() as con:\n",
    "        return pd.read_sql(sql=sa.text(query), con = con)"
   ]
  },
  {
   "cell_type": "markdown",
   "metadata": {},
   "source": [
    "### 1.3 Первые строки таблиц, количество строк"
   ]
  },
  {
   "cell_type": "code",
   "execution_count": 4,
   "metadata": {},
   "outputs": [],
   "source": [
    "# вар1\n",
    "# функция для вывода первых строк + вывода количества строк таблиц\n",
    "def look(table):\n",
    "    # сохраняем коннектор/ создание подключения к БД\n",
    "    engine = sa.create_engine(connection_string, connect_args={'sslmode':'require'})\n",
    "\n",
    "    # выведем первые строки + размер таблицы\n",
    "    query = '''\n",
    "    SELECT *,\n",
    "    COUNT(*) OVER() AS table_size\n",
    "    FROM {}\n",
    "    LIMIT 2\n",
    "    '''.format(table)\n",
    "    return get_sql_data(query)"
   ]
  },
  {
   "cell_type": "code",
   "execution_count": 5,
   "metadata": {},
   "outputs": [],
   "source": [
    "# вар2\n",
    "# функция для вывода первых строк + вывода количества строк таблиц + типов данных\n",
    "def look2(table):\n",
    "    # сохраняем коннектор/ создание подключения к БД\n",
    "    engine = sa.create_engine(connection_string, connect_args={'sslmode':'require'})\n",
    "\n",
    "    # выведем первые строки + размер таблицы\n",
    "    query = '''\n",
    "    SELECT *,\n",
    "    COUNT(*) OVER() AS table_size\n",
    "    FROM {}\n",
    "    LIMIT 2\n",
    "    '''.format(table)\n",
    "    display(get_sql_data(query))\n",
    "\n",
    "    # выведем информацию о типах данных столбцов\n",
    "    query = '''\n",
    "    SELECT *\n",
    "    FROM information_schema.columns\n",
    "    WHERE table_schema = 'public' AND\n",
    "          table_name = '{}'\n",
    "    '''.format(table)\n",
    "    return (get_sql_data(query)\n",
    "           [['column_name', 'data_type']]\n",
    "           .T\n",
    "           )"
   ]
  },
  {
   "cell_type": "code",
   "execution_count": 6,
   "metadata": {},
   "outputs": [
    {
     "data": {
      "text/html": [
       "<div>\n",
       "<style scoped>\n",
       "    .dataframe tbody tr th:only-of-type {\n",
       "        vertical-align: middle;\n",
       "    }\n",
       "\n",
       "    .dataframe tbody tr th {\n",
       "        vertical-align: top;\n",
       "    }\n",
       "\n",
       "    .dataframe thead th {\n",
       "        text-align: right;\n",
       "    }\n",
       "</style>\n",
       "<table border=\"1\" class=\"dataframe\">\n",
       "  <thead>\n",
       "    <tr style=\"text-align: right;\">\n",
       "      <th></th>\n",
       "      <th>book_id</th>\n",
       "      <th>author_id</th>\n",
       "      <th>title</th>\n",
       "      <th>num_pages</th>\n",
       "      <th>publication_date</th>\n",
       "      <th>publisher_id</th>\n",
       "      <th>table_size</th>\n",
       "    </tr>\n",
       "  </thead>\n",
       "  <tbody>\n",
       "    <tr>\n",
       "      <th>0</th>\n",
       "      <td>1</td>\n",
       "      <td>546</td>\n",
       "      <td>'Salem's Lot</td>\n",
       "      <td>594</td>\n",
       "      <td>2005-11-01</td>\n",
       "      <td>93</td>\n",
       "      <td>1000</td>\n",
       "    </tr>\n",
       "    <tr>\n",
       "      <th>1</th>\n",
       "      <td>2</td>\n",
       "      <td>465</td>\n",
       "      <td>1 000 Places to See Before You Die</td>\n",
       "      <td>992</td>\n",
       "      <td>2003-05-22</td>\n",
       "      <td>336</td>\n",
       "      <td>1000</td>\n",
       "    </tr>\n",
       "  </tbody>\n",
       "</table>\n",
       "</div>"
      ],
      "text/plain": [
       "   book_id  author_id                               title  num_pages  \\\n",
       "0        1        546                        'Salem's Lot        594   \n",
       "1        2        465  1 000 Places to See Before You Die        992   \n",
       "\n",
       "  publication_date  publisher_id  table_size  \n",
       "0       2005-11-01            93        1000  \n",
       "1       2003-05-22           336        1000  "
      ]
     },
     "metadata": {},
     "output_type": "display_data"
    },
    {
     "data": {
      "text/html": [
       "<div>\n",
       "<style scoped>\n",
       "    .dataframe tbody tr th:only-of-type {\n",
       "        vertical-align: middle;\n",
       "    }\n",
       "\n",
       "    .dataframe tbody tr th {\n",
       "        vertical-align: top;\n",
       "    }\n",
       "\n",
       "    .dataframe thead th {\n",
       "        text-align: right;\n",
       "    }\n",
       "</style>\n",
       "<table border=\"1\" class=\"dataframe\">\n",
       "  <thead>\n",
       "    <tr style=\"text-align: right;\">\n",
       "      <th></th>\n",
       "      <th>0</th>\n",
       "      <th>1</th>\n",
       "      <th>2</th>\n",
       "      <th>3</th>\n",
       "      <th>4</th>\n",
       "      <th>5</th>\n",
       "    </tr>\n",
       "  </thead>\n",
       "  <tbody>\n",
       "    <tr>\n",
       "      <th>column_name</th>\n",
       "      <td>book_id</td>\n",
       "      <td>author_id</td>\n",
       "      <td>title</td>\n",
       "      <td>num_pages</td>\n",
       "      <td>publication_date</td>\n",
       "      <td>publisher_id</td>\n",
       "    </tr>\n",
       "    <tr>\n",
       "      <th>data_type</th>\n",
       "      <td>integer</td>\n",
       "      <td>integer</td>\n",
       "      <td>text</td>\n",
       "      <td>integer</td>\n",
       "      <td>date</td>\n",
       "      <td>integer</td>\n",
       "    </tr>\n",
       "  </tbody>\n",
       "</table>\n",
       "</div>"
      ],
      "text/plain": [
       "                   0          1      2          3                 4  \\\n",
       "column_name  book_id  author_id  title  num_pages  publication_date   \n",
       "data_type    integer    integer   text    integer              date   \n",
       "\n",
       "                        5  \n",
       "column_name  publisher_id  \n",
       "data_type         integer  "
      ]
     },
     "execution_count": 6,
     "metadata": {},
     "output_type": "execute_result"
    }
   ],
   "source": [
    "# 1. Таблица books (Содержит данные о книгах):\n",
    "look2('books')"
   ]
  },
  {
   "cell_type": "code",
   "execution_count": 7,
   "metadata": {},
   "outputs": [
    {
     "data": {
      "text/html": [
       "<div>\n",
       "<style scoped>\n",
       "    .dataframe tbody tr th:only-of-type {\n",
       "        vertical-align: middle;\n",
       "    }\n",
       "\n",
       "    .dataframe tbody tr th {\n",
       "        vertical-align: top;\n",
       "    }\n",
       "\n",
       "    .dataframe thead th {\n",
       "        text-align: right;\n",
       "    }\n",
       "</style>\n",
       "<table border=\"1\" class=\"dataframe\">\n",
       "  <thead>\n",
       "    <tr style=\"text-align: right;\">\n",
       "      <th></th>\n",
       "      <th>author_id</th>\n",
       "      <th>author</th>\n",
       "      <th>table_size</th>\n",
       "    </tr>\n",
       "  </thead>\n",
       "  <tbody>\n",
       "    <tr>\n",
       "      <th>0</th>\n",
       "      <td>1</td>\n",
       "      <td>A.S. Byatt</td>\n",
       "      <td>636</td>\n",
       "    </tr>\n",
       "    <tr>\n",
       "      <th>1</th>\n",
       "      <td>2</td>\n",
       "      <td>Aesop/Laura Harris/Laura Gibbs</td>\n",
       "      <td>636</td>\n",
       "    </tr>\n",
       "  </tbody>\n",
       "</table>\n",
       "</div>"
      ],
      "text/plain": [
       "   author_id                          author  table_size\n",
       "0          1                      A.S. Byatt         636\n",
       "1          2  Aesop/Laura Harris/Laura Gibbs         636"
      ]
     },
     "metadata": {},
     "output_type": "display_data"
    },
    {
     "data": {
      "text/html": [
       "<div>\n",
       "<style scoped>\n",
       "    .dataframe tbody tr th:only-of-type {\n",
       "        vertical-align: middle;\n",
       "    }\n",
       "\n",
       "    .dataframe tbody tr th {\n",
       "        vertical-align: top;\n",
       "    }\n",
       "\n",
       "    .dataframe thead th {\n",
       "        text-align: right;\n",
       "    }\n",
       "</style>\n",
       "<table border=\"1\" class=\"dataframe\">\n",
       "  <thead>\n",
       "    <tr style=\"text-align: right;\">\n",
       "      <th></th>\n",
       "      <th>0</th>\n",
       "      <th>1</th>\n",
       "    </tr>\n",
       "  </thead>\n",
       "  <tbody>\n",
       "    <tr>\n",
       "      <th>column_name</th>\n",
       "      <td>author_id</td>\n",
       "      <td>author</td>\n",
       "    </tr>\n",
       "    <tr>\n",
       "      <th>data_type</th>\n",
       "      <td>integer</td>\n",
       "      <td>text</td>\n",
       "    </tr>\n",
       "  </tbody>\n",
       "</table>\n",
       "</div>"
      ],
      "text/plain": [
       "                     0       1\n",
       "column_name  author_id  author\n",
       "data_type      integer    text"
      ]
     },
     "execution_count": 7,
     "metadata": {},
     "output_type": "execute_result"
    }
   ],
   "source": [
    "# 2. Таблица authors (Содержит данные об авторах):\n",
    "look2('authors')"
   ]
  },
  {
   "cell_type": "code",
   "execution_count": 8,
   "metadata": {},
   "outputs": [
    {
     "data": {
      "text/html": [
       "<div>\n",
       "<style scoped>\n",
       "    .dataframe tbody tr th:only-of-type {\n",
       "        vertical-align: middle;\n",
       "    }\n",
       "\n",
       "    .dataframe tbody tr th {\n",
       "        vertical-align: top;\n",
       "    }\n",
       "\n",
       "    .dataframe thead th {\n",
       "        text-align: right;\n",
       "    }\n",
       "</style>\n",
       "<table border=\"1\" class=\"dataframe\">\n",
       "  <thead>\n",
       "    <tr style=\"text-align: right;\">\n",
       "      <th></th>\n",
       "      <th>publisher_id</th>\n",
       "      <th>publisher</th>\n",
       "      <th>table_size</th>\n",
       "    </tr>\n",
       "  </thead>\n",
       "  <tbody>\n",
       "    <tr>\n",
       "      <th>0</th>\n",
       "      <td>1</td>\n",
       "      <td>Ace</td>\n",
       "      <td>340</td>\n",
       "    </tr>\n",
       "    <tr>\n",
       "      <th>1</th>\n",
       "      <td>2</td>\n",
       "      <td>Ace Book</td>\n",
       "      <td>340</td>\n",
       "    </tr>\n",
       "  </tbody>\n",
       "</table>\n",
       "</div>"
      ],
      "text/plain": [
       "   publisher_id publisher  table_size\n",
       "0             1       Ace         340\n",
       "1             2  Ace Book         340"
      ]
     },
     "metadata": {},
     "output_type": "display_data"
    },
    {
     "data": {
      "text/html": [
       "<div>\n",
       "<style scoped>\n",
       "    .dataframe tbody tr th:only-of-type {\n",
       "        vertical-align: middle;\n",
       "    }\n",
       "\n",
       "    .dataframe tbody tr th {\n",
       "        vertical-align: top;\n",
       "    }\n",
       "\n",
       "    .dataframe thead th {\n",
       "        text-align: right;\n",
       "    }\n",
       "</style>\n",
       "<table border=\"1\" class=\"dataframe\">\n",
       "  <thead>\n",
       "    <tr style=\"text-align: right;\">\n",
       "      <th></th>\n",
       "      <th>0</th>\n",
       "      <th>1</th>\n",
       "    </tr>\n",
       "  </thead>\n",
       "  <tbody>\n",
       "    <tr>\n",
       "      <th>column_name</th>\n",
       "      <td>publisher_id</td>\n",
       "      <td>publisher</td>\n",
       "    </tr>\n",
       "    <tr>\n",
       "      <th>data_type</th>\n",
       "      <td>integer</td>\n",
       "      <td>text</td>\n",
       "    </tr>\n",
       "  </tbody>\n",
       "</table>\n",
       "</div>"
      ],
      "text/plain": [
       "                        0          1\n",
       "column_name  publisher_id  publisher\n",
       "data_type         integer       text"
      ]
     },
     "execution_count": 8,
     "metadata": {},
     "output_type": "execute_result"
    }
   ],
   "source": [
    "# 3. Таблица publishers (Содержит данные об издательствах):\n",
    "look2('publishers')"
   ]
  },
  {
   "cell_type": "code",
   "execution_count": 9,
   "metadata": {},
   "outputs": [
    {
     "data": {
      "text/html": [
       "<div>\n",
       "<style scoped>\n",
       "    .dataframe tbody tr th:only-of-type {\n",
       "        vertical-align: middle;\n",
       "    }\n",
       "\n",
       "    .dataframe tbody tr th {\n",
       "        vertical-align: top;\n",
       "    }\n",
       "\n",
       "    .dataframe thead th {\n",
       "        text-align: right;\n",
       "    }\n",
       "</style>\n",
       "<table border=\"1\" class=\"dataframe\">\n",
       "  <thead>\n",
       "    <tr style=\"text-align: right;\">\n",
       "      <th></th>\n",
       "      <th>rating_id</th>\n",
       "      <th>book_id</th>\n",
       "      <th>username</th>\n",
       "      <th>rating</th>\n",
       "      <th>table_size</th>\n",
       "    </tr>\n",
       "  </thead>\n",
       "  <tbody>\n",
       "    <tr>\n",
       "      <th>0</th>\n",
       "      <td>1</td>\n",
       "      <td>1</td>\n",
       "      <td>ryanfranco</td>\n",
       "      <td>4</td>\n",
       "      <td>6456</td>\n",
       "    </tr>\n",
       "    <tr>\n",
       "      <th>1</th>\n",
       "      <td>2</td>\n",
       "      <td>1</td>\n",
       "      <td>grantpatricia</td>\n",
       "      <td>2</td>\n",
       "      <td>6456</td>\n",
       "    </tr>\n",
       "  </tbody>\n",
       "</table>\n",
       "</div>"
      ],
      "text/plain": [
       "   rating_id  book_id       username  rating  table_size\n",
       "0          1        1     ryanfranco       4        6456\n",
       "1          2        1  grantpatricia       2        6456"
      ]
     },
     "metadata": {},
     "output_type": "display_data"
    },
    {
     "data": {
      "text/html": [
       "<div>\n",
       "<style scoped>\n",
       "    .dataframe tbody tr th:only-of-type {\n",
       "        vertical-align: middle;\n",
       "    }\n",
       "\n",
       "    .dataframe tbody tr th {\n",
       "        vertical-align: top;\n",
       "    }\n",
       "\n",
       "    .dataframe thead th {\n",
       "        text-align: right;\n",
       "    }\n",
       "</style>\n",
       "<table border=\"1\" class=\"dataframe\">\n",
       "  <thead>\n",
       "    <tr style=\"text-align: right;\">\n",
       "      <th></th>\n",
       "      <th>0</th>\n",
       "      <th>1</th>\n",
       "      <th>2</th>\n",
       "      <th>3</th>\n",
       "    </tr>\n",
       "  </thead>\n",
       "  <tbody>\n",
       "    <tr>\n",
       "      <th>column_name</th>\n",
       "      <td>rating_id</td>\n",
       "      <td>book_id</td>\n",
       "      <td>username</td>\n",
       "      <td>rating</td>\n",
       "    </tr>\n",
       "    <tr>\n",
       "      <th>data_type</th>\n",
       "      <td>integer</td>\n",
       "      <td>integer</td>\n",
       "      <td>text</td>\n",
       "      <td>integer</td>\n",
       "    </tr>\n",
       "  </tbody>\n",
       "</table>\n",
       "</div>"
      ],
      "text/plain": [
       "                     0        1         2        3\n",
       "column_name  rating_id  book_id  username   rating\n",
       "data_type      integer  integer      text  integer"
      ]
     },
     "execution_count": 9,
     "metadata": {},
     "output_type": "execute_result"
    }
   ],
   "source": [
    "# 4. Таблица ratings (Содержит данные о пользовательских оценках книг):\n",
    "look2('ratings')"
   ]
  },
  {
   "cell_type": "code",
   "execution_count": 10,
   "metadata": {
    "tags": []
   },
   "outputs": [
    {
     "data": {
      "text/html": [
       "<div>\n",
       "<style scoped>\n",
       "    .dataframe tbody tr th:only-of-type {\n",
       "        vertical-align: middle;\n",
       "    }\n",
       "\n",
       "    .dataframe tbody tr th {\n",
       "        vertical-align: top;\n",
       "    }\n",
       "\n",
       "    .dataframe thead th {\n",
       "        text-align: right;\n",
       "    }\n",
       "</style>\n",
       "<table border=\"1\" class=\"dataframe\">\n",
       "  <thead>\n",
       "    <tr style=\"text-align: right;\">\n",
       "      <th></th>\n",
       "      <th>review_id</th>\n",
       "      <th>book_id</th>\n",
       "      <th>username</th>\n",
       "      <th>text</th>\n",
       "      <th>table_size</th>\n",
       "    </tr>\n",
       "  </thead>\n",
       "  <tbody>\n",
       "    <tr>\n",
       "      <th>0</th>\n",
       "      <td>1</td>\n",
       "      <td>1</td>\n",
       "      <td>brandtandrea</td>\n",
       "      <td>Mention society tell send professor analysis. ...</td>\n",
       "      <td>2793</td>\n",
       "    </tr>\n",
       "    <tr>\n",
       "      <th>1</th>\n",
       "      <td>2</td>\n",
       "      <td>1</td>\n",
       "      <td>ryanfranco</td>\n",
       "      <td>Foot glass pretty audience hit themselves. Amo...</td>\n",
       "      <td>2793</td>\n",
       "    </tr>\n",
       "  </tbody>\n",
       "</table>\n",
       "</div>"
      ],
      "text/plain": [
       "   review_id  book_id      username  \\\n",
       "0          1        1  brandtandrea   \n",
       "1          2        1    ryanfranco   \n",
       "\n",
       "                                                text  table_size  \n",
       "0  Mention society tell send professor analysis. ...        2793  \n",
       "1  Foot glass pretty audience hit themselves. Amo...        2793  "
      ]
     },
     "metadata": {},
     "output_type": "display_data"
    },
    {
     "data": {
      "text/html": [
       "<div>\n",
       "<style scoped>\n",
       "    .dataframe tbody tr th:only-of-type {\n",
       "        vertical-align: middle;\n",
       "    }\n",
       "\n",
       "    .dataframe tbody tr th {\n",
       "        vertical-align: top;\n",
       "    }\n",
       "\n",
       "    .dataframe thead th {\n",
       "        text-align: right;\n",
       "    }\n",
       "</style>\n",
       "<table border=\"1\" class=\"dataframe\">\n",
       "  <thead>\n",
       "    <tr style=\"text-align: right;\">\n",
       "      <th></th>\n",
       "      <th>0</th>\n",
       "      <th>1</th>\n",
       "      <th>2</th>\n",
       "      <th>3</th>\n",
       "    </tr>\n",
       "  </thead>\n",
       "  <tbody>\n",
       "    <tr>\n",
       "      <th>column_name</th>\n",
       "      <td>review_id</td>\n",
       "      <td>book_id</td>\n",
       "      <td>username</td>\n",
       "      <td>text</td>\n",
       "    </tr>\n",
       "    <tr>\n",
       "      <th>data_type</th>\n",
       "      <td>integer</td>\n",
       "      <td>integer</td>\n",
       "      <td>text</td>\n",
       "      <td>text</td>\n",
       "    </tr>\n",
       "  </tbody>\n",
       "</table>\n",
       "</div>"
      ],
      "text/plain": [
       "                     0        1         2     3\n",
       "column_name  review_id  book_id  username  text\n",
       "data_type      integer  integer      text  text"
      ]
     },
     "execution_count": 10,
     "metadata": {},
     "output_type": "execute_result"
    }
   ],
   "source": [
    "# 5. Таблица reviews (Содержит данные о пользовательских обзорах на книги):\n",
    "look2('reviews')"
   ]
  },
  {
   "cell_type": "markdown",
   "metadata": {},
   "source": [
    "Вывод: данные содержат соответствующую информацию как в ER диаграмме с теми же типами.\n",
    "1. Таблица books (Содержит данные о книгах): 1000 книг\n",
    "2. Таблица authors (Содержит данные об авторах): 636 авторов\n",
    "3. Таблица publishers (Содержит данные об издательствах): 340 издательств\n",
    "4. Таблица ratings (Содержит данные о пользовательских оценках книг): 6456 оценок книг\n",
    "5. Таблица reviews (Содержит данные о пользовательских обзорах на книги): 2793 обзоров на книги"
   ]
  },
  {
   "cell_type": "markdown",
   "metadata": {},
   "source": [
    "## 2. Задачи"
   ]
  },
  {
   "cell_type": "markdown",
   "metadata": {},
   "source": [
    "### 2.1 Задание 1\n",
    "Посчитайте, сколько книг вышло после 1 января 2000 года;"
   ]
  },
  {
   "cell_type": "code",
   "execution_count": 12,
   "metadata": {},
   "outputs": [
    {
     "data": {
      "text/html": [
       "<div>\n",
       "<style scoped>\n",
       "    .dataframe tbody tr th:only-of-type {\n",
       "        vertical-align: middle;\n",
       "    }\n",
       "\n",
       "    .dataframe tbody tr th {\n",
       "        vertical-align: top;\n",
       "    }\n",
       "\n",
       "    .dataframe thead th {\n",
       "        text-align: right;\n",
       "    }\n",
       "</style>\n",
       "<table border=\"1\" class=\"dataframe\">\n",
       "  <thead>\n",
       "    <tr style=\"text-align: right;\">\n",
       "      <th></th>\n",
       "      <th>count</th>\n",
       "    </tr>\n",
       "  </thead>\n",
       "  <tbody>\n",
       "    <tr>\n",
       "      <th>0</th>\n",
       "      <td>819</td>\n",
       "    </tr>\n",
       "  </tbody>\n",
       "</table>\n",
       "</div>"
      ],
      "text/plain": [
       "   count\n",
       "0    819"
      ]
     },
     "execution_count": 12,
     "metadata": {},
     "output_type": "execute_result"
    }
   ],
   "source": [
    "query = '''\n",
    "SELECT COUNT(DISTINCT book_id)\n",
    "FROM books\n",
    "WHERE publication_date > '2000-01-01'\n",
    "'''\n",
    "get_sql_data(query)"
   ]
  },
  {
   "cell_type": "markdown",
   "metadata": {},
   "source": [
    "Вывод: 819 книг вышло после 1 января 2000 года"
   ]
  },
  {
   "cell_type": "markdown",
   "metadata": {},
   "source": [
    "### 2.2 Задание 2\n",
    "Для каждой книги посчитайте количество обзоров и среднюю оценку;"
   ]
  },
  {
   "cell_type": "code",
   "execution_count": 13,
   "metadata": {},
   "outputs": [
    {
     "data": {
      "text/html": [
       "<div>\n",
       "<style scoped>\n",
       "    .dataframe tbody tr th:only-of-type {\n",
       "        vertical-align: middle;\n",
       "    }\n",
       "\n",
       "    .dataframe tbody tr th {\n",
       "        vertical-align: top;\n",
       "    }\n",
       "\n",
       "    .dataframe thead th {\n",
       "        text-align: right;\n",
       "    }\n",
       "</style>\n",
       "<table border=\"1\" class=\"dataframe\">\n",
       "  <thead>\n",
       "    <tr style=\"text-align: right;\">\n",
       "      <th></th>\n",
       "      <th>book_id</th>\n",
       "      <th>count_reviews</th>\n",
       "      <th>avg_rating</th>\n",
       "    </tr>\n",
       "  </thead>\n",
       "  <tbody>\n",
       "    <tr>\n",
       "      <th>0</th>\n",
       "      <td>1</td>\n",
       "      <td>2</td>\n",
       "      <td>3.666667</td>\n",
       "    </tr>\n",
       "    <tr>\n",
       "      <th>1</th>\n",
       "      <td>2</td>\n",
       "      <td>1</td>\n",
       "      <td>2.500000</td>\n",
       "    </tr>\n",
       "    <tr>\n",
       "      <th>2</th>\n",
       "      <td>3</td>\n",
       "      <td>3</td>\n",
       "      <td>4.666667</td>\n",
       "    </tr>\n",
       "    <tr>\n",
       "      <th>3</th>\n",
       "      <td>4</td>\n",
       "      <td>2</td>\n",
       "      <td>4.500000</td>\n",
       "    </tr>\n",
       "    <tr>\n",
       "      <th>4</th>\n",
       "      <td>5</td>\n",
       "      <td>4</td>\n",
       "      <td>4.000000</td>\n",
       "    </tr>\n",
       "    <tr>\n",
       "      <th>...</th>\n",
       "      <td>...</td>\n",
       "      <td>...</td>\n",
       "      <td>...</td>\n",
       "    </tr>\n",
       "    <tr>\n",
       "      <th>995</th>\n",
       "      <td>996</td>\n",
       "      <td>3</td>\n",
       "      <td>3.666667</td>\n",
       "    </tr>\n",
       "    <tr>\n",
       "      <th>996</th>\n",
       "      <td>997</td>\n",
       "      <td>3</td>\n",
       "      <td>3.400000</td>\n",
       "    </tr>\n",
       "    <tr>\n",
       "      <th>997</th>\n",
       "      <td>998</td>\n",
       "      <td>4</td>\n",
       "      <td>3.200000</td>\n",
       "    </tr>\n",
       "    <tr>\n",
       "      <th>998</th>\n",
       "      <td>999</td>\n",
       "      <td>2</td>\n",
       "      <td>4.500000</td>\n",
       "    </tr>\n",
       "    <tr>\n",
       "      <th>999</th>\n",
       "      <td>1000</td>\n",
       "      <td>4</td>\n",
       "      <td>3.833333</td>\n",
       "    </tr>\n",
       "  </tbody>\n",
       "</table>\n",
       "<p>1000 rows × 3 columns</p>\n",
       "</div>"
      ],
      "text/plain": [
       "     book_id  count_reviews  avg_rating\n",
       "0          1              2    3.666667\n",
       "1          2              1    2.500000\n",
       "2          3              3    4.666667\n",
       "3          4              2    4.500000\n",
       "4          5              4    4.000000\n",
       "..       ...            ...         ...\n",
       "995      996              3    3.666667\n",
       "996      997              3    3.400000\n",
       "997      998              4    3.200000\n",
       "998      999              2    4.500000\n",
       "999     1000              4    3.833333\n",
       "\n",
       "[1000 rows x 3 columns]"
      ]
     },
     "execution_count": 13,
     "metadata": {},
     "output_type": "execute_result"
    }
   ],
   "source": [
    "query = '''\n",
    "WITH \n",
    "s1 AS\n",
    "    (SELECT b.book_id,\n",
    "         AVG(rt.rating) avg_rating\n",
    "    FROM books b\n",
    "        LEFT JOIN ratings rt ON b.book_id = rt.book_id\n",
    "    GROUP BY b.book_id\n",
    "    ORDER BY b.book_id),\n",
    "s2 AS\n",
    "(SELECT b.book_id,\n",
    "    COUNT(rv.review_id) count_reviews\n",
    "FROM books b\n",
    "    LEFT JOIN reviews rv ON b.book_id = rv.book_id\n",
    "GROUP BY b.book_id\n",
    "ORDER BY b.book_id)\n",
    "\n",
    "SELECT s1.book_id,\n",
    "    count_reviews,\n",
    "    avg_rating\n",
    "FROM s2\n",
    "    JOIN s1 ON s1.book_id = s2.book_id\n",
    "\n",
    "'''\n",
    "get_sql_data(query)"
   ]
  },
  {
   "cell_type": "markdown",
   "metadata": {},
   "source": [
    "Вывод: Для каждой книги посчитали количество обзоров и среднюю оценку."
   ]
  },
  {
   "cell_type": "markdown",
   "metadata": {},
   "source": [
    "### 2.3 Задание 3\n",
    "Определите издательство, которое выпустило наибольшее число книг толще 50 страниц — так вы исключите из анализа брошюры;"
   ]
  },
  {
   "cell_type": "code",
   "execution_count": 16,
   "metadata": {},
   "outputs": [
    {
     "data": {
      "text/html": [
       "<div>\n",
       "<style scoped>\n",
       "    .dataframe tbody tr th:only-of-type {\n",
       "        vertical-align: middle;\n",
       "    }\n",
       "\n",
       "    .dataframe tbody tr th {\n",
       "        vertical-align: top;\n",
       "    }\n",
       "\n",
       "    .dataframe thead th {\n",
       "        text-align: right;\n",
       "    }\n",
       "</style>\n",
       "<table border=\"1\" class=\"dataframe\">\n",
       "  <thead>\n",
       "    <tr style=\"text-align: right;\">\n",
       "      <th></th>\n",
       "      <th>publisher_id</th>\n",
       "      <th>publisher</th>\n",
       "    </tr>\n",
       "  </thead>\n",
       "  <tbody>\n",
       "    <tr>\n",
       "      <th>0</th>\n",
       "      <td>212</td>\n",
       "      <td>Penguin Books</td>\n",
       "    </tr>\n",
       "  </tbody>\n",
       "</table>\n",
       "</div>"
      ],
      "text/plain": [
       "   publisher_id      publisher\n",
       "0           212  Penguin Books"
      ]
     },
     "execution_count": 16,
     "metadata": {},
     "output_type": "execute_result"
    }
   ],
   "source": [
    "query = '''\n",
    "SELECT publisher_id,\n",
    "    publisher\n",
    "FROM publishers\n",
    "WHERE publisher_id IN \n",
    "    (SELECT p.publisher_id\n",
    "    FROM books b\n",
    "        JOIN  publishers p ON b.publisher_id = p.publisher_id\n",
    "    WHERE num_pages > 50\n",
    "    GROUP BY p.publisher_id\n",
    "    ORDER BY COUNT(book_id) DESC\n",
    "    LIMIT 1)\n",
    "'''\n",
    "get_sql_data(query)"
   ]
  },
  {
   "cell_type": "markdown",
   "metadata": {},
   "source": [
    "Вывод: Издательство, которое выпустило наибольшее число книг толще 50 страниц: Penguin Books, publisher_id\t212"
   ]
  },
  {
   "cell_type": "markdown",
   "metadata": {},
   "source": [
    "### 2.4 Задание 4\n",
    "Определите автора с самой высокой средней оценкой книг — учитывайте только книги с 50 и более оценками;"
   ]
  },
  {
   "cell_type": "code",
   "execution_count": 17,
   "metadata": {
    "tags": []
   },
   "outputs": [
    {
     "data": {
      "text/html": [
       "<div>\n",
       "<style scoped>\n",
       "    .dataframe tbody tr th:only-of-type {\n",
       "        vertical-align: middle;\n",
       "    }\n",
       "\n",
       "    .dataframe tbody tr th {\n",
       "        vertical-align: top;\n",
       "    }\n",
       "\n",
       "    .dataframe thead th {\n",
       "        text-align: right;\n",
       "    }\n",
       "</style>\n",
       "<table border=\"1\" class=\"dataframe\">\n",
       "  <thead>\n",
       "    <tr style=\"text-align: right;\">\n",
       "      <th></th>\n",
       "      <th>author</th>\n",
       "      <th>author_id</th>\n",
       "    </tr>\n",
       "  </thead>\n",
       "  <tbody>\n",
       "    <tr>\n",
       "      <th>0</th>\n",
       "      <td>J.K. Rowling/Mary GrandPré</td>\n",
       "      <td>236</td>\n",
       "    </tr>\n",
       "  </tbody>\n",
       "</table>\n",
       "</div>"
      ],
      "text/plain": [
       "                       author  author_id\n",
       "0  J.K. Rowling/Mary GrandPré        236"
      ]
     },
     "execution_count": 17,
     "metadata": {},
     "output_type": "execute_result"
    }
   ],
   "source": [
    "query = '''\n",
    "SELECT o.author,\n",
    "    o.author_id\n",
    "FROM books b\n",
    "    JOIN ratings rt ON b.book_id = rt.book_id\n",
    "    JOIN authors o ON b.author_id = o.author_id\n",
    "WHERE b.book_id IN \n",
    "    (SELECT b.book_id\n",
    "    FROM books b\n",
    "        JOIN ratings rt ON b.book_id = rt.book_id\n",
    "    GROUP BY b.book_id\n",
    "    HAVING COUNT(rating) >= 50)\n",
    "GROUP BY o.author,\n",
    "    o.author_id\n",
    "ORDER BY AVG(rating)DESC\n",
    "LIMIT 1\n",
    "'''\n",
    "get_sql_data(query)"
   ]
  },
  {
   "cell_type": "markdown",
   "metadata": {},
   "source": [
    "Вывод: Автор с самой высокой средней оценкой книг(учитывая только книги с 50 и более оценками): J.K. Rowling/Mary GrandPré, author_id:236"
   ]
  },
  {
   "cell_type": "markdown",
   "metadata": {},
   "source": [
    "### 2.5 Задание 5\n",
    "Посчитайте среднее количество обзоров от пользователей, которые поставили больше 48 оценок."
   ]
  },
  {
   "cell_type": "code",
   "execution_count": 18,
   "metadata": {
    "tags": []
   },
   "outputs": [
    {
     "data": {
      "text/html": [
       "<div>\n",
       "<style scoped>\n",
       "    .dataframe tbody tr th:only-of-type {\n",
       "        vertical-align: middle;\n",
       "    }\n",
       "\n",
       "    .dataframe tbody tr th {\n",
       "        vertical-align: top;\n",
       "    }\n",
       "\n",
       "    .dataframe thead th {\n",
       "        text-align: right;\n",
       "    }\n",
       "</style>\n",
       "<table border=\"1\" class=\"dataframe\">\n",
       "  <thead>\n",
       "    <tr style=\"text-align: right;\">\n",
       "      <th></th>\n",
       "      <th>avg_count_review</th>\n",
       "    </tr>\n",
       "  </thead>\n",
       "  <tbody>\n",
       "    <tr>\n",
       "      <th>0</th>\n",
       "      <td>24.0</td>\n",
       "    </tr>\n",
       "  </tbody>\n",
       "</table>\n",
       "</div>"
      ],
      "text/plain": [
       "   avg_count_review\n",
       "0              24.0"
      ]
     },
     "execution_count": 18,
     "metadata": {},
     "output_type": "execute_result"
    }
   ],
   "source": [
    "query = '''\n",
    "WITH s1 AS\n",
    "    (SELECT username,\n",
    "        COUNT(review_id) count_review\n",
    "    FROM reviews\n",
    "    WHERE username IN \n",
    "        (SELECT username\n",
    "        FROM ratings\n",
    "        GROUP BY username\n",
    "        HAVING COUNT(rating) > 48)\n",
    "    GROUP BY username)\n",
    "SELECT AVG(count_review) avg_count_review\n",
    "FROM s1\n",
    "\n",
    "'''\n",
    "get_sql_data(query)"
   ]
  },
  {
   "cell_type": "markdown",
   "metadata": {},
   "source": [
    "Вывод: Cреднее количество обзоров от пользователей, которые поставили больше 48 оценок: 24 штук."
   ]
  },
  {
   "cell_type": "markdown",
   "metadata": {},
   "source": [
    "## 3. Вывод\n",
    "Исследовали все таблицы, все задачи решены, цели исследования достигнуты."
   ]
  },
  {
   "cell_type": "code",
   "execution_count": null,
   "metadata": {},
   "outputs": [],
   "source": []
  }
 ],
 "metadata": {
  "ExecuteTimeLog": [
   {
    "duration": 1045,
    "start_time": "2023-06-08T20:19:55.874Z"
   },
   {
    "duration": 14,
    "start_time": "2023-06-08T20:19:57.288Z"
   },
   {
    "duration": 271,
    "start_time": "2023-06-08T20:20:16.090Z"
   },
   {
    "duration": 26,
    "start_time": "2023-06-08T20:20:16.363Z"
   },
   {
    "duration": 26,
    "start_time": "2023-06-08T20:20:16.394Z"
   },
   {
    "duration": 986,
    "start_time": "2023-06-09T16:27:11.285Z"
   },
   {
    "duration": 5,
    "start_time": "2023-06-09T16:27:12.273Z"
   },
   {
    "duration": 15813,
    "start_time": "2023-06-09T16:27:12.279Z"
   },
   {
    "duration": 283,
    "start_time": "2023-06-09T16:27:28.095Z"
   },
   {
    "duration": 18,
    "start_time": "2023-06-09T16:27:28.381Z"
   },
   {
    "duration": 82,
    "start_time": "2023-06-09T16:27:28.401Z"
   },
   {
    "duration": 10,
    "start_time": "2023-06-09T16:27:28.486Z"
   },
   {
    "duration": 8,
    "start_time": "2023-06-09T16:27:28.498Z"
   },
   {
    "duration": 14,
    "start_time": "2023-06-09T16:27:28.508Z"
   },
   {
    "duration": 6,
    "start_time": "2023-06-09T16:27:28.528Z"
   },
   {
    "duration": 44,
    "start_time": "2023-06-09T16:27:28.536Z"
   },
   {
    "duration": 25,
    "start_time": "2023-06-09T16:27:28.582Z"
   },
   {
    "duration": 32,
    "start_time": "2023-06-09T16:27:28.609Z"
   },
   {
    "duration": 37,
    "start_time": "2023-06-09T16:27:28.643Z"
   },
   {
    "duration": 12,
    "start_time": "2023-06-09T16:27:28.682Z"
   },
   {
    "duration": 15,
    "start_time": "2023-06-09T16:27:28.696Z"
   },
   {
    "duration": 11,
    "start_time": "2023-06-09T16:27:28.713Z"
   },
   {
    "duration": 47,
    "start_time": "2023-06-09T16:27:28.726Z"
   },
   {
    "duration": 7,
    "start_time": "2023-06-09T16:27:28.775Z"
   },
   {
    "duration": 7,
    "start_time": "2023-06-09T16:27:28.785Z"
   },
   {
    "duration": 8,
    "start_time": "2023-06-09T16:27:28.794Z"
   },
   {
    "duration": 19,
    "start_time": "2023-06-09T16:27:28.804Z"
   },
   {
    "duration": 110,
    "start_time": "2023-06-09T16:55:23.272Z"
   },
   {
    "duration": 13,
    "start_time": "2023-06-09T16:55:42.141Z"
   },
   {
    "duration": 2188,
    "start_time": "2023-06-09T16:55:54.493Z"
   },
   {
    "duration": 2091,
    "start_time": "2023-06-09T16:56:09.619Z"
   },
   {
    "duration": 2232,
    "start_time": "2023-06-09T16:56:22.395Z"
   },
   {
    "duration": 222,
    "start_time": "2023-06-09T17:03:02.492Z"
   },
   {
    "duration": 2128,
    "start_time": "2023-06-09T17:03:09.169Z"
   },
   {
    "duration": 2110,
    "start_time": "2023-06-09T17:03:49.781Z"
   },
   {
    "duration": 1077,
    "start_time": "2023-06-09T17:04:05.027Z"
   },
   {
    "duration": 203,
    "start_time": "2023-06-09T17:04:14.410Z"
   },
   {
    "duration": 963,
    "start_time": "2023-06-09T17:04:28.085Z"
   },
   {
    "duration": 1194,
    "start_time": "2023-06-09T17:04:37.340Z"
   },
   {
    "duration": 1000,
    "start_time": "2023-06-09T17:04:46.091Z"
   },
   {
    "duration": 1123,
    "start_time": "2023-06-09T17:05:24.098Z"
   },
   {
    "duration": 103,
    "start_time": "2023-06-09T17:06:45.218Z"
   },
   {
    "duration": 127,
    "start_time": "2023-06-09T17:07:23.668Z"
   },
   {
    "duration": 148,
    "start_time": "2023-06-09T17:07:28.339Z"
   },
   {
    "duration": 3,
    "start_time": "2023-06-09T17:12:15.488Z"
   },
   {
    "duration": 886,
    "start_time": "2023-06-09T17:15:35.591Z"
   },
   {
    "duration": 4,
    "start_time": "2023-06-09T17:15:36.482Z"
   },
   {
    "duration": 16638,
    "start_time": "2023-06-09T17:15:36.488Z"
   },
   {
    "duration": 306,
    "start_time": "2023-06-09T17:15:53.128Z"
   },
   {
    "duration": 18,
    "start_time": "2023-06-09T17:15:53.436Z"
   },
   {
    "duration": 138,
    "start_time": "2023-06-09T17:15:53.460Z"
   },
   {
    "duration": 2092,
    "start_time": "2023-06-09T17:15:53.599Z"
   },
   {
    "duration": 3,
    "start_time": "2023-06-09T17:15:55.693Z"
   },
   {
    "duration": 13,
    "start_time": "2023-06-09T17:15:55.698Z"
   },
   {
    "duration": 8,
    "start_time": "2023-06-09T17:15:55.714Z"
   },
   {
    "duration": 50,
    "start_time": "2023-06-09T17:15:55.724Z"
   },
   {
    "duration": 13,
    "start_time": "2023-06-09T17:15:55.776Z"
   },
   {
    "duration": 9,
    "start_time": "2023-06-09T17:15:55.791Z"
   },
   {
    "duration": 8,
    "start_time": "2023-06-09T17:15:55.802Z"
   },
   {
    "duration": 8,
    "start_time": "2023-06-09T17:15:55.812Z"
   },
   {
    "duration": 9,
    "start_time": "2023-06-09T17:15:55.822Z"
   },
   {
    "duration": 40,
    "start_time": "2023-06-09T17:15:55.832Z"
   },
   {
    "duration": 8,
    "start_time": "2023-06-09T17:15:55.873Z"
   },
   {
    "duration": 6,
    "start_time": "2023-06-09T17:15:55.883Z"
   },
   {
    "duration": 5,
    "start_time": "2023-06-09T17:15:55.890Z"
   },
   {
    "duration": 5,
    "start_time": "2023-06-09T17:15:55.897Z"
   },
   {
    "duration": 10,
    "start_time": "2023-06-09T17:15:55.904Z"
   },
   {
    "duration": 2,
    "start_time": "2023-06-09T17:16:34.480Z"
   },
   {
    "duration": 206,
    "start_time": "2023-06-09T17:16:54.001Z"
   },
   {
    "duration": 175,
    "start_time": "2023-06-09T17:22:08.960Z"
   },
   {
    "duration": 4,
    "start_time": "2023-06-09T17:25:26.865Z"
   },
   {
    "duration": 171,
    "start_time": "2023-06-09T17:25:31.696Z"
   },
   {
    "duration": 141,
    "start_time": "2023-06-09T17:25:49.094Z"
   },
   {
    "duration": 144,
    "start_time": "2023-06-09T17:25:55.926Z"
   },
   {
    "duration": 2,
    "start_time": "2023-06-09T17:30:29.561Z"
   },
   {
    "duration": 157,
    "start_time": "2023-06-09T17:31:13.518Z"
   },
   {
    "duration": 2087,
    "start_time": "2023-06-09T17:31:46.430Z"
   },
   {
    "duration": 1517,
    "start_time": "2023-06-09T17:32:30.285Z"
   },
   {
    "duration": 2936,
    "start_time": "2023-06-09T17:34:07.125Z"
   },
   {
    "duration": 154,
    "start_time": "2023-06-09T17:50:43.803Z"
   },
   {
    "duration": 164,
    "start_time": "2023-06-09T17:51:37.379Z"
   },
   {
    "duration": 1482,
    "start_time": "2023-06-09T17:52:07.876Z"
   },
   {
    "duration": 1621,
    "start_time": "2023-06-09T17:52:50.660Z"
   },
   {
    "duration": 1496,
    "start_time": "2023-06-09T17:52:58.605Z"
   },
   {
    "duration": 2527,
    "start_time": "2023-06-09T17:53:35.565Z"
   },
   {
    "duration": 152,
    "start_time": "2023-06-09T17:58:41.300Z"
   },
   {
    "duration": 174,
    "start_time": "2023-06-09T17:59:06.626Z"
   },
   {
    "duration": 176,
    "start_time": "2023-06-09T17:59:42.210Z"
   },
   {
    "duration": 163,
    "start_time": "2023-06-09T17:59:50.754Z"
   },
   {
    "duration": 228,
    "start_time": "2023-06-09T18:00:04.963Z"
   },
   {
    "duration": 962,
    "start_time": "2023-06-10T06:08:21.486Z"
   },
   {
    "duration": 8,
    "start_time": "2023-06-10T06:08:22.451Z"
   },
   {
    "duration": 13501,
    "start_time": "2023-06-10T06:08:22.460Z"
   },
   {
    "duration": 96,
    "start_time": "2023-06-10T06:08:35.963Z"
   },
   {
    "duration": 21,
    "start_time": "2023-06-10T06:08:36.065Z"
   },
   {
    "duration": 76,
    "start_time": "2023-06-10T06:08:36.088Z"
   },
   {
    "duration": 3,
    "start_time": "2023-06-10T06:08:36.165Z"
   },
   {
    "duration": 232,
    "start_time": "2023-06-10T06:08:36.170Z"
   },
   {
    "duration": 3,
    "start_time": "2023-06-10T06:08:36.404Z"
   },
   {
    "duration": 4,
    "start_time": "2023-06-10T06:08:36.410Z"
   },
   {
    "duration": 10,
    "start_time": "2023-06-10T06:08:36.415Z"
   },
   {
    "duration": 6,
    "start_time": "2023-06-10T06:08:36.427Z"
   },
   {
    "duration": 5,
    "start_time": "2023-06-10T06:08:36.435Z"
   },
   {
    "duration": 11,
    "start_time": "2023-06-10T06:08:36.441Z"
   },
   {
    "duration": 20,
    "start_time": "2023-06-10T06:08:36.455Z"
   },
   {
    "duration": 9,
    "start_time": "2023-06-10T06:08:36.477Z"
   },
   {
    "duration": 4,
    "start_time": "2023-06-10T06:08:36.488Z"
   },
   {
    "duration": 5,
    "start_time": "2023-06-10T06:08:36.494Z"
   },
   {
    "duration": 4,
    "start_time": "2023-06-10T06:08:36.501Z"
   },
   {
    "duration": 5,
    "start_time": "2023-06-10T06:08:36.507Z"
   },
   {
    "duration": 7,
    "start_time": "2023-06-10T06:08:36.513Z"
   },
   {
    "duration": 18,
    "start_time": "2023-06-10T06:08:36.521Z"
   },
   {
    "duration": 241,
    "start_time": "2023-06-10T06:16:12.345Z"
   },
   {
    "duration": 1374,
    "start_time": "2023-06-10T06:16:19.174Z"
   },
   {
    "duration": 171,
    "start_time": "2023-06-10T06:18:30.757Z"
   },
   {
    "duration": 156,
    "start_time": "2023-06-10T06:18:33.723Z"
   },
   {
    "duration": 1516,
    "start_time": "2023-06-10T06:18:40.381Z"
   },
   {
    "duration": 1319,
    "start_time": "2023-06-10T06:18:43.610Z"
   },
   {
    "duration": 1421,
    "start_time": "2023-06-10T06:18:51.721Z"
   },
   {
    "duration": 431,
    "start_time": "2023-06-10T06:20:30.785Z"
   },
   {
    "duration": 151,
    "start_time": "2023-06-10T06:21:39.380Z"
   },
   {
    "duration": 111,
    "start_time": "2023-06-10T06:22:04.593Z"
   },
   {
    "duration": 173,
    "start_time": "2023-06-10T06:22:46.256Z"
   },
   {
    "duration": 173,
    "start_time": "2023-06-10T06:23:03.179Z"
   },
   {
    "duration": 77,
    "start_time": "2023-06-10T06:23:11.270Z"
   },
   {
    "duration": 84,
    "start_time": "2023-06-10T06:29:47.345Z"
   },
   {
    "duration": 81,
    "start_time": "2023-06-10T07:03:15.552Z"
   },
   {
    "duration": 88,
    "start_time": "2023-06-10T07:03:31.761Z"
   },
   {
    "duration": 80,
    "start_time": "2023-06-10T07:03:54.857Z"
   },
   {
    "duration": 91,
    "start_time": "2023-06-10T07:05:39.154Z"
   },
   {
    "duration": 90,
    "start_time": "2023-06-10T07:05:52.352Z"
   },
   {
    "duration": 82,
    "start_time": "2023-06-10T07:06:31.552Z"
   },
   {
    "duration": 162,
    "start_time": "2023-06-10T07:07:04.785Z"
   },
   {
    "duration": 79,
    "start_time": "2023-06-10T07:07:17.961Z"
   },
   {
    "duration": 134,
    "start_time": "2023-06-10T07:09:46.543Z"
   },
   {
    "duration": 82,
    "start_time": "2023-06-10T07:09:51.960Z"
   },
   {
    "duration": 86,
    "start_time": "2023-06-10T07:11:05.879Z"
   },
   {
    "duration": 95,
    "start_time": "2023-06-10T07:11:13.007Z"
   },
   {
    "duration": 187,
    "start_time": "2023-06-10T07:11:21.175Z"
   },
   {
    "duration": 87,
    "start_time": "2023-06-10T07:12:02.919Z"
   },
   {
    "duration": 94,
    "start_time": "2023-06-10T07:16:19.479Z"
   },
   {
    "duration": 92,
    "start_time": "2023-06-10T07:17:29.647Z"
   },
   {
    "duration": 113,
    "start_time": "2023-06-10T07:18:21.351Z"
   },
   {
    "duration": 99,
    "start_time": "2023-06-10T07:19:11.879Z"
   },
   {
    "duration": 96,
    "start_time": "2023-06-10T07:19:18.815Z"
   },
   {
    "duration": 102,
    "start_time": "2023-06-10T07:24:23.253Z"
   },
   {
    "duration": 94,
    "start_time": "2023-06-10T07:25:01.492Z"
   },
   {
    "duration": 14,
    "start_time": "2023-06-10T07:25:37.758Z"
   },
   {
    "duration": 10,
    "start_time": "2023-06-10T07:25:41.893Z"
   },
   {
    "duration": 10,
    "start_time": "2023-06-10T07:25:53.917Z"
   },
   {
    "duration": 12,
    "start_time": "2023-06-10T07:28:51.715Z"
   },
   {
    "duration": 9,
    "start_time": "2023-06-10T07:30:25.932Z"
   },
   {
    "duration": 9,
    "start_time": "2023-06-10T07:31:22.100Z"
   },
   {
    "duration": 90,
    "start_time": "2023-06-10T07:36:49.547Z"
   },
   {
    "duration": 93,
    "start_time": "2023-06-10T07:37:23.834Z"
   },
   {
    "duration": 72,
    "start_time": "2023-06-10T07:44:06.233Z"
   },
   {
    "duration": 179,
    "start_time": "2023-06-10T07:44:25.074Z"
   },
   {
    "duration": 72,
    "start_time": "2023-06-10T07:44:47.984Z"
   },
   {
    "duration": 72,
    "start_time": "2023-06-10T07:45:43.346Z"
   },
   {
    "duration": 197,
    "start_time": "2023-06-10T07:46:35.416Z"
   },
   {
    "duration": 73,
    "start_time": "2023-06-10T07:47:07.232Z"
   },
   {
    "duration": 92,
    "start_time": "2023-06-10T08:46:53.412Z"
   },
   {
    "duration": 493,
    "start_time": "2023-06-10T08:48:59.086Z"
   },
   {
    "duration": 139,
    "start_time": "2023-06-10T08:53:09.546Z"
   },
   {
    "duration": 251,
    "start_time": "2023-06-10T08:53:30.394Z"
   },
   {
    "duration": 66,
    "start_time": "2023-06-10T08:53:40.753Z"
   },
   {
    "duration": 50,
    "start_time": "2023-06-10T08:53:47.593Z"
   },
   {
    "duration": 53,
    "start_time": "2023-06-10T08:54:05.281Z"
   },
   {
    "duration": 124,
    "start_time": "2023-06-10T08:57:34.880Z"
   },
   {
    "duration": 123,
    "start_time": "2023-06-10T08:57:50.736Z"
   },
   {
    "duration": 3,
    "start_time": "2023-06-10T09:09:59.949Z"
   },
   {
    "duration": 1363,
    "start_time": "2023-06-10T09:10:44.790Z"
   },
   {
    "duration": 133,
    "start_time": "2023-06-10T09:19:29.572Z"
   },
   {
    "duration": 92,
    "start_time": "2023-06-10T09:19:36.196Z"
   },
   {
    "duration": 191,
    "start_time": "2023-06-10T11:43:41.883Z"
   },
   {
    "duration": 145,
    "start_time": "2023-06-10T11:44:13.878Z"
   },
   {
    "duration": 175,
    "start_time": "2023-06-10T11:50:00.890Z"
   },
   {
    "duration": 136,
    "start_time": "2023-06-10T11:50:06.979Z"
   },
   {
    "duration": 128,
    "start_time": "2023-06-10T11:50:38.829Z"
   },
   {
    "duration": 158,
    "start_time": "2023-06-10T11:50:47.148Z"
   },
   {
    "duration": 132,
    "start_time": "2023-06-10T11:53:53.322Z"
   },
   {
    "duration": 44,
    "start_time": "2023-06-10T11:54:07.938Z"
   },
   {
    "duration": 131,
    "start_time": "2023-06-10T11:54:34.659Z"
   },
   {
    "duration": 131,
    "start_time": "2023-06-10T11:54:49.098Z"
   },
   {
    "duration": 42,
    "start_time": "2023-06-10T11:55:00.587Z"
   },
   {
    "duration": 132,
    "start_time": "2023-06-10T11:58:05.458Z"
   },
   {
    "duration": 40,
    "start_time": "2023-06-10T11:58:09.793Z"
   },
   {
    "duration": 42,
    "start_time": "2023-06-10T11:58:18.698Z"
   },
   {
    "duration": 44,
    "start_time": "2023-06-10T11:58:32.018Z"
   },
   {
    "duration": 136,
    "start_time": "2023-06-10T12:06:40.288Z"
   },
   {
    "duration": 138,
    "start_time": "2023-06-10T12:09:53.414Z"
   },
   {
    "duration": 151,
    "start_time": "2023-06-10T12:10:15.617Z"
   },
   {
    "duration": 113,
    "start_time": "2023-06-10T12:10:44.470Z"
   },
   {
    "duration": 76,
    "start_time": "2023-06-10T12:11:53.215Z"
   },
   {
    "duration": 139,
    "start_time": "2023-06-10T12:12:50.274Z"
   },
   {
    "duration": 140,
    "start_time": "2023-06-10T12:13:23.326Z"
   },
   {
    "duration": 137,
    "start_time": "2023-06-10T12:13:31.626Z"
   },
   {
    "duration": 135,
    "start_time": "2023-06-10T12:13:50.271Z"
   },
   {
    "duration": 130,
    "start_time": "2023-06-10T12:14:11.806Z"
   },
   {
    "duration": 67,
    "start_time": "2023-06-10T12:15:53.286Z"
   },
   {
    "duration": 67,
    "start_time": "2023-06-10T12:17:04.589Z"
   },
   {
    "duration": 139,
    "start_time": "2023-06-10T12:17:19.844Z"
   },
   {
    "duration": 127,
    "start_time": "2023-06-10T12:17:41.301Z"
   },
   {
    "duration": 124,
    "start_time": "2023-06-10T12:17:52.901Z"
   },
   {
    "duration": 126,
    "start_time": "2023-06-10T12:18:19.245Z"
   },
   {
    "duration": 248,
    "start_time": "2023-06-10T12:34:44.258Z"
   },
   {
    "duration": 64,
    "start_time": "2023-06-10T12:35:13.074Z"
   },
   {
    "duration": 65,
    "start_time": "2023-06-10T12:35:32.657Z"
   },
   {
    "duration": 67,
    "start_time": "2023-06-10T12:37:53.176Z"
   },
   {
    "duration": 64,
    "start_time": "2023-06-10T12:38:16.480Z"
   },
   {
    "duration": 1489,
    "start_time": "2023-06-10T17:18:15.688Z"
   },
   {
    "duration": 183,
    "start_time": "2023-06-10T17:19:58.361Z"
   },
   {
    "duration": 45,
    "start_time": "2023-06-10T17:22:43.925Z"
   },
   {
    "duration": 41,
    "start_time": "2023-06-10T17:24:54.275Z"
   },
   {
    "duration": 129,
    "start_time": "2023-06-10T17:25:21.125Z"
   },
   {
    "duration": 59,
    "start_time": "2023-06-10T17:25:41.220Z"
   },
   {
    "duration": 142,
    "start_time": "2023-06-10T17:26:01.308Z"
   },
   {
    "duration": 148,
    "start_time": "2023-06-10T17:26:35.028Z"
   },
   {
    "duration": 40,
    "start_time": "2023-06-10T17:27:01.284Z"
   },
   {
    "duration": 45,
    "start_time": "2023-06-10T17:27:07.051Z"
   },
   {
    "duration": 64,
    "start_time": "2023-06-10T17:27:19.131Z"
   },
   {
    "duration": 63,
    "start_time": "2023-06-10T17:27:26.131Z"
   },
   {
    "duration": 59,
    "start_time": "2023-06-10T17:27:30.434Z"
   },
   {
    "duration": 36,
    "start_time": "2023-06-10T17:28:33.995Z"
   },
   {
    "duration": 33,
    "start_time": "2023-06-10T17:28:51.395Z"
   },
   {
    "duration": 140,
    "start_time": "2023-06-10T17:29:50.699Z"
   },
   {
    "duration": 32,
    "start_time": "2023-06-10T17:30:06.786Z"
   },
   {
    "duration": 37,
    "start_time": "2023-06-10T17:30:30.028Z"
   },
   {
    "duration": 145,
    "start_time": "2023-06-10T17:35:34.434Z"
   },
   {
    "duration": 137,
    "start_time": "2023-06-10T17:36:49.287Z"
   },
   {
    "duration": 56,
    "start_time": "2023-06-10T17:37:23.442Z"
   },
   {
    "duration": 216,
    "start_time": "2023-06-10T17:37:37.673Z"
   },
   {
    "duration": 38,
    "start_time": "2023-06-10T17:37:43.295Z"
   },
   {
    "duration": 47,
    "start_time": "2023-06-10T17:37:47.146Z"
   },
   {
    "duration": 189,
    "start_time": "2023-06-10T17:38:37.872Z"
   },
   {
    "duration": 6,
    "start_time": "2023-06-10T17:40:20.839Z"
   },
   {
    "duration": 187,
    "start_time": "2023-06-10T17:40:28.704Z"
   },
   {
    "duration": 183,
    "start_time": "2023-06-10T17:42:26.704Z"
   },
   {
    "duration": 164,
    "start_time": "2023-06-10T17:42:34.385Z"
   },
   {
    "duration": 153,
    "start_time": "2023-06-10T17:43:13.808Z"
   },
   {
    "duration": 174,
    "start_time": "2023-06-10T17:43:32.505Z"
   },
   {
    "duration": 37,
    "start_time": "2023-06-10T17:44:25.625Z"
   },
   {
    "duration": 175,
    "start_time": "2023-06-10T17:44:30.144Z"
   },
   {
    "duration": 2833,
    "start_time": "2023-06-10T18:30:11.044Z"
   },
   {
    "duration": 148,
    "start_time": "2023-06-10T18:38:08.774Z"
   },
   {
    "duration": 153,
    "start_time": "2023-06-10T18:38:33.019Z"
   },
   {
    "duration": 122,
    "start_time": "2023-06-10T18:40:52.915Z"
   },
   {
    "duration": 1003,
    "start_time": "2023-06-10T18:41:10.467Z"
   },
   {
    "duration": 1061,
    "start_time": "2023-06-10T18:41:44.666Z"
   },
   {
    "duration": 1244,
    "start_time": "2023-06-10T18:42:00.036Z"
   },
   {
    "duration": 1063,
    "start_time": "2023-06-10T18:42:05.165Z"
   },
   {
    "duration": 1409,
    "start_time": "2023-06-10T18:46:30.378Z"
   },
   {
    "duration": 1379,
    "start_time": "2023-06-10T18:48:16.793Z"
   },
   {
    "duration": 1423,
    "start_time": "2023-06-10T18:49:20.321Z"
   },
   {
    "duration": 1295,
    "start_time": "2023-06-10T18:49:57.098Z"
   },
   {
    "duration": 1275,
    "start_time": "2023-06-10T18:50:29.787Z"
   },
   {
    "duration": 1241,
    "start_time": "2023-06-10T18:54:42.063Z"
   },
   {
    "duration": 2886,
    "start_time": "2023-06-10T18:57:03.471Z"
   },
   {
    "duration": 157,
    "start_time": "2023-06-10T19:04:35.925Z"
   },
   {
    "duration": 222,
    "start_time": "2023-06-10T19:04:47.221Z"
   },
   {
    "duration": 137,
    "start_time": "2023-06-10T19:06:55.397Z"
   },
   {
    "duration": 124,
    "start_time": "2023-06-10T19:07:03.758Z"
   },
   {
    "duration": 187,
    "start_time": "2023-06-10T19:15:35.466Z"
   },
   {
    "duration": 130,
    "start_time": "2023-06-10T19:15:42.299Z"
   },
   {
    "duration": 151,
    "start_time": "2023-06-10T19:15:49.866Z"
   },
   {
    "duration": 220,
    "start_time": "2023-06-10T19:20:51.113Z"
   },
   {
    "duration": 155,
    "start_time": "2023-06-10T19:36:01.054Z"
   },
   {
    "duration": 130,
    "start_time": "2023-06-10T19:38:36.158Z"
   },
   {
    "duration": 357,
    "start_time": "2023-06-10T19:38:41.959Z"
   },
   {
    "duration": 365,
    "start_time": "2023-06-10T19:39:02.946Z"
   },
   {
    "duration": 123,
    "start_time": "2023-06-10T19:41:29.614Z"
   },
   {
    "duration": 129,
    "start_time": "2023-06-10T19:43:05.140Z"
   },
   {
    "duration": 126,
    "start_time": "2023-06-10T19:43:41.597Z"
   },
   {
    "duration": 133,
    "start_time": "2023-06-10T19:43:54.262Z"
   },
   {
    "duration": 344,
    "start_time": "2023-06-10T19:44:06.197Z"
   },
   {
    "duration": 536,
    "start_time": "2023-06-10T19:49:17.270Z"
   },
   {
    "duration": 18,
    "start_time": "2023-06-10T19:55:22.151Z"
   },
   {
    "duration": 164,
    "start_time": "2023-06-10T19:55:58.756Z"
   },
   {
    "duration": 61,
    "start_time": "2023-06-10T19:56:08.395Z"
   },
   {
    "duration": 18,
    "start_time": "2023-06-10T19:56:12.449Z"
   },
   {
    "duration": 19,
    "start_time": "2023-06-10T20:01:52.480Z"
   },
   {
    "duration": 11,
    "start_time": "2023-06-10T20:02:09.448Z"
   },
   {
    "duration": 25,
    "start_time": "2023-06-10T20:02:32.281Z"
   },
   {
    "duration": 3,
    "start_time": "2023-06-10T20:09:25.286Z"
   },
   {
    "duration": 23,
    "start_time": "2023-06-10T20:10:37.030Z"
   },
   {
    "duration": 18,
    "start_time": "2023-06-10T20:11:24.647Z"
   },
   {
    "duration": 11,
    "start_time": "2023-06-10T20:11:31.550Z"
   },
   {
    "duration": 24,
    "start_time": "2023-06-10T20:11:46.429Z"
   },
   {
    "duration": 456,
    "start_time": "2023-06-10T20:11:48.998Z"
   },
   {
    "duration": 400,
    "start_time": "2023-06-10T20:12:23.608Z"
   },
   {
    "duration": 602,
    "start_time": "2023-06-10T20:12:32.742Z"
   },
   {
    "duration": 108,
    "start_time": "2023-06-10T20:13:09.063Z"
   },
   {
    "duration": 25,
    "start_time": "2023-06-10T20:13:22.957Z"
   },
   {
    "duration": 552,
    "start_time": "2023-06-10T20:13:27.102Z"
   },
   {
    "duration": 545,
    "start_time": "2023-06-10T20:16:19.188Z"
   },
   {
    "duration": 534,
    "start_time": "2023-06-10T20:16:24.244Z"
   },
   {
    "duration": 521,
    "start_time": "2023-06-10T20:16:33.502Z"
   },
   {
    "duration": 329,
    "start_time": "2023-06-10T20:16:37.949Z"
   },
   {
    "duration": 545,
    "start_time": "2023-06-10T20:16:41.334Z"
   },
   {
    "duration": 503,
    "start_time": "2023-06-10T20:16:45.269Z"
   },
   {
    "duration": 487,
    "start_time": "2023-06-10T20:16:49.360Z"
   },
   {
    "duration": 476,
    "start_time": "2023-06-10T20:17:30.989Z"
   },
   {
    "duration": 1420,
    "start_time": "2023-06-11T05:37:27.604Z"
   },
   {
    "duration": 4,
    "start_time": "2023-06-11T05:37:29.027Z"
   },
   {
    "duration": 10617,
    "start_time": "2023-06-11T05:37:29.033Z"
   },
   {
    "duration": 271,
    "start_time": "2023-06-11T05:37:39.652Z"
   },
   {
    "duration": 14,
    "start_time": "2023-06-11T05:37:39.925Z"
   },
   {
    "duration": 112,
    "start_time": "2023-06-11T05:37:39.941Z"
   },
   {
    "duration": 3,
    "start_time": "2023-06-11T05:37:40.054Z"
   },
   {
    "duration": 163,
    "start_time": "2023-06-11T05:37:40.058Z"
   },
   {
    "duration": 8,
    "start_time": "2023-06-11T05:37:40.222Z"
   },
   {
    "duration": 5,
    "start_time": "2023-06-11T05:37:40.232Z"
   },
   {
    "duration": 191,
    "start_time": "2023-06-11T05:37:40.238Z"
   },
   {
    "duration": 3,
    "start_time": "2023-06-11T05:37:40.431Z"
   },
   {
    "duration": 1547,
    "start_time": "2023-06-11T05:37:40.436Z"
   },
   {
    "duration": 120,
    "start_time": "2023-06-11T05:37:41.986Z"
   },
   {
    "duration": 77,
    "start_time": "2023-06-11T05:37:42.108Z"
   },
   {
    "duration": 224,
    "start_time": "2023-06-11T05:37:42.195Z"
   },
   {
    "duration": 3,
    "start_time": "2023-06-11T05:37:42.420Z"
   },
   {
    "duration": 1352,
    "start_time": "2023-06-11T05:37:42.425Z"
   },
   {
    "duration": 387,
    "start_time": "2023-06-11T05:37:43.779Z"
   },
   {
    "duration": 29,
    "start_time": "2023-06-11T05:37:44.168Z"
   },
   {
    "duration": 562,
    "start_time": "2023-06-11T05:37:44.201Z"
   },
   {
    "duration": 3,
    "start_time": "2023-06-11T05:37:44.765Z"
   },
   {
    "duration": 331,
    "start_time": "2023-06-11T05:37:44.772Z"
   },
   {
    "duration": 0,
    "start_time": "2023-06-11T05:37:45.105Z"
   },
   {
    "duration": 0,
    "start_time": "2023-06-11T05:37:45.106Z"
   },
   {
    "duration": 338,
    "start_time": "2023-06-11T05:39:37.430Z"
   },
   {
    "duration": 368,
    "start_time": "2023-06-11T05:40:09.927Z"
   },
   {
    "duration": 367,
    "start_time": "2023-06-11T05:40:23.254Z"
   },
   {
    "duration": 346,
    "start_time": "2023-06-11T05:41:29.698Z"
   },
   {
    "duration": 419,
    "start_time": "2023-06-11T05:42:13.405Z"
   },
   {
    "duration": 20,
    "start_time": "2023-06-11T05:42:36.495Z"
   },
   {
    "duration": 398,
    "start_time": "2023-06-11T05:42:40.333Z"
   },
   {
    "duration": 339,
    "start_time": "2023-06-11T05:43:17.699Z"
   },
   {
    "duration": 359,
    "start_time": "2023-06-11T05:44:19.196Z"
   },
   {
    "duration": 452,
    "start_time": "2023-06-11T05:44:55.813Z"
   },
   {
    "duration": 392,
    "start_time": "2023-06-11T05:47:53.356Z"
   },
   {
    "duration": 372,
    "start_time": "2023-06-11T05:52:31.933Z"
   },
   {
    "duration": 410,
    "start_time": "2023-06-11T05:52:55.496Z"
   },
   {
    "duration": 454,
    "start_time": "2023-06-11T05:53:09.499Z"
   },
   {
    "duration": 488,
    "start_time": "2023-06-11T05:53:53.114Z"
   },
   {
    "duration": 530,
    "start_time": "2023-06-11T05:54:33.322Z"
   },
   {
    "duration": 341,
    "start_time": "2023-06-11T05:55:40.227Z"
   },
   {
    "duration": 341,
    "start_time": "2023-06-11T05:55:56.499Z"
   },
   {
    "duration": 371,
    "start_time": "2023-06-11T05:57:08.172Z"
   },
   {
    "duration": 408,
    "start_time": "2023-06-11T05:57:14.219Z"
   },
   {
    "duration": 346,
    "start_time": "2023-06-11T05:57:18.384Z"
   },
   {
    "duration": 1413,
    "start_time": "2023-06-11T05:58:06.589Z"
   },
   {
    "duration": 429,
    "start_time": "2023-06-11T05:58:54.258Z"
   },
   {
    "duration": 472,
    "start_time": "2023-06-11T05:59:53.319Z"
   },
   {
    "duration": 430,
    "start_time": "2023-06-11T06:00:17.537Z"
   },
   {
    "duration": 1466,
    "start_time": "2023-06-11T06:01:57.625Z"
   },
   {
    "duration": 21,
    "start_time": "2023-06-11T06:02:05.554Z"
   },
   {
    "duration": 1479,
    "start_time": "2023-06-11T06:02:18.986Z"
   },
   {
    "duration": 424,
    "start_time": "2023-06-11T06:02:27.209Z"
   },
   {
    "duration": 360,
    "start_time": "2023-06-11T06:05:49.888Z"
   },
   {
    "duration": 453,
    "start_time": "2023-06-11T06:06:00.410Z"
   },
   {
    "duration": 381,
    "start_time": "2023-06-11T06:06:16.377Z"
   },
   {
    "duration": 402,
    "start_time": "2023-06-11T06:07:36.865Z"
   },
   {
    "duration": 564,
    "start_time": "2023-06-11T06:11:01.593Z"
   },
   {
    "duration": 406,
    "start_time": "2023-06-11T06:11:45.767Z"
   },
   {
    "duration": 393,
    "start_time": "2023-06-11T06:11:54.063Z"
   },
   {
    "duration": 396,
    "start_time": "2023-06-11T06:12:28.240Z"
   },
   {
    "duration": 743,
    "start_time": "2023-06-11T07:33:27.094Z"
   },
   {
    "duration": 955,
    "start_time": "2023-06-11T07:33:43.631Z"
   },
   {
    "duration": 886,
    "start_time": "2023-06-11T07:35:10.887Z"
   },
   {
    "duration": 774,
    "start_time": "2023-06-11T07:35:58.422Z"
   },
   {
    "duration": 741,
    "start_time": "2023-06-11T07:37:22.441Z"
   },
   {
    "duration": 764,
    "start_time": "2023-06-11T07:38:35.237Z"
   },
   {
    "duration": 160,
    "start_time": "2023-06-11T07:38:39.157Z"
   },
   {
    "duration": 786,
    "start_time": "2023-06-11T07:38:49.174Z"
   },
   {
    "duration": 685,
    "start_time": "2023-06-11T07:39:23.023Z"
   },
   {
    "duration": 148,
    "start_time": "2023-06-11T07:39:43.724Z"
   },
   {
    "duration": 171,
    "start_time": "2023-06-11T07:39:59.501Z"
   },
   {
    "duration": 135,
    "start_time": "2023-06-11T07:40:16.423Z"
   },
   {
    "duration": 134,
    "start_time": "2023-06-11T07:40:45.842Z"
   },
   {
    "duration": 168,
    "start_time": "2023-06-11T07:41:52.420Z"
   },
   {
    "duration": 94,
    "start_time": "2023-06-11T07:42:04.948Z"
   },
   {
    "duration": 128,
    "start_time": "2023-06-11T07:42:09.812Z"
   },
   {
    "duration": 150,
    "start_time": "2023-06-11T07:46:02.660Z"
   },
   {
    "duration": 93,
    "start_time": "2023-06-11T07:46:25.548Z"
   },
   {
    "duration": 143,
    "start_time": "2023-06-11T07:46:35.275Z"
   },
   {
    "duration": 174,
    "start_time": "2023-06-11T07:46:47.380Z"
   },
   {
    "duration": 327,
    "start_time": "2023-06-11T07:47:17.707Z"
   },
   {
    "duration": 127,
    "start_time": "2023-06-11T07:48:07.659Z"
   },
   {
    "duration": 134,
    "start_time": "2023-06-11T07:48:13.412Z"
   },
   {
    "duration": 144,
    "start_time": "2023-06-11T07:48:25.534Z"
   },
   {
    "duration": 93,
    "start_time": "2023-06-11T07:48:33.836Z"
   },
   {
    "duration": 92,
    "start_time": "2023-06-11T07:48:51.098Z"
   },
   {
    "duration": 95,
    "start_time": "2023-06-11T07:48:54.562Z"
   },
   {
    "duration": 93,
    "start_time": "2023-06-11T07:49:02.815Z"
   },
   {
    "duration": 95,
    "start_time": "2023-06-11T07:49:08.859Z"
   },
   {
    "duration": 97,
    "start_time": "2023-06-11T07:49:26.228Z"
   },
   {
    "duration": 92,
    "start_time": "2023-06-11T07:49:36.499Z"
   },
   {
    "duration": 99,
    "start_time": "2023-06-11T07:49:41.810Z"
   },
   {
    "duration": 100,
    "start_time": "2023-06-11T07:49:49.522Z"
   },
   {
    "duration": 92,
    "start_time": "2023-06-11T07:51:32.850Z"
   },
   {
    "duration": 94,
    "start_time": "2023-06-11T07:51:41.578Z"
   },
   {
    "duration": 94,
    "start_time": "2023-06-11T07:52:24.035Z"
   },
   {
    "duration": 94,
    "start_time": "2023-06-11T07:53:33.474Z"
   },
   {
    "duration": 97,
    "start_time": "2023-06-11T07:53:50.698Z"
   },
   {
    "duration": 97,
    "start_time": "2023-06-11T07:55:52.497Z"
   },
   {
    "duration": 92,
    "start_time": "2023-06-11T07:55:57.802Z"
   },
   {
    "duration": 93,
    "start_time": "2023-06-11T07:57:04.665Z"
   },
   {
    "duration": 96,
    "start_time": "2023-06-11T07:57:12.977Z"
   },
   {
    "duration": 94,
    "start_time": "2023-06-11T07:57:25.226Z"
   },
   {
    "duration": 93,
    "start_time": "2023-06-11T07:57:38.086Z"
   },
   {
    "duration": 93,
    "start_time": "2023-06-11T07:58:03.329Z"
   },
   {
    "duration": 92,
    "start_time": "2023-06-11T07:58:23.233Z"
   },
   {
    "duration": 142,
    "start_time": "2023-06-11T07:58:54.577Z"
   },
   {
    "duration": 96,
    "start_time": "2023-06-11T07:59:13.633Z"
   },
   {
    "duration": 139,
    "start_time": "2023-06-11T08:06:02.263Z"
   },
   {
    "duration": 12,
    "start_time": "2023-06-11T08:11:48.407Z"
   },
   {
    "duration": 21,
    "start_time": "2023-06-11T08:12:22.774Z"
   },
   {
    "duration": 6,
    "start_time": "2023-06-11T08:13:05.581Z"
   },
   {
    "duration": 10,
    "start_time": "2023-06-11T08:14:09.998Z"
   },
   {
    "duration": 98,
    "start_time": "2023-06-11T08:15:10.133Z"
   },
   {
    "duration": 15,
    "start_time": "2023-06-11T08:15:21.589Z"
   },
   {
    "duration": 13,
    "start_time": "2023-06-11T08:15:35.725Z"
   },
   {
    "duration": 209,
    "start_time": "2023-06-11T08:15:42.172Z"
   },
   {
    "duration": 188,
    "start_time": "2023-06-11T08:16:06.062Z"
   },
   {
    "duration": 88,
    "start_time": "2023-06-11T08:16:16.708Z"
   },
   {
    "duration": 166,
    "start_time": "2023-06-11T08:16:20.140Z"
   },
   {
    "duration": 151,
    "start_time": "2023-06-11T08:17:25.310Z"
   },
   {
    "duration": 167,
    "start_time": "2023-06-11T08:17:38.461Z"
   },
   {
    "duration": 172,
    "start_time": "2023-06-11T08:18:14.340Z"
   },
   {
    "duration": 164,
    "start_time": "2023-06-11T08:18:22.325Z"
   },
   {
    "duration": 9,
    "start_time": "2023-06-11T08:18:38.508Z"
   },
   {
    "duration": 15,
    "start_time": "2023-06-11T08:19:00.437Z"
   },
   {
    "duration": 13,
    "start_time": "2023-06-11T08:19:08.037Z"
   },
   {
    "duration": 16,
    "start_time": "2023-06-11T08:19:56.044Z"
   },
   {
    "duration": 15,
    "start_time": "2023-06-11T08:20:12.893Z"
   },
   {
    "duration": 9,
    "start_time": "2023-06-11T08:20:25.724Z"
   },
   {
    "duration": 10,
    "start_time": "2023-06-11T08:20:30.740Z"
   },
   {
    "duration": 12,
    "start_time": "2023-06-11T08:20:40.901Z"
   },
   {
    "duration": 9,
    "start_time": "2023-06-11T08:20:46.029Z"
   },
   {
    "duration": 170,
    "start_time": "2023-06-11T08:20:55.067Z"
   },
   {
    "duration": 157,
    "start_time": "2023-06-11T08:21:01.849Z"
   },
   {
    "duration": 157,
    "start_time": "2023-06-11T08:21:04.819Z"
   },
   {
    "duration": 156,
    "start_time": "2023-06-11T08:22:37.580Z"
   },
   {
    "duration": 181,
    "start_time": "2023-06-11T08:24:03.804Z"
   },
   {
    "duration": 164,
    "start_time": "2023-06-11T08:24:10.171Z"
   },
   {
    "duration": 171,
    "start_time": "2023-06-11T08:24:19.420Z"
   },
   {
    "duration": 179,
    "start_time": "2023-06-11T08:24:59.284Z"
   },
   {
    "duration": 167,
    "start_time": "2023-06-11T08:25:28.818Z"
   },
   {
    "duration": 918,
    "start_time": "2023-06-11T08:37:18.944Z"
   },
   {
    "duration": 156,
    "start_time": "2023-06-11T08:37:35.168Z"
   },
   {
    "duration": 909,
    "start_time": "2023-06-11T08:37:41.482Z"
   },
   {
    "duration": 217,
    "start_time": "2023-06-11T08:37:58.064Z"
   },
   {
    "duration": 178,
    "start_time": "2023-06-11T08:38:06.867Z"
   },
   {
    "duration": 171,
    "start_time": "2023-06-11T08:38:13.800Z"
   },
   {
    "duration": 148,
    "start_time": "2023-06-11T08:44:02.663Z"
   },
   {
    "duration": 97,
    "start_time": "2023-06-11T08:44:06.999Z"
   },
   {
    "duration": 156,
    "start_time": "2023-06-11T08:59:09.707Z"
   },
   {
    "duration": 134,
    "start_time": "2023-06-11T09:05:34.771Z"
   },
   {
    "duration": 143,
    "start_time": "2023-06-11T09:05:42.058Z"
   },
   {
    "duration": 149,
    "start_time": "2023-06-11T09:06:03.699Z"
   },
   {
    "duration": 142,
    "start_time": "2023-06-11T09:06:08.883Z"
   },
   {
    "duration": 134,
    "start_time": "2023-06-11T09:07:31.045Z"
   },
   {
    "duration": 132,
    "start_time": "2023-06-11T09:07:39.585Z"
   },
   {
    "duration": 135,
    "start_time": "2023-06-11T09:07:49.234Z"
   },
   {
    "duration": 186,
    "start_time": "2023-06-11T09:17:29.895Z"
   },
   {
    "duration": 141,
    "start_time": "2023-06-11T09:18:24.512Z"
   },
   {
    "duration": 137,
    "start_time": "2023-06-11T09:18:49.663Z"
   },
   {
    "duration": 148,
    "start_time": "2023-06-11T09:19:15.889Z"
   },
   {
    "duration": 141,
    "start_time": "2023-06-11T09:23:51.854Z"
   },
   {
    "duration": 134,
    "start_time": "2023-06-11T09:24:07.126Z"
   },
   {
    "duration": 256,
    "start_time": "2023-06-11T09:25:14.342Z"
   },
   {
    "duration": 140,
    "start_time": "2023-06-11T09:25:18.501Z"
   },
   {
    "duration": 211,
    "start_time": "2023-06-11T09:25:29.893Z"
   },
   {
    "duration": 141,
    "start_time": "2023-06-11T09:25:34.758Z"
   },
   {
    "duration": 140,
    "start_time": "2023-06-11T09:27:53.277Z"
   },
   {
    "duration": 142,
    "start_time": "2023-06-11T09:28:03.439Z"
   },
   {
    "duration": 141,
    "start_time": "2023-06-11T09:28:58.725Z"
   },
   {
    "duration": 130,
    "start_time": "2023-06-11T09:29:10.955Z"
   },
   {
    "duration": 132,
    "start_time": "2023-06-11T09:29:32.068Z"
   },
   {
    "duration": 139,
    "start_time": "2023-06-11T09:29:47.748Z"
   },
   {
    "duration": 131,
    "start_time": "2023-06-11T09:29:51.491Z"
   },
   {
    "duration": 132,
    "start_time": "2023-06-11T09:30:20.253Z"
   },
   {
    "duration": 130,
    "start_time": "2023-06-11T09:31:01.055Z"
   },
   {
    "duration": 130,
    "start_time": "2023-06-11T09:31:55.735Z"
   },
   {
    "duration": 141,
    "start_time": "2023-06-11T09:32:05.157Z"
   },
   {
    "duration": 145,
    "start_time": "2023-06-11T09:32:21.516Z"
   },
   {
    "duration": 139,
    "start_time": "2023-06-11T09:32:56.052Z"
   },
   {
    "duration": 145,
    "start_time": "2023-06-11T09:33:31.859Z"
   },
   {
    "duration": 140,
    "start_time": "2023-06-11T09:33:54.397Z"
   },
   {
    "duration": 148,
    "start_time": "2023-06-11T09:35:41.978Z"
   },
   {
    "duration": 150,
    "start_time": "2023-06-11T09:36:22.467Z"
   },
   {
    "duration": 144,
    "start_time": "2023-06-11T09:37:28.171Z"
   },
   {
    "duration": 146,
    "start_time": "2023-06-11T09:38:01.026Z"
   },
   {
    "duration": 132,
    "start_time": "2023-06-11T09:38:40.450Z"
   },
   {
    "duration": 132,
    "start_time": "2023-06-11T09:38:48.121Z"
   },
   {
    "duration": 130,
    "start_time": "2023-06-11T09:39:09.625Z"
   },
   {
    "duration": 131,
    "start_time": "2023-06-11T09:39:13.715Z"
   },
   {
    "duration": 130,
    "start_time": "2023-06-11T09:39:30.554Z"
   },
   {
    "duration": 186,
    "start_time": "2023-06-11T09:45:21.562Z"
   },
   {
    "duration": 1278,
    "start_time": "2023-06-11T09:45:57.422Z"
   },
   {
    "duration": 4,
    "start_time": "2023-06-11T09:45:58.702Z"
   },
   {
    "duration": 10126,
    "start_time": "2023-06-11T09:45:58.708Z"
   },
   {
    "duration": 265,
    "start_time": "2023-06-11T09:46:08.837Z"
   },
   {
    "duration": 14,
    "start_time": "2023-06-11T09:46:09.104Z"
   },
   {
    "duration": 104,
    "start_time": "2023-06-11T09:46:09.120Z"
   },
   {
    "duration": 2,
    "start_time": "2023-06-11T09:46:09.226Z"
   },
   {
    "duration": 139,
    "start_time": "2023-06-11T09:46:09.230Z"
   },
   {
    "duration": 10,
    "start_time": "2023-06-11T09:46:09.371Z"
   },
   {
    "duration": 11,
    "start_time": "2023-06-11T09:46:09.384Z"
   },
   {
    "duration": 160,
    "start_time": "2023-06-11T09:46:09.397Z"
   },
   {
    "duration": 3,
    "start_time": "2023-06-11T09:46:09.558Z"
   },
   {
    "duration": 1426,
    "start_time": "2023-06-11T09:46:09.563Z"
   },
   {
    "duration": 94,
    "start_time": "2023-06-11T09:46:10.990Z"
   },
   {
    "duration": 63,
    "start_time": "2023-06-11T09:46:11.086Z"
   },
   {
    "duration": 210,
    "start_time": "2023-06-11T09:46:11.151Z"
   },
   {
    "duration": 9,
    "start_time": "2023-06-11T09:46:11.363Z"
   },
   {
    "duration": 1299,
    "start_time": "2023-06-11T09:46:11.374Z"
   },
   {
    "duration": 386,
    "start_time": "2023-06-11T09:46:12.675Z"
   },
   {
    "duration": 417,
    "start_time": "2023-06-11T09:46:13.062Z"
   },
   {
    "duration": 3,
    "start_time": "2023-06-11T09:46:13.481Z"
   },
   {
    "duration": 104,
    "start_time": "2023-06-11T09:46:13.486Z"
   },
   {
    "duration": 9,
    "start_time": "2023-06-11T09:46:13.592Z"
   },
   {
    "duration": 174,
    "start_time": "2023-06-11T09:46:13.603Z"
   },
   {
    "duration": 131,
    "start_time": "2023-06-11T09:46:13.779Z"
   },
   {
    "duration": 1453,
    "start_time": "2023-06-11T11:52:16.120Z"
   },
   {
    "duration": 6,
    "start_time": "2023-06-11T11:52:17.577Z"
   },
   {
    "duration": 12497,
    "start_time": "2023-06-11T11:52:17.585Z"
   },
   {
    "duration": 34,
    "start_time": "2023-06-11T11:52:30.084Z"
   },
   {
    "duration": 35,
    "start_time": "2023-06-11T11:52:30.120Z"
   },
   {
    "duration": 99,
    "start_time": "2023-06-11T11:52:30.157Z"
   },
   {
    "duration": 2,
    "start_time": "2023-06-11T11:52:30.258Z"
   },
   {
    "duration": 99,
    "start_time": "2023-06-11T11:53:01.679Z"
   },
   {
    "duration": 152,
    "start_time": "2023-06-11T11:53:02.253Z"
   },
   {
    "duration": 92,
    "start_time": "2023-06-11T11:53:42.393Z"
   },
   {
    "duration": 144,
    "start_time": "2023-06-11T11:59:56.425Z"
   },
   {
    "duration": 92,
    "start_time": "2023-06-11T12:00:05.460Z"
   },
   {
    "duration": 250,
    "start_time": "2023-06-11T12:07:25.042Z"
   },
   {
    "duration": 94,
    "start_time": "2023-06-11T12:08:22.659Z"
   },
   {
    "duration": 35,
    "start_time": "2023-06-11T12:30:53.662Z"
   },
   {
    "duration": 34,
    "start_time": "2023-06-11T12:31:13.923Z"
   },
   {
    "duration": 32,
    "start_time": "2023-06-11T12:31:23.170Z"
   },
   {
    "duration": 1238,
    "start_time": "2023-06-11T12:35:29.405Z"
   },
   {
    "duration": 6,
    "start_time": "2023-06-11T12:35:30.645Z"
   },
   {
    "duration": 13423,
    "start_time": "2023-06-11T12:35:30.653Z"
   },
   {
    "duration": 56,
    "start_time": "2023-06-11T12:35:44.077Z"
   },
   {
    "duration": 19,
    "start_time": "2023-06-11T12:35:44.136Z"
   },
   {
    "duration": 74,
    "start_time": "2023-06-11T12:35:44.157Z"
   },
   {
    "duration": 2,
    "start_time": "2023-06-11T12:35:44.233Z"
   },
   {
    "duration": 96,
    "start_time": "2023-06-11T12:35:44.237Z"
   },
   {
    "duration": 8,
    "start_time": "2023-06-11T12:35:44.334Z"
   },
   {
    "duration": 4,
    "start_time": "2023-06-11T12:35:44.343Z"
   },
   {
    "duration": 127,
    "start_time": "2023-06-11T12:35:44.349Z"
   },
   {
    "duration": 2,
    "start_time": "2023-06-11T12:35:44.478Z"
   },
   {
    "duration": 1301,
    "start_time": "2023-06-11T12:35:44.482Z"
   },
   {
    "duration": 62,
    "start_time": "2023-06-11T12:35:45.786Z"
   },
   {
    "duration": 30,
    "start_time": "2023-06-11T12:35:45.849Z"
   },
   {
    "duration": 172,
    "start_time": "2023-06-11T12:35:45.881Z"
   },
   {
    "duration": 3,
    "start_time": "2023-06-11T12:35:46.055Z"
   },
   {
    "duration": 1108,
    "start_time": "2023-06-11T12:35:46.059Z"
   },
   {
    "duration": 357,
    "start_time": "2023-06-11T12:35:47.168Z"
   },
   {
    "duration": 407,
    "start_time": "2023-06-11T12:35:47.527Z"
   },
   {
    "duration": 2,
    "start_time": "2023-06-11T12:35:47.936Z"
   },
   {
    "duration": 65,
    "start_time": "2023-06-11T12:35:47.939Z"
   },
   {
    "duration": 9,
    "start_time": "2023-06-11T12:35:48.005Z"
   },
   {
    "duration": 170,
    "start_time": "2023-06-11T12:35:48.015Z"
   },
   {
    "duration": 101,
    "start_time": "2023-06-11T12:35:48.186Z"
   },
   {
    "duration": 53,
    "start_time": "2023-06-12T11:33:31.470Z"
   },
   {
    "duration": 6,
    "start_time": "2023-06-12T11:34:27.364Z"
   },
   {
    "duration": 1443,
    "start_time": "2023-06-12T11:34:49.048Z"
   },
   {
    "duration": 63,
    "start_time": "2023-06-12T11:34:58.189Z"
   },
   {
    "duration": 1275,
    "start_time": "2023-06-12T11:35:07.963Z"
   },
   {
    "duration": 3,
    "start_time": "2023-06-12T11:35:09.241Z"
   },
   {
    "duration": 11594,
    "start_time": "2023-06-12T11:35:09.245Z"
   },
   {
    "duration": 47,
    "start_time": "2023-06-12T11:35:20.841Z"
   },
   {
    "duration": 13,
    "start_time": "2023-06-12T11:35:20.890Z"
   },
   {
    "duration": 74,
    "start_time": "2023-06-12T11:35:20.905Z"
   },
   {
    "duration": 2,
    "start_time": "2023-06-12T11:35:20.981Z"
   },
   {
    "duration": 95,
    "start_time": "2023-06-12T11:35:20.985Z"
   },
   {
    "duration": 129,
    "start_time": "2023-06-12T11:35:21.082Z"
   },
   {
    "duration": 9,
    "start_time": "2023-06-12T11:35:21.212Z"
   },
   {
    "duration": 10,
    "start_time": "2023-06-12T11:35:21.223Z"
   },
   {
    "duration": 136,
    "start_time": "2023-06-12T11:35:21.235Z"
   },
   {
    "duration": 2,
    "start_time": "2023-06-12T11:35:21.373Z"
   },
   {
    "duration": 1300,
    "start_time": "2023-06-12T11:35:21.379Z"
   },
   {
    "duration": 65,
    "start_time": "2023-06-12T11:35:22.680Z"
   },
   {
    "duration": 32,
    "start_time": "2023-06-12T11:35:22.747Z"
   },
   {
    "duration": 211,
    "start_time": "2023-06-12T11:35:22.781Z"
   },
   {
    "duration": 3,
    "start_time": "2023-06-12T11:35:22.994Z"
   },
   {
    "duration": 1161,
    "start_time": "2023-06-12T11:35:22.998Z"
   },
   {
    "duration": 352,
    "start_time": "2023-06-12T11:35:24.161Z"
   },
   {
    "duration": 399,
    "start_time": "2023-06-12T11:35:24.515Z"
   },
   {
    "duration": 2,
    "start_time": "2023-06-12T11:35:24.916Z"
   },
   {
    "duration": 65,
    "start_time": "2023-06-12T11:35:24.920Z"
   },
   {
    "duration": 11,
    "start_time": "2023-06-12T11:35:24.987Z"
   },
   {
    "duration": 164,
    "start_time": "2023-06-12T11:35:24.999Z"
   },
   {
    "duration": 98,
    "start_time": "2023-06-12T11:35:25.164Z"
   },
   {
    "duration": 1516,
    "start_time": "2023-06-14T16:47:10.201Z"
   },
   {
    "duration": 3,
    "start_time": "2023-06-14T16:47:11.719Z"
   },
   {
    "duration": 12602,
    "start_time": "2023-06-14T16:47:11.724Z"
   },
   {
    "duration": 49,
    "start_time": "2023-06-14T16:47:24.328Z"
   },
   {
    "duration": 14,
    "start_time": "2023-06-14T16:47:24.380Z"
   },
   {
    "duration": 84,
    "start_time": "2023-06-14T16:47:24.395Z"
   },
   {
    "duration": 2,
    "start_time": "2023-06-14T16:47:24.481Z"
   },
   {
    "duration": 102,
    "start_time": "2023-06-14T16:47:24.485Z"
   },
   {
    "duration": 133,
    "start_time": "2023-06-14T16:47:24.589Z"
   },
   {
    "duration": 8,
    "start_time": "2023-06-14T16:47:24.724Z"
   },
   {
    "duration": 13,
    "start_time": "2023-06-14T16:47:24.733Z"
   },
   {
    "duration": 127,
    "start_time": "2023-06-14T16:47:24.748Z"
   },
   {
    "duration": 2,
    "start_time": "2023-06-14T16:47:24.877Z"
   },
   {
    "duration": 1383,
    "start_time": "2023-06-14T16:47:24.883Z"
   },
   {
    "duration": 64,
    "start_time": "2023-06-14T16:47:26.271Z"
   },
   {
    "duration": 36,
    "start_time": "2023-06-14T16:47:26.336Z"
   },
   {
    "duration": 175,
    "start_time": "2023-06-14T16:47:26.374Z"
   },
   {
    "duration": 3,
    "start_time": "2023-06-14T16:47:26.551Z"
   },
   {
    "duration": 1147,
    "start_time": "2023-06-14T16:47:26.557Z"
   },
   {
    "duration": 362,
    "start_time": "2023-06-14T16:47:27.706Z"
   },
   {
    "duration": 427,
    "start_time": "2023-06-14T16:47:28.070Z"
   },
   {
    "duration": 1990,
    "start_time": "2023-06-14T16:47:28.499Z"
   },
   {
    "duration": 0,
    "start_time": "2023-06-14T16:47:30.491Z"
   },
   {
    "duration": 0,
    "start_time": "2023-06-14T16:47:30.492Z"
   },
   {
    "duration": 0,
    "start_time": "2023-06-14T16:47:30.493Z"
   },
   {
    "duration": 0,
    "start_time": "2023-06-14T16:47:30.494Z"
   },
   {
    "duration": 0,
    "start_time": "2023-06-14T16:47:30.495Z"
   },
   {
    "duration": 1820,
    "start_time": "2023-06-14T16:47:42.930Z"
   },
   {
    "duration": 408,
    "start_time": "2023-06-14T16:48:04.138Z"
   },
   {
    "duration": 398,
    "start_time": "2023-06-14T16:49:05.689Z"
   },
   {
    "duration": 413,
    "start_time": "2023-06-14T16:49:32.914Z"
   },
   {
    "duration": 467,
    "start_time": "2023-06-14T16:49:41.841Z"
   },
   {
    "duration": 466,
    "start_time": "2023-06-14T16:51:13.619Z"
   },
   {
    "duration": 463,
    "start_time": "2023-06-14T16:51:34.659Z"
   },
   {
    "duration": 445,
    "start_time": "2023-11-08T11:19:20.769Z"
   },
   {
    "duration": 10766,
    "start_time": "2023-11-08T11:19:21.216Z"
   },
   {
    "duration": 3,
    "start_time": "2023-11-08T11:19:31.984Z"
   },
   {
    "duration": 288,
    "start_time": "2023-11-08T11:19:31.989Z"
   },
   {
    "duration": 101,
    "start_time": "2023-11-08T11:19:32.278Z"
   },
   {
    "duration": 103,
    "start_time": "2023-11-08T11:19:32.381Z"
   },
   {
    "duration": 106,
    "start_time": "2023-11-08T11:19:32.486Z"
   },
   {
    "duration": 102,
    "start_time": "2023-11-08T11:19:32.594Z"
   },
   {
    "duration": 51,
    "start_time": "2023-11-08T11:19:32.698Z"
   },
   {
    "duration": 76,
    "start_time": "2023-11-08T11:19:32.752Z"
   },
   {
    "duration": 53,
    "start_time": "2023-11-08T11:19:32.829Z"
   },
   {
    "duration": 56,
    "start_time": "2023-11-08T11:19:32.884Z"
   },
   {
    "duration": 53,
    "start_time": "2023-11-08T11:19:32.942Z"
   },
   {
    "duration": 574,
    "start_time": "2023-11-08T12:46:52.389Z"
   },
   {
    "duration": 22044,
    "start_time": "2023-11-08T12:46:52.965Z"
   },
   {
    "duration": 5,
    "start_time": "2023-11-08T12:47:15.011Z"
   },
   {
    "duration": 336,
    "start_time": "2023-11-08T12:47:15.017Z"
   },
   {
    "duration": 99,
    "start_time": "2023-11-08T12:47:15.355Z"
   },
   {
    "duration": 100,
    "start_time": "2023-11-08T12:47:15.455Z"
   },
   {
    "duration": 99,
    "start_time": "2023-11-08T12:47:15.557Z"
   },
   {
    "duration": 102,
    "start_time": "2023-11-08T12:47:15.659Z"
   },
   {
    "duration": 50,
    "start_time": "2023-11-08T12:47:15.762Z"
   },
   {
    "duration": 75,
    "start_time": "2023-11-08T12:47:15.814Z"
   },
   {
    "duration": 52,
    "start_time": "2023-11-08T12:47:15.891Z"
   },
   {
    "duration": 56,
    "start_time": "2023-11-08T12:47:15.945Z"
   },
   {
    "duration": 53,
    "start_time": "2023-11-08T12:47:16.003Z"
   },
   {
    "duration": 59,
    "start_time": "2023-11-08T13:01:15.130Z"
   },
   {
    "duration": 58,
    "start_time": "2023-11-08T13:01:31.249Z"
   },
   {
    "duration": 163,
    "start_time": "2023-11-08T13:02:26.703Z"
   },
   {
    "duration": 63,
    "start_time": "2023-11-08T13:02:28.454Z"
   },
   {
    "duration": 62,
    "start_time": "2023-11-08T13:02:38.774Z"
   },
   {
    "duration": 78,
    "start_time": "2023-11-08T13:02:40.973Z"
   },
   {
    "duration": 57,
    "start_time": "2023-11-08T13:03:17.102Z"
   },
   {
    "duration": 58,
    "start_time": "2023-11-08T13:05:28.194Z"
   },
   {
    "duration": 60,
    "start_time": "2023-11-08T13:06:24.223Z"
   },
   {
    "duration": 54,
    "start_time": "2023-11-09T09:38:20.419Z"
   },
   {
    "duration": 595,
    "start_time": "2023-11-09T09:38:28.237Z"
   },
   {
    "duration": 19221,
    "start_time": "2023-11-09T09:38:28.833Z"
   },
   {
    "duration": 4,
    "start_time": "2023-11-09T09:38:48.055Z"
   },
   {
    "duration": 299,
    "start_time": "2023-11-09T09:38:48.061Z"
   },
   {
    "duration": 104,
    "start_time": "2023-11-09T09:38:48.363Z"
   },
   {
    "duration": 98,
    "start_time": "2023-11-09T09:38:48.469Z"
   },
   {
    "duration": 100,
    "start_time": "2023-11-09T09:38:48.568Z"
   },
   {
    "duration": 99,
    "start_time": "2023-11-09T09:38:48.670Z"
   },
   {
    "duration": 54,
    "start_time": "2023-11-09T09:38:48.770Z"
   },
   {
    "duration": 48,
    "start_time": "2023-11-09T09:38:48.827Z"
   },
   {
    "duration": 74,
    "start_time": "2023-11-09T09:38:48.877Z"
   },
   {
    "duration": 48,
    "start_time": "2023-11-09T09:38:48.953Z"
   },
   {
    "duration": 59,
    "start_time": "2023-11-09T09:38:49.002Z"
   },
   {
    "duration": 50,
    "start_time": "2023-11-09T09:38:49.062Z"
   },
   {
    "duration": 55,
    "start_time": "2023-11-09T09:38:49.114Z"
   },
   {
    "duration": 53,
    "start_time": "2023-11-09T09:38:49.171Z"
   },
   {
    "duration": 52,
    "start_time": "2023-11-09T09:40:08.940Z"
   },
   {
    "duration": 53,
    "start_time": "2023-11-09T09:40:22.122Z"
   },
   {
    "duration": 133,
    "start_time": "2023-11-09T09:42:51.100Z"
   },
   {
    "duration": 58,
    "start_time": "2023-11-09T09:45:31.403Z"
   },
   {
    "duration": 68,
    "start_time": "2023-11-09T09:50:06.091Z"
   },
   {
    "duration": 68,
    "start_time": "2023-11-09T09:50:15.691Z"
   },
   {
    "duration": 67,
    "start_time": "2023-11-09T09:51:21.020Z"
   },
   {
    "duration": 136,
    "start_time": "2023-11-09T09:53:53.633Z"
   },
   {
    "duration": 66,
    "start_time": "2023-11-09T09:54:13.940Z"
   },
   {
    "duration": 81,
    "start_time": "2023-11-09T09:54:58.553Z"
   },
   {
    "duration": 72,
    "start_time": "2023-11-09T09:55:27.050Z"
   },
   {
    "duration": 62,
    "start_time": "2023-11-09T09:56:15.483Z"
   },
   {
    "duration": 57,
    "start_time": "2023-11-09T09:56:39.337Z"
   },
   {
    "duration": 59,
    "start_time": "2023-11-09T09:57:01.434Z"
   },
   {
    "duration": 3,
    "start_time": "2023-11-09T10:00:13.817Z"
   },
   {
    "duration": 64,
    "start_time": "2023-11-09T10:00:15.713Z"
   },
   {
    "duration": 3,
    "start_time": "2023-11-09T10:00:26.337Z"
   },
   {
    "duration": 53,
    "start_time": "2023-11-09T10:00:28.730Z"
   },
   {
    "duration": 4,
    "start_time": "2023-11-09T10:04:03.337Z"
   },
   {
    "duration": 55,
    "start_time": "2023-11-09T10:04:04.528Z"
   },
   {
    "duration": 3,
    "start_time": "2023-11-09T10:04:07.841Z"
   },
   {
    "duration": 53,
    "start_time": "2023-11-09T10:04:09.624Z"
   },
   {
    "duration": 52,
    "start_time": "2023-11-09T10:04:22.265Z"
   },
   {
    "duration": 51,
    "start_time": "2023-11-09T10:04:23.864Z"
   },
   {
    "duration": 53,
    "start_time": "2023-11-09T10:04:25.353Z"
   },
   {
    "duration": 54,
    "start_time": "2023-11-09T10:04:26.760Z"
   },
   {
    "duration": 163,
    "start_time": "2023-11-09T10:07:47.689Z"
   },
   {
    "duration": 3,
    "start_time": "2023-11-09T10:12:00.896Z"
   },
   {
    "duration": 64,
    "start_time": "2023-11-09T10:14:57.622Z"
   },
   {
    "duration": 63,
    "start_time": "2023-11-09T10:15:11.375Z"
   },
   {
    "duration": 62,
    "start_time": "2023-11-09T10:15:17.639Z"
   },
   {
    "duration": 62,
    "start_time": "2023-11-09T10:16:47.238Z"
   },
   {
    "duration": 61,
    "start_time": "2023-11-09T10:16:54.246Z"
   },
   {
    "duration": 61,
    "start_time": "2023-11-09T10:19:24.814Z"
   },
   {
    "duration": 62,
    "start_time": "2023-11-09T10:35:33.186Z"
   },
   {
    "duration": 6,
    "start_time": "2023-11-09T10:35:49.031Z"
   },
   {
    "duration": 236,
    "start_time": "2023-11-09T10:35:51.561Z"
   },
   {
    "duration": 121,
    "start_time": "2023-11-09T10:36:05.008Z"
   },
   {
    "duration": 115,
    "start_time": "2023-11-09T10:36:21.071Z"
   },
   {
    "duration": 71,
    "start_time": "2023-11-09T10:36:37.121Z"
   },
   {
    "duration": 73,
    "start_time": "2023-11-09T10:36:45.761Z"
   },
   {
    "duration": 70,
    "start_time": "2023-11-09T10:36:51.615Z"
   },
   {
    "duration": 75,
    "start_time": "2023-11-09T10:36:57.508Z"
   },
   {
    "duration": 67,
    "start_time": "2023-11-09T10:38:08.351Z"
   },
   {
    "duration": 56,
    "start_time": "2023-11-09T10:38:40.479Z"
   },
   {
    "duration": 72,
    "start_time": "2023-11-09T10:38:46.767Z"
   },
   {
    "duration": 75,
    "start_time": "2023-11-09T10:41:50.773Z"
   },
   {
    "duration": 74,
    "start_time": "2023-11-09T10:42:00.430Z"
   },
   {
    "duration": 98,
    "start_time": "2023-11-09T10:42:08.853Z"
   },
   {
    "duration": 100,
    "start_time": "2023-11-09T10:44:10.148Z"
   },
   {
    "duration": 1009,
    "start_time": "2023-11-09T10:48:48.549Z"
   },
   {
    "duration": 11560,
    "start_time": "2023-11-09T10:48:49.560Z"
   },
   {
    "duration": 4,
    "start_time": "2023-11-09T10:49:01.123Z"
   },
   {
    "duration": 56,
    "start_time": "2023-11-09T10:49:01.129Z"
   },
   {
    "duration": 289,
    "start_time": "2023-11-09T10:49:01.187Z"
   },
   {
    "duration": 52,
    "start_time": "2023-11-09T10:49:01.477Z"
   },
   {
    "duration": 102,
    "start_time": "2023-11-09T10:49:01.531Z"
   },
   {
    "duration": 55,
    "start_time": "2023-11-09T10:49:01.634Z"
   },
   {
    "duration": 54,
    "start_time": "2023-11-09T10:49:01.691Z"
   },
   {
    "duration": 101,
    "start_time": "2023-11-09T10:49:01.748Z"
   },
   {
    "duration": 52,
    "start_time": "2023-11-09T10:49:01.851Z"
   },
   {
    "duration": 73,
    "start_time": "2023-11-09T10:49:01.904Z"
   },
   {
    "duration": 51,
    "start_time": "2023-11-09T10:49:01.980Z"
   },
   {
    "duration": 59,
    "start_time": "2023-11-09T10:49:02.033Z"
   },
   {
    "duration": 54,
    "start_time": "2023-11-09T10:49:02.094Z"
   },
   {
    "duration": 57,
    "start_time": "2023-11-09T10:49:02.150Z"
   },
   {
    "duration": 55,
    "start_time": "2023-11-09T10:49:02.209Z"
   },
   {
    "duration": 52,
    "start_time": "2023-11-09T11:25:45.740Z"
   },
   {
    "duration": 589,
    "start_time": "2023-11-09T11:25:53.613Z"
   },
   {
    "duration": 12843,
    "start_time": "2023-11-09T11:25:54.204Z"
   },
   {
    "duration": 3,
    "start_time": "2023-11-09T11:26:07.062Z"
   },
   {
    "duration": 21,
    "start_time": "2023-11-09T11:26:07.068Z"
   },
   {
    "duration": 58,
    "start_time": "2023-11-09T11:26:07.091Z"
   },
   {
    "duration": 12,
    "start_time": "2023-11-09T11:26:07.154Z"
   },
   {
    "duration": 11,
    "start_time": "2023-11-09T11:26:07.167Z"
   },
   {
    "duration": 23,
    "start_time": "2023-11-09T11:26:07.180Z"
   },
   {
    "duration": 20,
    "start_time": "2023-11-09T11:26:07.204Z"
   },
   {
    "duration": 24,
    "start_time": "2023-11-09T11:26:07.225Z"
   },
   {
    "duration": 178,
    "start_time": "2023-11-09T11:26:07.253Z"
   },
   {
    "duration": 9,
    "start_time": "2023-11-09T11:26:07.432Z"
   },
   {
    "duration": 36,
    "start_time": "2023-11-09T11:26:07.443Z"
   },
   {
    "duration": 35,
    "start_time": "2023-11-09T11:26:07.480Z"
   },
   {
    "duration": 59,
    "start_time": "2023-11-09T11:26:07.517Z"
   },
   {
    "duration": 22,
    "start_time": "2023-11-09T11:26:07.578Z"
   },
   {
    "duration": 54,
    "start_time": "2023-11-09T11:26:07.602Z"
   },
   {
    "duration": 40,
    "start_time": "2023-11-09T11:26:07.661Z"
   },
   {
    "duration": 16,
    "start_time": "2023-11-09T12:45:03.066Z"
   },
   {
    "duration": 14,
    "start_time": "2023-11-09T12:45:13.186Z"
   },
   {
    "duration": 12,
    "start_time": "2023-11-09T12:45:26.336Z"
   },
   {
    "duration": 15,
    "start_time": "2023-11-09T12:45:41.199Z"
   },
   {
    "duration": 12,
    "start_time": "2023-11-09T12:45:54.886Z"
   },
   {
    "duration": 15,
    "start_time": "2023-11-09T12:46:36.348Z"
   },
   {
    "duration": 15,
    "start_time": "2023-11-09T12:46:47.332Z"
   },
   {
    "duration": 56,
    "start_time": "2023-11-09T12:46:54.787Z"
   },
   {
    "duration": 169,
    "start_time": "2023-11-09T12:47:31.699Z"
   },
   {
    "duration": 91,
    "start_time": "2023-11-09T12:47:43.329Z"
   },
   {
    "duration": 29,
    "start_time": "2023-11-09T12:47:57.873Z"
   },
   {
    "duration": 26,
    "start_time": "2023-11-09T12:48:12.038Z"
   },
   {
    "duration": 23,
    "start_time": "2023-11-09T12:54:13.626Z"
   },
   {
    "duration": 149,
    "start_time": "2023-11-09T12:54:19.890Z"
   },
   {
    "duration": 137,
    "start_time": "2023-11-09T12:54:26.097Z"
   },
   {
    "duration": 158,
    "start_time": "2023-11-09T12:54:30.298Z"
   },
   {
    "duration": 84,
    "start_time": "2023-11-09T12:54:51.104Z"
   },
   {
    "duration": 85,
    "start_time": "2023-11-09T12:54:56.288Z"
   },
   {
    "duration": 89,
    "start_time": "2023-11-09T12:55:07.112Z"
   },
   {
    "duration": 16,
    "start_time": "2023-11-09T12:55:14.655Z"
   },
   {
    "duration": 152,
    "start_time": "2023-11-09T12:55:18.511Z"
   },
   {
    "duration": 89,
    "start_time": "2023-11-09T12:55:20.558Z"
   },
   {
    "duration": 18,
    "start_time": "2023-11-09T12:55:28.886Z"
   },
   {
    "duration": 23,
    "start_time": "2023-11-09T12:55:37.981Z"
   },
   {
    "duration": 537,
    "start_time": "2023-11-10T18:11:32.908Z"
   },
   {
    "duration": 134074,
    "start_time": "2023-11-10T18:11:33.447Z"
   },
   {
    "duration": 2,
    "start_time": "2023-11-10T18:13:47.525Z"
   },
   {
    "duration": 19,
    "start_time": "2023-11-10T18:13:47.529Z"
   },
   {
    "duration": 272,
    "start_time": "2023-11-10T18:13:47.549Z"
   },
   {
    "duration": 51,
    "start_time": "2023-11-10T18:13:47.823Z"
   },
   {
    "duration": 52,
    "start_time": "2023-11-10T18:13:47.876Z"
   },
   {
    "duration": 54,
    "start_time": "2023-11-10T18:13:47.929Z"
   },
   {
    "duration": 53,
    "start_time": "2023-11-10T18:13:47.985Z"
   },
   {
    "duration": 111,
    "start_time": "2023-11-10T18:13:48.040Z"
   },
   {
    "duration": 51,
    "start_time": "2023-11-10T18:13:48.153Z"
   },
   {
    "duration": 62,
    "start_time": "2023-11-10T18:13:48.206Z"
   },
   {
    "duration": 50,
    "start_time": "2023-11-10T18:13:48.270Z"
   },
   {
    "duration": 59,
    "start_time": "2023-11-10T18:13:48.322Z"
   },
   {
    "duration": 52,
    "start_time": "2023-11-10T18:13:48.383Z"
   },
   {
    "duration": 56,
    "start_time": "2023-11-10T18:13:48.436Z"
   },
   {
    "duration": 53,
    "start_time": "2023-11-10T18:13:48.494Z"
   },
   {
    "duration": 98,
    "start_time": "2023-11-10T18:13:48.548Z"
   },
   {
    "duration": 473,
    "start_time": "2023-11-11T09:35:09.238Z"
   },
   {
    "duration": 8597,
    "start_time": "2023-11-11T09:35:09.712Z"
   },
   {
    "duration": 2,
    "start_time": "2023-11-11T09:35:18.311Z"
   },
   {
    "duration": 6,
    "start_time": "2023-11-11T09:35:18.315Z"
   },
   {
    "duration": 61,
    "start_time": "2023-11-11T09:35:18.322Z"
   },
   {
    "duration": 10,
    "start_time": "2023-11-11T09:35:18.385Z"
   },
   {
    "duration": 9,
    "start_time": "2023-11-11T09:35:18.396Z"
   },
   {
    "duration": 11,
    "start_time": "2023-11-11T09:35:18.407Z"
   },
   {
    "duration": 12,
    "start_time": "2023-11-11T09:35:18.419Z"
   },
   {
    "duration": 63,
    "start_time": "2023-11-11T09:35:18.433Z"
   },
   {
    "duration": 0,
    "start_time": "2023-11-11T09:35:18.497Z"
   },
   {
    "duration": 0,
    "start_time": "2023-11-11T09:35:18.498Z"
   },
   {
    "duration": 0,
    "start_time": "2023-11-11T09:35:18.499Z"
   },
   {
    "duration": 0,
    "start_time": "2023-11-11T09:35:18.500Z"
   },
   {
    "duration": 0,
    "start_time": "2023-11-11T09:35:18.501Z"
   },
   {
    "duration": 0,
    "start_time": "2023-11-11T09:35:18.502Z"
   },
   {
    "duration": 0,
    "start_time": "2023-11-11T09:35:18.503Z"
   },
   {
    "duration": 0,
    "start_time": "2023-11-11T09:35:18.504Z"
   },
   {
    "duration": 26,
    "start_time": "2023-11-11T09:35:54.929Z"
   },
   {
    "duration": 29,
    "start_time": "2023-11-11T09:36:37.648Z"
   },
   {
    "duration": 25,
    "start_time": "2023-11-11T09:41:43.297Z"
   },
   {
    "duration": 16,
    "start_time": "2023-11-11T09:42:08.840Z"
   },
   {
    "duration": 19,
    "start_time": "2023-11-11T09:42:14.143Z"
   },
   {
    "duration": 24,
    "start_time": "2023-11-11T09:42:18.503Z"
   },
   {
    "duration": 29,
    "start_time": "2023-11-11T09:45:30.216Z"
   },
   {
    "duration": 21,
    "start_time": "2023-11-11T09:45:50.502Z"
   },
   {
    "duration": 3,
    "start_time": "2023-11-11T09:50:38.723Z"
   },
   {
    "duration": 12,
    "start_time": "2023-11-11T09:50:53.101Z"
   },
   {
    "duration": 4,
    "start_time": "2023-11-11T09:51:35.021Z"
   },
   {
    "duration": 3,
    "start_time": "2023-11-11T09:51:47.245Z"
   },
   {
    "duration": 11,
    "start_time": "2023-11-11T09:51:49.860Z"
   },
   {
    "duration": 13,
    "start_time": "2023-11-11T09:51:57.437Z"
   },
   {
    "duration": 3,
    "start_time": "2023-11-11T09:52:47.222Z"
   },
   {
    "duration": 12,
    "start_time": "2023-11-11T09:52:50.772Z"
   },
   {
    "duration": 4,
    "start_time": "2023-11-11T10:11:14.473Z"
   },
   {
    "duration": 22,
    "start_time": "2023-11-11T10:11:16.641Z"
   },
   {
    "duration": 3,
    "start_time": "2023-11-11T10:11:27.721Z"
   },
   {
    "duration": 30,
    "start_time": "2023-11-11T10:11:29.881Z"
   },
   {
    "duration": 4,
    "start_time": "2023-11-11T10:12:00.560Z"
   },
   {
    "duration": 92,
    "start_time": "2023-11-11T10:12:02.481Z"
   },
   {
    "duration": 4,
    "start_time": "2023-11-11T10:12:28.544Z"
   },
   {
    "duration": 32,
    "start_time": "2023-11-11T10:12:30.409Z"
   },
   {
    "duration": 4,
    "start_time": "2023-11-11T10:28:18.997Z"
   },
   {
    "duration": 29,
    "start_time": "2023-11-11T10:28:21.172Z"
   },
   {
    "duration": 4,
    "start_time": "2023-11-11T10:28:33.965Z"
   },
   {
    "duration": 31,
    "start_time": "2023-11-11T10:28:36.253Z"
   },
   {
    "duration": 24,
    "start_time": "2023-11-11T10:28:42.758Z"
   },
   {
    "duration": 25,
    "start_time": "2023-11-11T10:28:45.637Z"
   },
   {
    "duration": 26,
    "start_time": "2023-11-11T10:28:49.134Z"
   },
   {
    "duration": 27,
    "start_time": "2023-11-11T10:28:52.454Z"
   },
   {
    "duration": 18,
    "start_time": "2023-11-11T10:29:50.509Z"
   },
   {
    "duration": 528,
    "start_time": "2023-11-11T10:29:56.191Z"
   },
   {
    "duration": 8084,
    "start_time": "2023-11-11T10:29:56.722Z"
   },
   {
    "duration": 2,
    "start_time": "2023-11-11T10:30:04.808Z"
   },
   {
    "duration": 9,
    "start_time": "2023-11-11T10:30:04.812Z"
   },
   {
    "duration": 11,
    "start_time": "2023-11-11T10:30:04.822Z"
   },
   {
    "duration": 71,
    "start_time": "2023-11-11T10:30:04.834Z"
   },
   {
    "duration": 25,
    "start_time": "2023-11-11T10:30:04.907Z"
   },
   {
    "duration": 23,
    "start_time": "2023-11-11T10:30:04.933Z"
   },
   {
    "duration": 30,
    "start_time": "2023-11-11T10:30:04.958Z"
   },
   {
    "duration": 34,
    "start_time": "2023-11-11T10:30:04.990Z"
   },
   {
    "duration": 19,
    "start_time": "2023-11-11T10:30:05.026Z"
   },
   {
    "duration": 8,
    "start_time": "2023-11-11T10:30:05.046Z"
   },
   {
    "duration": 52,
    "start_time": "2023-11-11T10:30:05.055Z"
   },
   {
    "duration": 9,
    "start_time": "2023-11-11T10:30:05.108Z"
   },
   {
    "duration": 17,
    "start_time": "2023-11-11T10:30:05.118Z"
   },
   {
    "duration": 9,
    "start_time": "2023-11-11T10:30:05.137Z"
   },
   {
    "duration": 12,
    "start_time": "2023-11-11T10:30:05.148Z"
   },
   {
    "duration": 20,
    "start_time": "2023-11-11T10:30:05.161Z"
   }
  ],
  "colab": {
   "provenance": []
  },
  "kernelspec": {
   "display_name": "Python 3 (ipykernel)",
   "language": "python",
   "name": "python3"
  },
  "language_info": {
   "codemirror_mode": {
    "name": "ipython",
    "version": 3
   },
   "file_extension": ".py",
   "mimetype": "text/x-python",
   "name": "python",
   "nbconvert_exporter": "python",
   "pygments_lexer": "ipython3",
   "version": "3.9.5"
  },
  "toc": {
   "base_numbering": 1,
   "nav_menu": {},
   "number_sections": false,
   "sideBar": true,
   "skip_h1_title": true,
   "title_cell": "Table of Contents",
   "title_sidebar": "Contents",
   "toc_cell": false,
   "toc_position": {
    "height": "calc(100% - 180px)",
    "left": "10px",
    "top": "150px",
    "width": "371px"
   },
   "toc_section_display": true,
   "toc_window_display": true
  }
 },
 "nbformat": 4,
 "nbformat_minor": 4
}
