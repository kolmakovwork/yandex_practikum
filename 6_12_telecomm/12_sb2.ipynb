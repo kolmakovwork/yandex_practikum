{
 "cells": [
  {
   "cell_type": "markdown",
   "id": "71304c15-491a-4daf-97bf-3a18c6bb95e5",
   "metadata": {},
   "source": [
    "### NPS Telecomm среди клиентов России"
   ]
  },
  {
   "cell_type": "markdown",
   "id": "26072af2-37b8-4d27-ac5d-dd80026ed9d6",
   "metadata": {},
   "source": [
    "**Описание проекта**\n",
    "\n",
    "Перед большой телекоммуникационной компанией, стоит задача определить текущий уровень потребительской лояльности или NPS (от англ. Net Promoter Score), среди клиентов из России.\n",
    "\n",
    "Чтобы определить уровень лояльности, клиентам задавали классический вопрос: «Оцените по шкале от 1 до 10 вероятность того, что вы порекомендуете компанию друзьям и знакомым».\n",
    "Компания провела опрос и попросила вас подготовить дашборд с его итогами. Большую базу данных для такой задачи разворачивать не стали и выгрузили данные в SQLite. \n",
    "Чтобы оценить результаты опроса, оценки обычно делят на три группы:\n",
    "* 9-10 баллов — «cторонники» (англ. promoters);\n",
    "* 7-8 баллов — «нейтралы» (англ. passives);\n",
    "* 0-6 баллов — «критики» (англ. detractors).\n",
    "\n",
    "\n",
    "* NPS = % «сторонников» - % «критиков».\n",
    "\n",
    "Таким образом, значение этого показателя варьируется от -100% (когда все клиенты «критики») до 100% (когда все клиенты лояльны к сервису). Но это крайние случаи, которые редко встретишь на практике. \n",
    "\n",
    "Интерпретируя результаты NPS-опросов, следует также помнить, что само значение мало о чём говорит. Однако исследования показывают, что клиенты-сторонники полезны любому бизнесу. Они чаще других повторно совершают покупки, активнее тестируют обновления и приводят в сервис своих друзей и знакомых. Поэтому NPS остаётся одной из важнейших метрик бизнеса.\n",
    "\n",
    "**Цели исследования:**\n",
    "1. Подключиться к базе данных. Данные выгрузили в SQLite — СУБД, в которой база данных представлена файлом с расширением .db.\n",
    "2. Выгрузить данные для дашборда используя SQL-запросы, выгрузив такую таблицу:\n",
    "    * поле - описание\n",
    "    * user_id - Идентификатор клиента\n",
    "    * lt_day - Количество дней «жизни» клиента\n",
    "    * is_new - Поле хранит информацию о том, является ли клиент новым\n",
    "    * age - Возраст\n",
    "    * gender_segment - Пол (для удобства работы с полем преобразуйте значения в текстовый вид)\n",
    "    * os_name - Тип операционной системы\n",
    "    * cpe_type_name - Тип устройства\n",
    "    * country - Страна проживания\n",
    "    * city - Город проживания\n",
    "    * age_segment - Возрастной сегмент\n",
    "    * traffic_segment - Сегмент по объёму потребляемого трафика\n",
    "    * lifetime_segment - Сегмент по количеству дней «жизни»\n",
    "    * nps_score - Оценка клиента в NPS-опросе\n",
    "    * nps_group - Поле хранит информацию о том, к какой группе относится оценка клиента в опросе\n",
    "3. Сохранить дф как CSV-файл.\n",
    "4. Сделать дашборд в Tableau + презентацию в pdf. Дашборд должен отвечать на вопросы:\n",
    "    * Как распределены участники опроса по возрасту и полу? Каких пользователей больше: новых или старых? Пользователи из каких городов активнее участвовали в опросе?\n",
    "    * Какие группы пользователей наиболее лояльны к сервису? Какие менее?\n",
    "    * Какой общий NPS среди всех опрошенных? Как они меняются в зависимости от признаков?\n",
    "    * Как можно описать клиентов, которые относятся к группе cторонников (англ. promoters)?\n",
    "\n",
    "\n",
    "**Ход исследования:**\n",
    "\n",
    "Моё исследование пройдет в несколько этапов:\n",
    "* Подключусь к базе данных\n",
    "* Сделаю SQL-запрос к БД\n",
    "* Сохраню в файл .csv\n",
    "* Сделаю дашборд и презентацию"
   ]
  },
  {
   "cell_type": "markdown",
   "id": "d7a5d177-2362-4241-9e48-0d8b9031b8ec",
   "metadata": {},
   "source": [
    "### **Описание данных**\n",
    "\n",
    "**Таблица user** - Содержит основную информацию о клиентах.\n",
    "* поле | описание:\n",
    "* user_id - Идентификатор клиента, первичный ключ таблицы\n",
    "* lt_day - Количество дней «жизни» клиента\n",
    "* age - Возраст клиента в годах\n",
    "* gender_segment - Пол клиента (1 – женщина, 0 – мужчина)\n",
    "* os_name - Тип операционной системы\n",
    "* cpe_type_name - Тип устройства\n",
    "* location_id - Идентификатор домашнего региона клиента, внешний ключ, отсылающий к таблице location\n",
    "* age_gr_id - Идентификатор возрастного сегмента клиента, внешний ключ, отсылающий к таблице age_segment\n",
    "* tr_gr_id - Идентификатор сегмента клиента по объёму потребляемого трафика в месяц, внешний ключ, отсылающий к таблице traffic_segment\n",
    "* lt_gr_id - Идентификатор сегмента клиента по количеству месяцев «жизни», внешний ключ, отсылающий к таблице lifetime_segment\n",
    "* nps_score - Оценка клиента в NPS-опросе (от 1 до 10)\n",
    "\n",
    "**Таблица location** - Справочник территорий, в которых телеком-компания оказывает услуги.\n",
    "* поле | описание:\n",
    "* location_id - Идентификатор записи, первичный ключ\n",
    "* country - Страна\n",
    "* city - Город\n",
    "\n",
    "**Таблица age_segment** - Данные о возрастных сегментах клиентов.\n",
    "* поле | описание:\n",
    "* age_gr_id - Идентификатор сегмента, первичный ключ\n",
    "* bucket_min - Минимальная граница сегмента\n",
    "* bucket_max - Максимальная граница сегмента\n",
    "* title - Название сегмента\n",
    "\n",
    "**Таблица traffic_segment** - Данные о выделяемых сегментах по объёму потребляемого трафика.\n",
    "* поле | описание:\n",
    "* tr_gr_id - Идентификатор сегмента, первичный ключ\n",
    "* bucket_min - Минимальная граница сегмента\n",
    "* bucket_max - Максимальная граница сегмента\n",
    "* title - Название сегмента\n",
    "\n",
    "**Таблица lifetime_segment** - Данные о выделяемых сегментах по количеству месяцев «жизни» клиента — лайфтайму.\n",
    "* поле | описание:\n",
    "* lt_gr_id - Идентификатор сегмента, первичный ключ\n",
    "* bucket_min - Минимальная граница сегмента\n",
    "* bucket_max - Максимальная граница сегмента\n",
    "* title - Название сегмента\n"
   ]
  },
  {
   "cell_type": "markdown",
   "id": "48f5911b-a3a4-43e1-8fec-75cb08953a6b",
   "metadata": {},
   "source": [
    "## 1. Импортируем библиотеки"
   ]
  },
  {
   "cell_type": "code",
   "execution_count": 1,
   "id": "fc7efa54",
   "metadata": {},
   "outputs": [],
   "source": [
    "# Импортируем библиотеки\n",
    "import os\n",
    "import pandas as pd\n",
    "import numpy as np\n",
    "\n",
    "from sqlalchemy import create_engine"
   ]
  },
  {
   "cell_type": "markdown",
   "id": "2286512e-9532-48b7-9a36-75dcd179c4a0",
   "metadata": {},
   "source": [
    "## 2. Конфигурация для подключения к базе данных `telecomm_csi.db`"
   ]
  },
  {
   "cell_type": "code",
   "execution_count": 2,
   "id": "0017f8e7",
   "metadata": {},
   "outputs": [],
   "source": [
    "# путь к БД на вашем компьютере (например, в той же папке, что и тетрадь)\n",
    "path_to_db_local = 'telecomm_csi.db'\n",
    "# путь к БД на платформе\n",
    "path_to_db_platform = '/datasets/telecomm_csi.db'\n",
    "# итоговый путь к БД\n",
    "path_to_db = None\n",
    "\n",
    "# если путь на вашем компьютере ведёт к БД, то он становится итоговым\n",
    "if os.path.exists(path_to_db_local):\n",
    "    path_to_db = path_to_db_local\n",
    "# иначе: если путь на платформе ведёт к БД, то он становится итоговым\n",
    "elif os.path.exists(path_to_db_platform):\n",
    "    path_to_db = path_to_db_platform\n",
    "# иначе выводится сообщение о том, что файл не найден\n",
    "else:\n",
    "    raise Exception('Файл с базой данных SQLite не найден!')\n",
    "\n",
    "# если итоговый путь не пустой\n",
    "if path_to_db:\n",
    "    # то создаём подключение к базе\n",
    "    engine = create_engine(f'sqlite:///{path_to_db}', echo=False)"
   ]
  },
  {
   "cell_type": "markdown",
   "id": "653c8eb7-e95f-4e74-b54d-1caf3bcd3772",
   "metadata": {},
   "source": [
    "## 3. SQL-запрос"
   ]
  },
  {
   "cell_type": "code",
   "execution_count": 3,
   "id": "84ebad43",
   "metadata": {},
   "outputs": [],
   "source": [
    "    # делаем запрос\n",
    "    query = \"\"\"\n",
    "    \n",
    "    SELECT u.user_id,\n",
    "        u.lt_day,\n",
    "        CASE\n",
    "            WHEN u.lt_day <= 365 THEN True\n",
    "            ELSE False\n",
    "        END AS is_new,\n",
    "        u.age,\n",
    "        CASE\n",
    "            WHEN u.gender_segment = 1 THEN 'женщина'\n",
    "            WHEN u.gender_segment = 0 THEN 'мужчина'\n",
    "            ELSE 'Неизвестно'\n",
    "        END AS gender_segment,\n",
    "        u.os_name,\n",
    "        u.cpe_type_name,\n",
    "        l.country,\n",
    "        l.city,\n",
    "        SUBSTR(age.title, 4, 5) AS age_title,  --age.title AS age_title\n",
    "        SUBSTR(ts.title, 4, 8) AS traffic_segment,\n",
    "        SUBSTR(ls.title, 4, 5) AS lifetime_segment,\n",
    "        u.nps_score,\n",
    "        CASE\n",
    "            WHEN u.nps_score >= 9 THEN 'cторонники'\n",
    "            WHEN u.nps_score <= 6 THEN 'критики'\n",
    "            ELSE 'нейтралы'\n",
    "        END AS nps_group\n",
    "        \n",
    "    FROM user AS u\n",
    "        LEFT JOIN location l ON u.location_id = l.location_id\n",
    "        LEFT JOIN age_segment age ON u.age_gr_id = age.age_gr_id\n",
    "        LEFT JOIN traffic_segment ts ON u.tr_gr_id = ts.tr_gr_id\n",
    "        LEFT JOIN lifetime_segment ls ON u.lt_gr_id = ls.lt_gr_id\n",
    "    \n",
    "    \"\"\"\n"
   ]
  },
  {
   "cell_type": "code",
   "execution_count": 4,
   "id": "3965faf2",
   "metadata": {},
   "outputs": [
    {
     "data": {
      "text/html": [
       "<div>\n",
       "<style scoped>\n",
       "    .dataframe tbody tr th:only-of-type {\n",
       "        vertical-align: middle;\n",
       "    }\n",
       "\n",
       "    .dataframe tbody tr th {\n",
       "        vertical-align: top;\n",
       "    }\n",
       "\n",
       "    .dataframe thead th {\n",
       "        text-align: right;\n",
       "    }\n",
       "</style>\n",
       "<table border=\"1\" class=\"dataframe\">\n",
       "  <thead>\n",
       "    <tr style=\"text-align: right;\">\n",
       "      <th></th>\n",
       "      <th>user_id</th>\n",
       "      <th>lt_day</th>\n",
       "      <th>is_new</th>\n",
       "      <th>age</th>\n",
       "      <th>gender_segment</th>\n",
       "      <th>os_name</th>\n",
       "      <th>cpe_type_name</th>\n",
       "      <th>country</th>\n",
       "      <th>city</th>\n",
       "      <th>age_title</th>\n",
       "      <th>traffic_segment</th>\n",
       "      <th>lifetime_segment</th>\n",
       "      <th>nps_score</th>\n",
       "      <th>nps_group</th>\n",
       "    </tr>\n",
       "  </thead>\n",
       "  <tbody>\n",
       "    <tr>\n",
       "      <th>0</th>\n",
       "      <td>A001A2</td>\n",
       "      <td>2320</td>\n",
       "      <td>0</td>\n",
       "      <td>45.0</td>\n",
       "      <td>женщина</td>\n",
       "      <td>ANDROID</td>\n",
       "      <td>SMARTPHONE</td>\n",
       "      <td>Россия</td>\n",
       "      <td>Уфа</td>\n",
       "      <td>45-54</td>\n",
       "      <td>1-5</td>\n",
       "      <td>36+</td>\n",
       "      <td>10</td>\n",
       "      <td>cторонники</td>\n",
       "    </tr>\n",
       "    <tr>\n",
       "      <th>1</th>\n",
       "      <td>A001WF</td>\n",
       "      <td>2344</td>\n",
       "      <td>0</td>\n",
       "      <td>53.0</td>\n",
       "      <td>мужчина</td>\n",
       "      <td>ANDROID</td>\n",
       "      <td>SMARTPHONE</td>\n",
       "      <td>Россия</td>\n",
       "      <td>Киров</td>\n",
       "      <td>45-54</td>\n",
       "      <td>1-5</td>\n",
       "      <td>36+</td>\n",
       "      <td>10</td>\n",
       "      <td>cторонники</td>\n",
       "    </tr>\n",
       "    <tr>\n",
       "      <th>2</th>\n",
       "      <td>A003Q7</td>\n",
       "      <td>467</td>\n",
       "      <td>0</td>\n",
       "      <td>57.0</td>\n",
       "      <td>мужчина</td>\n",
       "      <td>ANDROID</td>\n",
       "      <td>SMARTPHONE</td>\n",
       "      <td>Россия</td>\n",
       "      <td>Москва</td>\n",
       "      <td>55-64</td>\n",
       "      <td>20-25</td>\n",
       "      <td>13-24</td>\n",
       "      <td>10</td>\n",
       "      <td>cторонники</td>\n",
       "    </tr>\n",
       "  </tbody>\n",
       "</table>\n",
       "</div>"
      ],
      "text/plain": [
       "  user_id  lt_day  is_new   age gender_segment  os_name cpe_type_name country  \\\n",
       "0  A001A2    2320       0  45.0        женщина  ANDROID    SMARTPHONE  Россия   \n",
       "1  A001WF    2344       0  53.0        мужчина  ANDROID    SMARTPHONE  Россия   \n",
       "2  A003Q7     467       0  57.0        мужчина  ANDROID    SMARTPHONE  Россия   \n",
       "\n",
       "     city age_title traffic_segment lifetime_segment  nps_score   nps_group  \n",
       "0     Уфа     45-54             1-5              36+         10  cторонники  \n",
       "1   Киров     45-54             1-5              36+         10  cторонники  \n",
       "2  Москва     55-64           20-25            13-24         10  cторонники  "
      ]
     },
     "execution_count": 4,
     "metadata": {},
     "output_type": "execute_result"
    }
   ],
   "source": [
    "# создаём датафрейм по данным запроса\n",
    "df = pd.read_sql(query, engine)\n",
    "df.head(3)"
   ]
  },
  {
   "cell_type": "code",
   "execution_count": 5,
   "id": "ede73bc9",
   "metadata": {},
   "outputs": [
    {
     "name": "stdout",
     "output_type": "stream",
     "text": [
      "<class 'pandas.core.frame.DataFrame'>\n",
      "RangeIndex: 502493 entries, 0 to 502492\n",
      "Data columns (total 14 columns):\n",
      " #   Column            Non-Null Count   Dtype  \n",
      "---  ------            --------------   -----  \n",
      " 0   user_id           502493 non-null  object \n",
      " 1   lt_day            502493 non-null  int64  \n",
      " 2   is_new            502493 non-null  int64  \n",
      " 3   age               501939 non-null  float64\n",
      " 4   gender_segment    502493 non-null  object \n",
      " 5   os_name           502493 non-null  object \n",
      " 6   cpe_type_name     502493 non-null  object \n",
      " 7   country           502493 non-null  object \n",
      " 8   city              502493 non-null  object \n",
      " 9   age_title         502493 non-null  object \n",
      " 10  traffic_segment   502493 non-null  object \n",
      " 11  lifetime_segment  502493 non-null  object \n",
      " 12  nps_score         502493 non-null  int64  \n",
      " 13  nps_group         502493 non-null  object \n",
      "dtypes: float64(1), int64(3), object(10)\n",
      "memory usage: 53.7+ MB\n"
     ]
    }
   ],
   "source": [
    "# посмотрим основную информацию про датасет\n",
    "df.info()"
   ]
  },
  {
   "cell_type": "markdown",
   "id": "0977c065-0e8d-4455-97dc-a313ae1f0f79",
   "metadata": {},
   "source": [
    "## 4. Cохраним дф как .csv-файл"
   ]
  },
  {
   "cell_type": "markdown",
   "id": "8e39e281",
   "metadata": {},
   "source": [
    "**Незначительно пропусков есть только в Возрасте и Гендерном сегменте(М/Ж)**"
   ]
  },
  {
   "cell_type": "code",
   "execution_count": 6,
   "id": "2b925b42",
   "metadata": {},
   "outputs": [],
   "source": [
    "# cохраним полученный датафрейм в \n",
    "df.to_csv('12_telecomm.csv')"
   ]
  },
  {
   "cell_type": "markdown",
   "id": "0a99bec8-60da-45ff-b9da-37697e6c0285",
   "metadata": {},
   "source": [
    "## 5. Сделать дашборд в Tableau + презентацию в pdf"
   ]
  },
  {
   "cell_type": "markdown",
   "id": "98a20a9e",
   "metadata": {},
   "source": [
    "* Ссылка на презентацию pdf:https://disk.yandex.ru/i/Y9H25aSAXP3SUg\n",
    "* Ссылка на Дашборд (продублирована в презентации): https://public.tableau.com/app/profile/alexander2244/viz/NPSTelecomm/NPS_score"
   ]
  }
 ],
 "metadata": {
  "ExecuteTimeLog": [
   {
    "duration": 520,
    "start_time": "2023-04-16T05:48:22.576Z"
   },
   {
    "duration": 95,
    "start_time": "2023-04-16T05:48:25.074Z"
   },
   {
    "duration": 4,
    "start_time": "2023-04-16T05:48:47.478Z"
   },
   {
    "duration": 5393,
    "start_time": "2023-04-16T05:49:14.015Z"
   },
   {
    "duration": 490,
    "start_time": "2023-04-16T05:49:44.413Z"
   },
   {
    "duration": 4458,
    "start_time": "2023-04-16T05:50:06.301Z"
   },
   {
    "duration": 112,
    "start_time": "2023-04-17T03:25:49.836Z"
   },
   {
    "duration": 553,
    "start_time": "2023-04-17T16:15:28.605Z"
   },
   {
    "duration": 96,
    "start_time": "2023-04-17T16:15:29.160Z"
   },
   {
    "duration": 4,
    "start_time": "2023-04-17T16:15:29.258Z"
   },
   {
    "duration": 5631,
    "start_time": "2023-04-17T16:15:29.264Z"
   },
   {
    "duration": 4900,
    "start_time": "2023-04-17T16:15:34.898Z"
   },
   {
    "duration": 536,
    "start_time": "2023-04-17T16:15:39.800Z"
   },
   {
    "duration": 5412,
    "start_time": "2023-04-17T16:15:40.338Z"
   },
   {
    "duration": 5,
    "start_time": "2023-04-17T16:18:25.461Z"
   },
   {
    "duration": 5630,
    "start_time": "2023-04-17T16:18:29.213Z"
   },
   {
    "duration": 536,
    "start_time": "2023-04-17T16:18:44.077Z"
   },
   {
    "duration": 5583,
    "start_time": "2023-04-17T16:33:10.815Z"
   },
   {
    "duration": 5670,
    "start_time": "2023-04-17T16:33:34.715Z"
   },
   {
    "duration": 5589,
    "start_time": "2023-04-17T16:33:57.441Z"
   },
   {
    "duration": 5261,
    "start_time": "2023-04-17T16:34:15.145Z"
   },
   {
    "duration": 5410,
    "start_time": "2023-04-17T16:34:33.322Z"
   },
   {
    "duration": 50,
    "start_time": "2023-04-17T16:36:17.188Z"
   },
   {
    "duration": 613,
    "start_time": "2023-04-17T16:36:30.508Z"
   },
   {
    "duration": 120,
    "start_time": "2023-04-17T16:36:31.124Z"
   },
   {
    "duration": 4,
    "start_time": "2023-04-17T16:36:31.247Z"
   },
   {
    "duration": 6000,
    "start_time": "2023-04-17T16:36:31.252Z"
   },
   {
    "duration": 5134,
    "start_time": "2023-04-17T16:36:37.255Z"
   },
   {
    "duration": 565,
    "start_time": "2023-04-17T16:36:42.402Z"
   },
   {
    "duration": 6290,
    "start_time": "2023-04-17T16:36:42.970Z"
   },
   {
    "duration": 5737,
    "start_time": "2023-04-17T16:37:06.051Z"
   },
   {
    "duration": 103,
    "start_time": "2023-04-17T16:37:27.681Z"
   },
   {
    "duration": 3,
    "start_time": "2023-04-17T16:38:52.700Z"
   },
   {
    "duration": 732,
    "start_time": "2023-04-17T16:38:58.522Z"
   },
   {
    "duration": 3,
    "start_time": "2023-04-17T16:39:11.352Z"
   },
   {
    "duration": 5615,
    "start_time": "2023-04-17T16:39:16.544Z"
   },
   {
    "duration": 94,
    "start_time": "2023-04-17T16:39:27.583Z"
   },
   {
    "duration": 3,
    "start_time": "2023-04-17T16:42:09.214Z"
   },
   {
    "duration": 5464,
    "start_time": "2023-04-17T16:42:13.314Z"
   },
   {
    "duration": 3,
    "start_time": "2023-04-17T16:47:11.125Z"
   },
   {
    "duration": 5995,
    "start_time": "2023-04-17T16:47:14.844Z"
   },
   {
    "duration": 5987,
    "start_time": "2023-04-17T16:47:28.320Z"
   },
   {
    "duration": 101,
    "start_time": "2023-04-17T16:47:36.558Z"
   },
   {
    "duration": 4829,
    "start_time": "2023-04-17T16:47:43.429Z"
   }
  ],
  "kernelspec": {
   "display_name": "Python 3 (ipykernel)",
   "language": "python",
   "name": "python3"
  },
  "language_info": {
   "codemirror_mode": {
    "name": "ipython",
    "version": 3
   },
   "file_extension": ".py",
   "mimetype": "text/x-python",
   "name": "python",
   "nbconvert_exporter": "python",
   "pygments_lexer": "ipython3",
   "version": "3.9.5"
  },
  "toc": {
   "base_numbering": 1,
   "nav_menu": {},
   "number_sections": true,
   "sideBar": true,
   "skip_h1_title": true,
   "title_cell": "Table of Contents",
   "title_sidebar": "Contents",
   "toc_cell": false,
   "toc_position": {},
   "toc_section_display": true,
   "toc_window_display": false
  }
 },
 "nbformat": 4,
 "nbformat_minor": 5
}
